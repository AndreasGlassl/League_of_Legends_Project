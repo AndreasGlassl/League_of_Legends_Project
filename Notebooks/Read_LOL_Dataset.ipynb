{
 "cells": [
  {
   "cell_type": "code",
   "execution_count": 1,
   "metadata": {},
   "outputs": [],
   "source": [
    "import numpy as np\n",
    "import pandas as pd\n",
    "import pickle\n",
    "import matplotlib.pyplot as plt\n",
    "import numpy as np\n",
    "import json\n",
    "import re \n",
    "from pandas.io.json import json_normalize"
   ]
  },
  {
   "cell_type": "code",
   "execution_count": 2,
   "metadata": {},
   "outputs": [],
   "source": [
    "match_df = pd.read_pickle('~/Desktop/lol_data/match_data.pickle')\n",
    "#winner_df =  pd.read_pickle('~/Desktop/lol_data/match_winner_data.pickle')\n",
    "#loser_df = pd.read_pickle('~/Desktop/lol_data/match_loser_data.pickle')"
   ]
  },
  {
   "cell_type": "markdown",
   "metadata": {},
   "source": [
    "# Filter Ranked Games\n",
    "- Only Ranked games (gameMode = Classic)\n",
    "- remove columns not needed\n",
    "- get information on the participants into the df"
   ]
  },
  {
   "cell_type": "code",
   "execution_count": 3,
   "metadata": {
    "scrolled": true
   },
   "outputs": [],
   "source": [
    "match_df = match_df[match_df[\"gameMode\"]==\"CLASSIC\"]"
   ]
  },
  {
   "cell_type": "code",
   "execution_count": 4,
   "metadata": {},
   "outputs": [],
   "source": [
    "match_df = (match_df.drop(columns=[\"status.message\",\"status.status_code\",\n",
    "                                   \"participantIdentities\",\"gameMode\", \n",
    "                                   \"gameType\",\"platformId\", \"seasonId\", \n",
    "                                   \"mapId\",\"queueId\"]))"
   ]
  },
  {
   "cell_type": "code",
   "execution_count": 10,
   "metadata": {},
   "outputs": [],
   "source": [
    "sample = match_df.iloc[:10000][:]"
   ]
  },
  {
   "cell_type": "code",
   "execution_count": 11,
   "metadata": {},
   "outputs": [],
   "source": [
    "sample.reset_index(drop=True, inplace=True)"
   ]
  },
  {
   "cell_type": "code",
   "execution_count": 12,
   "metadata": {},
   "outputs": [],
   "source": [
    "sample.to_pickle('~/Desktop/lol_data/match_01.pickle')"
   ]
  },
  {
   "cell_type": "code",
   "execution_count": 35,
   "metadata": {},
   "outputs": [],
   "source": [
    "sample = pd.read_pickle('~/Desktop/lol_data/match_01.pickle')"
   ]
  },
  {
   "cell_type": "code",
   "execution_count": 4,
   "metadata": {},
   "outputs": [],
   "source": [
    "def parse_participant(participant_dict):\n",
    "    keys_to_keep = [\"participantId\",'teamId','championId','spell1Id','spell2Id']\n",
    "    stats_keys = (['win',\"item0\", \"item1\",\"item2\",\"item3\",\"item4\",\"item5\",\"item6\", \"kills\", \"deaths\", \"assists\",\n",
    "                  \"doubleKills\", \"tripleKills\", \"quadraKills\", \"pentaKills\", \"goldEarned\",\"role\", \"lane\"])\n",
    "    e = {}\n",
    "    for key, value in participant_dict.items():\n",
    "        if key in keys_to_keep:\n",
    "            e[key] = value\n",
    "        elif type(value) == dict:\n",
    "            for key2, value2 in value.items():\n",
    "                if key2 in stats_keys:\n",
    "                    e[key2] = value2\n",
    "                    \n",
    "    return e"
   ]
  },
  {
   "cell_type": "code",
   "execution_count": 5,
   "metadata": {},
   "outputs": [
    {
     "ename": "NameError",
     "evalue": "name 'df' is not defined",
     "output_type": "error",
     "traceback": [
      "\u001b[0;31m---------------------------------------------------------------------------\u001b[0m",
      "\u001b[0;31mNameError\u001b[0m                                 Traceback (most recent call last)",
      "\u001b[0;32m<ipython-input-5-9fc54cea7dbe>\u001b[0m in \u001b[0;36m<module>\u001b[0;34m\u001b[0m\n\u001b[0;32m----> 1\u001b[0;31m \u001b[0;32mfor\u001b[0m \u001b[0mi\u001b[0m \u001b[0;32min\u001b[0m \u001b[0mrange\u001b[0m\u001b[0;34m(\u001b[0m\u001b[0mlen\u001b[0m\u001b[0;34m(\u001b[0m\u001b[0mdf\u001b[0m\u001b[0;34m)\u001b[0m\u001b[0;34m)\u001b[0m\u001b[0;34m:\u001b[0m\u001b[0;34m\u001b[0m\u001b[0;34m\u001b[0m\u001b[0m\n\u001b[0m\u001b[1;32m      2\u001b[0m     \u001b[0md\u001b[0m \u001b[0;34m=\u001b[0m \u001b[0msample\u001b[0m\u001b[0;34m.\u001b[0m\u001b[0mloc\u001b[0m\u001b[0;34m[\u001b[0m\u001b[0mi\u001b[0m\u001b[0;34m,\u001b[0m\u001b[0;34m\"participants\"\u001b[0m\u001b[0;34m]\u001b[0m\u001b[0;34m\u001b[0m\u001b[0;34m\u001b[0m\u001b[0m\n\u001b[1;32m      3\u001b[0m     \u001b[0me\u001b[0m \u001b[0;34m=\u001b[0m \u001b[0;34m[\u001b[0m\u001b[0mparse_participant\u001b[0m\u001b[0;34m(\u001b[0m\u001b[0mpart\u001b[0m\u001b[0;34m)\u001b[0m \u001b[0;32mfor\u001b[0m \u001b[0mpart\u001b[0m \u001b[0;32min\u001b[0m \u001b[0md\u001b[0m\u001b[0;34m]\u001b[0m\u001b[0;34m\u001b[0m\u001b[0;34m\u001b[0m\u001b[0m\n\u001b[1;32m      4\u001b[0m     \u001b[0msample\u001b[0m\u001b[0;34m[\u001b[0m\u001b[0;34m\"participants\"\u001b[0m\u001b[0;34m]\u001b[0m\u001b[0;34m[\u001b[0m\u001b[0mi\u001b[0m\u001b[0;34m]\u001b[0m \u001b[0;34m=\u001b[0m \u001b[0me\u001b[0m\u001b[0;34m\u001b[0m\u001b[0;34m\u001b[0m\u001b[0m\n",
      "\u001b[0;31mNameError\u001b[0m: name 'df' is not defined"
     ]
    }
   ],
   "source": [
    "for i in range(len(sample)):\n",
    "    d = sample.loc[i,\"participants\"]\n",
    "    e = [parse_participant(part) for part in d]\n",
    "    sample[\"participants\"][i] = e"
   ]
  },
  {
   "cell_type": "code",
   "execution_count": 38,
   "metadata": {},
   "outputs": [],
   "source": [
    "sample.to_pickle('~/Desktop/lol_data/match_01.pickle')"
   ]
  },
  {
   "cell_type": "code",
   "execution_count": 48,
   "metadata": {},
   "outputs": [],
   "source": [
    "participants_df = (pd\n",
    "                   .json_normalize(sample[\"participants\"].iloc[0][:])\n",
    "                   .assign(gameDuration = sample.iloc[0][1]\n",
    "                           ,gameId=sample.iloc[0][2]\n",
    "                           ,gameVersion=sample.iloc[0][3]))"
   ]
  },
  {
   "cell_type": "code",
   "execution_count": 3,
   "metadata": {},
   "outputs": [
    {
     "ename": "NameError",
     "evalue": "name 'participants_df' is not defined",
     "output_type": "error",
     "traceback": [
      "\u001b[0;31m---------------------------------------------------------------------------\u001b[0m",
      "\u001b[0;31mNameError\u001b[0m                                 Traceback (most recent call last)",
      "\u001b[0;32m<ipython-input-3-145673410f91>\u001b[0m in \u001b[0;36m<module>\u001b[0;34m\u001b[0m\n\u001b[1;32m      1\u001b[0m \u001b[0;32mfor\u001b[0m \u001b[0mi\u001b[0m \u001b[0;32min\u001b[0m \u001b[0mrange\u001b[0m\u001b[0;34m(\u001b[0m\u001b[0;36m8000\u001b[0m\u001b[0;34m,\u001b[0m\u001b[0;36m10000\u001b[0m\u001b[0;34m)\u001b[0m\u001b[0;34m:\u001b[0m\u001b[0;34m\u001b[0m\u001b[0;34m\u001b[0m\u001b[0m\n\u001b[0;32m----> 2\u001b[0;31m     participants_df = (participants_df\n\u001b[0m\u001b[1;32m      3\u001b[0m                        .append(pd.json_normalize(sample[\"participants\"].iloc[i][:])\n\u001b[1;32m      4\u001b[0m                                                                          .assign(gameDuration = sample.iloc[i][1]\n\u001b[1;32m      5\u001b[0m                                                                          \u001b[0;34m,\u001b[0m\u001b[0mgameId\u001b[0m\u001b[0;34m=\u001b[0m\u001b[0msample\u001b[0m\u001b[0;34m.\u001b[0m\u001b[0miloc\u001b[0m\u001b[0;34m[\u001b[0m\u001b[0mi\u001b[0m\u001b[0;34m]\u001b[0m\u001b[0;34m[\u001b[0m\u001b[0;36m2\u001b[0m\u001b[0;34m]\u001b[0m\u001b[0;34m\u001b[0m\u001b[0;34m\u001b[0m\u001b[0m\n",
      "\u001b[0;31mNameError\u001b[0m: name 'participants_df' is not defined"
     ]
    }
   ],
   "source": [
    "for i in range(8000,10000):\n",
    "    participants_df = (participants_df\n",
    "                       .append(pd.json_normalize(sample[\"participants\"].iloc[i][:])\n",
    "                                                                         .assign(gameDuration = sample.iloc[i][1]\n",
    "                                                                         ,gameId=sample.iloc[i][2]\n",
    "                                                                         ,gameVersion=sample.iloc[i][3]\n",
    "                                                                         ,ignore_index=True)))"
   ]
  },
  {
   "cell_type": "code",
   "execution_count": 57,
   "metadata": {},
   "outputs": [],
   "source": [
    "participants_df.reset_index(drop=True, inplace=True)"
   ]
  },
  {
   "cell_type": "code",
   "execution_count": 58,
   "metadata": {},
   "outputs": [],
   "source": [
    "participants_df.to_csv('~/Desktop/lol_data/match_01.csv', index=False)"
   ]
  },
  {
   "cell_type": "code",
   "execution_count": 59,
   "metadata": {},
   "outputs": [],
   "source": [
    "winner_df =  pd.read_pickle('~/Desktop/lol_data/match_winner_data.pickle')\n",
    "loser_df = pd.read_pickle('~/Desktop/lol_data/match_loser_data.pickle')"
   ]
  },
  {
   "cell_type": "code",
   "execution_count": 61,
   "metadata": {},
   "outputs": [],
   "source": [
    "winner_df.to_csv('~/Desktop/lol_data/match_winner_data.csv')\n",
    "loser_df.to_csv('~/Desktop/lol_data/match_loser_data.csv')"
   ]
  },
  {
   "cell_type": "code",
   "execution_count": null,
   "metadata": {},
   "outputs": [],
   "source": []
  }
 ],
 "metadata": {
  "kernelspec": {
   "display_name": "Python 3",
   "language": "python",
   "name": "python3"
  },
  "language_info": {
   "codemirror_mode": {
    "name": "ipython",
    "version": 3
   },
   "file_extension": ".py",
   "mimetype": "text/x-python",
   "name": "python",
   "nbconvert_exporter": "python",
   "pygments_lexer": "ipython3",
   "version": "3.7.6"
  }
 },
 "nbformat": 4,
 "nbformat_minor": 4
}
