{
 "cells": [
  {
   "cell_type": "code",
   "execution_count": 1,
   "metadata": {},
   "outputs": [],
   "source": [
    "import numpy as np\n",
    "import pandas as pd\n",
    "import pickle\n",
    "import matplotlib.pyplot as plt\n",
    "import numpy as np\n",
    "import json\n",
    "import re \n",
    "import time\n",
    "from pandas.io.json import json_normalize"
   ]
  },
  {
   "cell_type": "markdown",
   "metadata": {},
   "source": [
    "# 1. Reading in the DataFrames:\n",
    "**challengergame** is the players information. \n",
    "\n",
    "**ingame** is the overall game informations."
   ]
  },
  {
   "cell_type": "code",
   "execution_count": 2,
   "metadata": {},
   "outputs": [],
   "source": [
    "challengergame_df = pd.read_csv('../Data/Match_Data/challenger_match.csv')\n",
    "challengergame_df2 = pd.read_csv('../Data/Match_Data/challenger_match_V2.csv')\n",
    "\n",
    "ingame_df = pd.read_pickle('../Data/Match_Data/match_data_version2.pickle')"
   ]
  },
  {
   "cell_type": "code",
   "execution_count": 3,
   "metadata": {},
   "outputs": [],
   "source": [
    "chall_game = pd.concat([challengergame_df,challengergame_df2],axis = 0)\n",
    "chall_game_unique = chall_game.drop_duplicates('gameId')\n",
    "ingame_df['gameId'] = ingame_df['gameId'].astype('int')"
   ]
  },
  {
   "cell_type": "markdown",
   "metadata": {},
   "source": [
    "# 2. Preparing DataFrames for processing:\n",
    "\n",
    "First we concatinate the game informations of challenger players. \n",
    "\n",
    "Then the Dataframe on the unique challenger games which have been played are merged on the gameId."
   ]
  },
  {
   "cell_type": "code",
   "execution_count": 4,
   "metadata": {},
   "outputs": [],
   "source": [
    "chall_match = pd.merge(ingame_df,chall_game_unique[['gameId','accountId']], on = 'gameId', how = 'left')\\\n",
    "                                    .drop(columns=['status.message','status.status_code'])\\\n",
    "                                    .dropna(axis=0)\\\n",
    "                                    .reset_index(drop=True)"
   ]
  },
  {
   "cell_type": "code",
   "execution_count": 5,
   "metadata": {
    "scrolled": true
   },
   "outputs": [],
   "source": [
    "match_df = chall_match[chall_match[\"queueId\"]==420].copy().reset_index(drop=True)"
   ]
  },
  {
   "cell_type": "code",
   "execution_count": 6,
   "metadata": {},
   "outputs": [],
   "source": [
    "champs = pd.read_csv(\"../Data/Champions_Items_Info/champions.csv\")"
   ]
  },
  {
   "cell_type": "markdown",
   "metadata": {},
   "source": [
    "# 3. Functions to properly process the DataFrames and put it into a ML-able DF:"
   ]
  },
  {
   "cell_type": "markdown",
   "metadata": {},
   "source": [
    "## 3.1 Function to shape the DF towards ML. Picking features and putting them into a new DF:"
   ]
  },
  {
   "cell_type": "code",
   "execution_count": 35,
   "metadata": {},
   "outputs": [],
   "source": [
    "def preparing_dataframe(df, lower:int, upper:int):\n",
    "    df_storage = pd.DataFrame()\n",
    "    for i in range(lower,upper):\n",
    "        \n",
    "        ''' Getting macro information on the game: \n",
    "            This is the ID of the game and the duration of the game.\n",
    "        '''\n",
    "        \n",
    "        gameId = df[\"gameId\"].iloc[i]\n",
    "        gameDuration = df[\"gameDuration\"].iloc[i]\n",
    "        \n",
    "        ''' \n",
    "        Now looking into the teams statistics, where we want to get information on \n",
    "        first blood, first tower, first dragon. If this is True for team \"Blue\", \n",
    "        the value will be set to 1, otherwise it will be set to 0\n",
    "        '''\n",
    "        \n",
    "        blueWins = np.where(df['teams'].iloc[i][0]['win']==\"Win\", 1, 0)\n",
    "        firstblood_blue = np.where(df['teams'].iloc[i][0]['firstBlood']==True,1,0)\n",
    "        firstTower_blue = np.where(df['teams'].iloc[i][0]['firstTower']==True,1,0)\n",
    "        firstDragon_blue = np.where(df['teams'].iloc[i][0]['firstDragon']==True,1,0)     \n",
    "        \n",
    "        '''\n",
    "        Now taking the number of objectives which have been taken by the team:\n",
    "        '''\n",
    "        \n",
    "        for j in range(len(df['teams'].iloc[i])):\n",
    "            if df[\"teams\"].iloc[i][j]['teamId']==100:\n",
    "                dragons_blue = df['teams'].iloc[i][j]['dragonKills']\n",
    "                barons_blue = df['teams'].iloc[i][j]['baronKills']\n",
    "                towers_blue = df['teams'].iloc[i][j]['towerKills']\n",
    "                inhibs_blue = df['teams'].iloc[i][j]['inhibitorKills']\n",
    "            else:\n",
    "                dragons_red = df['teams'].iloc[i][j]['dragonKills']\n",
    "                barons_red = df['teams'].iloc[i][j]['baronKills']\n",
    "                towers_red = df['teams'].iloc[i][j]['towerKills']\n",
    "                inhibs_red = df['teams'].iloc[i][j]['inhibitorKills']\n",
    "            \n",
    "        \n",
    "        '''\n",
    "        Now looking into the different participants\n",
    "        In there we want to get information on average gold/minute and exp/minute for the early game\n",
    "        '''\n",
    "        champion_list_blue = []\n",
    "        champion_list_red = []\n",
    "        \n",
    "        gold_per_minute_blue = 0\n",
    "        xp_per_minute_blue = 0\n",
    "        cs_per_minute_blue = 0\n",
    "        damage_taken_per_minute_blue = 0\n",
    "\n",
    "        gold_per_minute_red = 0\n",
    "        xp_per_minute_red = 0\n",
    "        cs_per_minute_red = 0\n",
    "        damage_taken_per_minute_red = 0\n",
    "        \n",
    "        \n",
    "         '''blue team : 100'''\n",
    "        wardplace_blue = 0\n",
    "        wardkill_blue = 0\n",
    "        champkill_blue = 0\n",
    "        champdeath_blue = 0\n",
    "        champassist_blue = 0\n",
    "        damage_blue = 0\n",
    "        gold_blue = 0\n",
    "        minion_blue = 0\n",
    "        level_blue = 0\n",
    "        jungleminion_blue = 0\n",
    "        killingspree_blue = 0\n",
    "        heal_blue = 0\n",
    "        objectdamage_blue = 0\n",
    "\n",
    "        '''red team : 200'''\n",
    "        wardplace_red = 0\n",
    "        wardkill_red = 0\n",
    "        champkill_red = 0\n",
    "        champdeath_red = 0\n",
    "        champassist_red = 0\n",
    "        damage_red = 0\n",
    "        gold_red = 0\n",
    "        minion_red = 0\n",
    "        level_red = 0\n",
    "        jungleminion_red = 0\n",
    "        killingspree_red = 0\n",
    "        heal__red = 0\n",
    "        objectdamage_red = 0\n",
    "        for i in range(len(chall_match['participants'].iloc[x])):\n",
    "\n",
    "            if chall_match['participants'].iloc[x][i]['teamId'] == 100:\n",
    "                try:\n",
    "                    wardplace0 = chall_match['participants'].iloc[i][j]['stats']['wardsPlaced']\n",
    "                except:\n",
    "                    wardplace0 = 0\n",
    "                try:\n",
    "                    wardkill0 = chall_match['participants'].iloc[i][j]['stats']['wardsKilled']\n",
    "                except:\n",
    "                    wardkill0 = 0\n",
    "                try:\n",
    "                    champkill0 = chall_match['participants'].iloc[i][j]['stats']['kills']\n",
    "                except:\n",
    "                    champkill0 = 0\n",
    "                try:\n",
    "                    champdeath0 = chall_match['participants'].iloc[i][j]['stats']['deaths']\n",
    "                except:\n",
    "                    champdeath0 = 0\n",
    "                try:\n",
    "                    champassist0 = chall_match['participants'].iloc[i][j]['stats']['assists']\n",
    "                except:\n",
    "                    champassist0 = 0\n",
    "                try:\n",
    "                    damage0 = chall_match['participants'].iloc[i][j]['stats']['totalDamageDealtToChampions']\n",
    "                except:\n",
    "                    damage0 = 0\n",
    "                try:\n",
    "                    gold0 = chall_match['participants'].iloc[i][j]['stats']['goldEarned']\n",
    "                except:\n",
    "                    gold0 = 0\n",
    "                try:\n",
    "                    minion0 = chall_match['participants'].iloc[i][j]['stats']['totalMinionsKilled']\n",
    "                except:\n",
    "                    minion0 = 0\n",
    "                try:\n",
    "                    level0 = chall_match['participants'].iloc[i][j]['stats']['champLevel']\n",
    "                except:\n",
    "                    level0 = 0\n",
    "                try:\n",
    "                    jungleminion0 = chall_match['participants'].iloc[i][j]['stats']['neutralMinionsKilled']\n",
    "                except:\n",
    "                    jungleminion0 = 0\n",
    "                try:\n",
    "                    killingspree0 = chall_match['participants'].iloc[i][j]['stats']['killingSprees']\n",
    "                except:\n",
    "                    killingspree0 = 0\n",
    "                try:\n",
    "                    heal0 = chall_match['participants'].iloc[i][j]['stats']['totalHeal']\n",
    "                except:\n",
    "                    heal0 = 0\n",
    "                try:\n",
    "                    objectdamage0 = chall_match['participants'].iloc[x][i]['stats']['damageDealtToObjectives']\n",
    "                except:\n",
    "                    objectdamage0 = 0\n",
    "\n",
    "                wardplace_blue += wardplace0\n",
    "                wardkill_blue += wardkill0\n",
    "                champkill_blue += champkill0\n",
    "                champdeath_blue += champdeath0\n",
    "                champassist_blue += champassist0\n",
    "                damage_blue += damage0\n",
    "                gold_blue += gold0\n",
    "                minion_blue += minion0\n",
    "                level_blue += level0\n",
    "                jungleminion_blue += jungleminion0\n",
    "                killingspree_blue += killingspree0\n",
    "                heal_blue += heal0\n",
    "                objectdamage_blue += objectdamage0\n",
    "            else:\n",
    "\n",
    "                try:\n",
    "                    wardplace0 = chall_match['participants'].iloc[i][j]['stats']['wardsPlaced']\n",
    "                except:\n",
    "                    wardplace0 = 0\n",
    "\n",
    "                try:\n",
    "                    wardkill0 = chall_match['participants'].iloc[i][j]['stats']['wardsKilled']\n",
    "                except:\n",
    "                    wardkill0 = 0\n",
    "                try:\n",
    "                    champkill0 = chall_match['participants'].iloc[i][j]['stats']['kills']\n",
    "                except:\n",
    "                    champkill0 = 0\n",
    "                try:\n",
    "                    champdeath0 = chall_match['participants'].iloc[i][j]['stats']['deaths']\n",
    "                except:\n",
    "                    champdeath0 = 0\n",
    "                try:\n",
    "                    champassist0 = chall_match['participants'].iloc[i][j]['stats']['assists']\n",
    "                except:\n",
    "                    champassist0 = 0\n",
    "                try:\n",
    "                    damage0 = chall_match['participants'].iloc[i][j]['stats']['totalDamageDealtToChampions']\n",
    "                except:\n",
    "                    damage0 = 0\n",
    "                try:\n",
    "                    gold0 = chall_match['participants'].iloc[i][j]['stats']['goldEarned']\n",
    "                except:\n",
    "                    gold0 = 0\n",
    "                try:\n",
    "                    minion0 = chall_match['participants'].iloc[i][j]['stats']['totalMinionsKilled']\n",
    "                except:\n",
    "                    minion0 = 0\n",
    "                try:\n",
    "                    level0 = chall_match['participants'].iloc[i][j]['stats']['champLevel']\n",
    "                except:\n",
    "                    level0 = 0\n",
    "                try:\n",
    "                    jungleminion0 = chall_match['participants'].iloc[i][j]['stats']['neutralMinionsKilled']\n",
    "                except:\n",
    "                    jungleminion0 = 0\n",
    "                try:\n",
    "                    killingspree0 = chall_match['participants'].iloc[i][j]['stats']['killingSprees']\n",
    "                except:\n",
    "                    killingspree0 = 0\n",
    "                try:\n",
    "                    heal0 = chall_match['participants'].iloc[i][j]['stats']['totalHeal']\n",
    "                except:\n",
    "                    heal0 = 0\n",
    "                try:\n",
    "                    objectdamage0 = chall_match['participants'].iloc[i][j]['stats']['damageDealtToObjectives']\n",
    "                except:\n",
    "                    objectdamage0 = 0\n",
    "\n",
    "\n",
    "                wardplace_red += wardplace0\n",
    "                wardkill_red += wardkill0\n",
    "                champkill_red += champkill0\n",
    "                champdeath_red += champdeath0\n",
    "                champassist_red += champassist0\n",
    "                damage_red += damage0\n",
    "                gold_red += gold0\n",
    "                minion_red += minion0\n",
    "                level_red += level0\n",
    "                jungleminion_red += jungleminion0\n",
    "                killingspree_red += killingspree0\n",
    "                heal_red += heal0\n",
    "                objectdamage_red += objectdamage0\n",
    "\n",
    "\n",
    "        \n",
    "        for j in range(len(df[\"participants\"].iloc[i])):\n",
    "            if df[\"participants\"].iloc[i][j][\"teamId\"]==100:\n",
    "                champion_list_blue.append(df[\"participants\"].iloc[i][j][\"championId\"])\n",
    "                try:\n",
    "                    gpm = df[\"participants\"].iloc[i][j][\"timeline\"][\"goldPerMinDeltas\"][\"0-10\"]\n",
    "                except:\n",
    "                    gpm = 0\n",
    "                try:\n",
    "                    xpm = df[\"participants\"].iloc[i][j][\"timeline\"][\"xpPerMinDeltas\"][\"0-10\"]\n",
    "                except:\n",
    "                    xpm = 0\n",
    "                try:\n",
    "                    cspm = df[\"participants\"].iloc[i][j][\"timeline\"][\"creepsPerMinDeltas\"][\"0-10\"]\n",
    "                except:\n",
    "                    cspm = 0\n",
    "                try:\n",
    "                    dtpm = df[\"participants\"].iloc[i][j][\"timeline\"][\"damageTakenPerMinDeltas\"][\"0-10\"]\n",
    "                except:\n",
    "                    dtpm = 0\n",
    "                    \n",
    "                gold_per_minute_blue += gpm\n",
    "                xp_per_minute_blue += xpm\n",
    "                cs_per_minute_blue += cspm\n",
    "                damage_taken_per_minute_blue += dtpm \n",
    "            else:\n",
    "                champion_list_red.append(df[\"participants\"].iloc[i][j][\"championId\"])\n",
    "                try:\n",
    "                    gpm = df[\"participants\"].iloc[i][j][\"timeline\"][\"goldPerMinDeltas\"][\"0-10\"]\n",
    "                except:\n",
    "                    gpm = 0\n",
    "                try:\n",
    "                    xpm = df[\"participants\"].iloc[i][j][\"timeline\"][\"xpPerMinDeltas\"][\"0-10\"]\n",
    "                except:\n",
    "                    xpm = 0\n",
    "                try:\n",
    "                    cspm = df[\"participants\"].iloc[i][j][\"timeline\"][\"creepsPerMinDeltas\"][\"0-10\"]\n",
    "                except:\n",
    "                    cspm = 0\n",
    "                try:\n",
    "                    dtpm = df[\"participants\"].iloc[i][j][\"timeline\"][\"damageTakenPerMinDeltas\"][\"0-10\"]\n",
    "                except:\n",
    "                    dtpm = 0\n",
    "                    \n",
    "                gold_per_minute_red += gpm\n",
    "                xp_per_minute_red += xpm\n",
    "                cs_per_minute_red += cspm\n",
    "                damage_taken_per_minute_red += dtpm \n",
    "        \n",
    "                \n",
    "        global_result = [int(gameId), int(gameDuration), int(blueWins), int(firstblood_blue),\\\n",
    "                        int(firstTower_blue), int(firstDragon_blue)]\n",
    "        \n",
    "        champion_list = [champion_list_blue, champion_list_red]\n",
    "        \n",
    "        blue_data = [gold_per_minute_blue, xp_per_minute_blue,\\\n",
    "                     int(cs_per_minute_blue), int(damage_taken_per_minute_blue),\\\n",
    "                     dragons_blue, int(barons_blue), int(towers_blue),\\\n",
    "                     int(inhibs_blue)]\n",
    "             \n",
    "        red_data = [int(gold_per_minute_red), int(xp_per_minute_red),\\\n",
    "                    int(cs_per_minute_red), int(damage_taken_per_minute_red),\\\n",
    "                    int(dragons_red), int(barons_red), int(towers_red),\\\n",
    "                    int(inhibs_red)]\n",
    "        \n",
    "        all_data = np.array([global_result+ champion_list+ blue_data+red_data])\n",
    "        \n",
    "        columns_list = [\"gameId\", \"gameDuration\", \"blueWins\",\"First Blood\",\\\n",
    "                        \"First Tower\", \"First Dragon\",\"champion_list_blue\",\\\n",
    "                        \"champion_list_red\", \"gpm_blue\", \"xp_pm_blue\",\\\n",
    "                        \"cs_pm_blue\", \"dmg_taken_blue\",\"dragons_blue\", \"barons_blue\",\\\n",
    "                        \"towers_blue\", \"inhibs_blue\", \"gpm_red\",\"xp_pm_red\",\\\n",
    "                        \"cs_pm_red\", \"dmg_taken_red\", \"dragons_red\", \"barons_red\",\\\n",
    "                        \"towers_red\", \"inhibs_red\"]\n",
    "        \n",
    "        row_df = pd.DataFrame(all_data, columns = columns_list)\n",
    "        \n",
    "        df_storage = df_storage.append(row_df)\n",
    "    return df_storage"
   ]
  },
  {
   "cell_type": "markdown",
   "metadata": {},
   "source": [
    "## 3.2 Processing the DF:\n",
    "As this takes a while and if you take too many weight with you, it will kill your computer (if you dont have the proper specs to work with large data).\n",
    "\n",
    "Therefore, the read in will be put into a function to take the DF and piece by piece put it in the prepared df."
   ]
  },
  {
   "cell_type": "code",
   "execution_count": 36,
   "metadata": {},
   "outputs": [],
   "source": [
    "prepared_df = pd.DataFrame()"
   ]
  },
  {
   "cell_type": "code",
   "execution_count": 37,
   "metadata": {},
   "outputs": [],
   "source": [
    "def processing_df(df, splitter=1):\n",
    "    '''\n",
    "    '''\n",
    "    prepared_df = pd.DataFrame()\n",
    "    stepsize = len(df)/splitter\n",
    "    for i in range(splitter):\n",
    "        lower = int(i*stepsize)\n",
    "        upper = int((i+1)*stepsize)\n",
    "        prepared_df = prepared_df.append(preparing_dataframe(df,lower,upper))\n",
    "        print(i)\n",
    "    return prepared_df"
   ]
  },
  {
   "cell_type": "code",
   "execution_count": 38,
   "metadata": {
    "scrolled": true
   },
   "outputs": [
    {
     "name": "stdout",
     "output_type": "stream",
     "text": [
      "0\n",
      "1\n",
      "2\n",
      "3\n",
      "4\n",
      "5\n",
      "6\n",
      "7\n",
      "8\n",
      "9\n",
      "10\n",
      "11\n",
      "12\n"
     ]
    }
   ],
   "source": [
    "processed_df = processing_df(match_df,splitter=13)"
   ]
  },
  {
   "cell_type": "code",
   "execution_count": null,
   "metadata": {},
   "outputs": [],
   "source": [
    "working_df = processed_df.copy()"
   ]
  },
  {
   "cell_type": "code",
   "execution_count": null,
   "metadata": {},
   "outputs": [],
   "source": [
    "for i in range(len(working_df)):\n",
    "    working_df[\"champion_list_blue\"].iloc[i] = [eval(champs[champs[\"key\"]==champion].iloc[0,2])\\\n",
    "                                                for champion in working_df[\"champion_list_blue\"].iloc[i]]\n",
    "    working_df[\"champion_list_red\"].iloc[i] = [eval(champs[champs[\"key\"]==champion].iloc[0,2])\\\n",
    "                                                for champion in working_df[\"champion_list_red\"].iloc[i]]\n",
    "    if i%2000==0:\n",
    "        print(i)"
   ]
  },
  {
   "cell_type": "code",
   "execution_count": null,
   "metadata": {},
   "outputs": [],
   "source": [
    "working_df.head()"
   ]
  },
  {
   "cell_type": "code",
   "execution_count": null,
   "metadata": {},
   "outputs": [],
   "source": [
    "working_df.shape"
   ]
  },
  {
   "cell_type": "code",
   "execution_count": null,
   "metadata": {},
   "outputs": [],
   "source": [
    "champs_list = []\n",
    "for i in range(len(champs)):\n",
    "    [champs_list.append(tag) for tag in eval(champs[\"tags\"].loc[i]) if tag not in champs_list]"
   ]
  },
  {
   "cell_type": "code",
   "execution_count": null,
   "metadata": {},
   "outputs": [],
   "source": [
    "champs_list"
   ]
  },
  {
   "cell_type": "markdown",
   "metadata": {},
   "source": [
    "# Creating a Column to count each type of champion + the team "
   ]
  },
  {
   "cell_type": "code",
   "execution_count": null,
   "metadata": {},
   "outputs": [],
   "source": [
    "for item in champs_list:\n",
    "    working_df[item+\"_blue\"]=0\n",
    "    working_df[item+\"_red\"]=0"
   ]
  },
  {
   "cell_type": "code",
   "execution_count": null,
   "metadata": {},
   "outputs": [],
   "source": [
    "for i in range(len(working_df)):\n",
    "    '''\n",
    "    First process the blue champion types:\n",
    "    '''\n",
    "    for j in range(len(working_df[\"champion_list_blue\"].iloc[i])):\n",
    "        if \"Fighter\" in working_df[\"champion_list_blue\"].iloc[i][j]:\n",
    "            working_df[\"Fighter_blue\"].iloc[i]+=1\n",
    "            \n",
    "        if \"Tank\" in working_df[\"champion_list_blue\"].iloc[i][j]:\n",
    "            working_df[\"Tank_blue\"].iloc[i]+=1\n",
    "            \n",
    "        if \"Mage\" in working_df[\"champion_list_blue\"].iloc[i][j]:\n",
    "            working_df[\"Mage_blue\"].iloc[i]+=1\n",
    "            \n",
    "        if \"Assasin\" in working_df[\"champion_list_blue\"].iloc[i][j]:\n",
    "            working_df[\"Assasin_blue\"].iloc[i]+=1\n",
    "            \n",
    "        if \"Support\" in working_df[\"champion_list_blue\"].iloc[i][j]:\n",
    "            working_df[\"Support_blue\"].iloc[i]+=1\n",
    "            \n",
    "        if \"Marksman\" in working_df[\"champion_list_blue\"].iloc[i][j]:\n",
    "            working_df[\"Marksman_blue\"].iloc[i]+=1\n",
    "            \n",
    "    '''\n",
    "    Then do the same with the red champions\n",
    "    '''\n",
    "    for j in range(len(working_df[\"champion_list_red\"].iloc[i])):\n",
    "        if \"Fighter\" in working_df[\"champion_list_red\"].iloc[i][j]:\n",
    "            working_df[\"Fighter_red\"].iloc[i]+=1\n",
    "            \n",
    "        if \"Tank\" in working_df[\"champion_list_red\"].iloc[i][j]:\n",
    "            working_df[\"Tank_red\"].iloc[i]+=1\n",
    "            \n",
    "        if \"Mage\" in working_df[\"champion_list_red\"].iloc[i][j]:\n",
    "            working_df[\"Mage_red\"].iloc[i]+=1\n",
    "            \n",
    "        if \"Assasin\" in working_df[\"champion_list_red\"].iloc[i][j]:\n",
    "            working_df[\"Assasin_red\"].iloc[i]+=1\n",
    "            \n",
    "        if \"Support\" in working_df[\"champion_list_red\"].iloc[i][j]:\n",
    "            working_df[\"Support_red\"].iloc[i]+=1\n",
    "            \n",
    "        if \"Marksman\" in working_df[\"champion_list_red\"].iloc[i][j]:\n",
    "            working_df[\"Marksman_red\"].iloc[i]+=1\n"
   ]
  },
  {
   "cell_type": "code",
   "execution_count": null,
   "metadata": {},
   "outputs": [],
   "source": [
    "working_df = working_df.drop(columns=[\"champion_list_blue\",\"champion_list_red\"])"
   ]
  },
  {
   "cell_type": "code",
   "execution_count": null,
   "metadata": {},
   "outputs": [],
   "source": [
    "working_df=working_df.reset_index(drop=True)"
   ]
  },
  {
   "cell_type": "code",
   "execution_count": null,
   "metadata": {},
   "outputs": [],
   "source": [
    "working_df[\"First Blood\"]=working_df[\"First Blood\"].astype(int)"
   ]
  },
  {
   "cell_type": "code",
   "execution_count": null,
   "metadata": {},
   "outputs": [],
   "source": [
    "working_df[\"First Tower\"]=working_df[\"First Tower\"].astype(int)"
   ]
  },
  {
   "cell_type": "code",
   "execution_count": null,
   "metadata": {},
   "outputs": [],
   "source": [
    "working_df[\"First Dragon\"]=working_df[\"First Dragon\"].astype(int)"
   ]
  },
  {
   "cell_type": "code",
   "execution_count": null,
   "metadata": {},
   "outputs": [],
   "source": [
    "working_df[\"blueWins\"]=working_df[\"blueWins\"].astype(int)"
   ]
  },
  {
   "cell_type": "code",
   "execution_count": null,
   "metadata": {},
   "outputs": [],
   "source": [
    "working_df.dtypes"
   ]
  },
  {
   "cell_type": "code",
   "execution_count": null,
   "metadata": {},
   "outputs": [],
   "source": [
    "num_cols = [\"gpm_blue\", \"xp_pm_blue\", \"cs_pm_blue\", \"dmg_taken_blue\",\\\n",
    "            \"gpm_red\", \"xp_pm_red\", \"cs_pm_red\", \"dmg_taken_red\"]"
   ]
  },
  {
   "cell_type": "code",
   "execution_count": null,
   "metadata": {},
   "outputs": [],
   "source": [
    "from sklearn.preprocessing import StandardScaler"
   ]
  },
  {
   "cell_type": "code",
   "execution_count": null,
   "metadata": {},
   "outputs": [],
   "source": [
    "std = StandardScaler()\n",
    "scaled_fit = std.fit(working_df[num_cols])"
   ]
  },
  {
   "cell_type": "code",
   "execution_count": null,
   "metadata": {},
   "outputs": [],
   "source": [
    "scaled = pd.DataFrame(scaled_fit.transform(working_df[num_cols]), columns=num_cols)\n",
    "\n",
    "working_df = working_df.drop(columns=num_cols, axis=1)\n",
    "working_df = working_df.merge(scaled, left_index=True, right_index=True, how=\"inner\")"
   ]
  },
  {
   "cell_type": "code",
   "execution_count": null,
   "metadata": {},
   "outputs": [],
   "source": [
    "train_cols=working_df.columns.to_list()"
   ]
  },
  {
   "cell_type": "code",
   "execution_count": null,
   "metadata": {},
   "outputs": [],
   "source": [
    "train_cols.remove(\"blueWins\")"
   ]
  },
  {
   "cell_type": "code",
   "execution_count": null,
   "metadata": {},
   "outputs": [],
   "source": [
    "train_cols.remove(\"gameDuration\")"
   ]
  },
  {
   "cell_type": "code",
   "execution_count": null,
   "metadata": {},
   "outputs": [],
   "source": [
    "\"blueWins\" in train_cols"
   ]
  },
  {
   "cell_type": "code",
   "execution_count": null,
   "metadata": {},
   "outputs": [],
   "source": [
    "target_col = \"blueWins\""
   ]
  },
  {
   "cell_type": "code",
   "execution_count": null,
   "metadata": {},
   "outputs": [],
   "source": [
    "train_cols.remove(\"gameId\")"
   ]
  },
  {
   "cell_type": "code",
   "execution_count": null,
   "metadata": {},
   "outputs": [],
   "source": [
    "from sklearn.model_selection import train_test_split\n",
    "train, test = train_test_split(working_df, test_size=.2, random_state=3)\n",
    "\n",
    "train_X = train[train_cols].reset_index(drop=True)\n",
    "train_y = train[target_col].reset_index(drop=True)\n",
    "test_X = test[train_cols].reset_index(drop=True)\n",
    "test_y = test[target_col].reset_index(drop=True)"
   ]
  },
  {
   "cell_type": "code",
   "execution_count": null,
   "metadata": {},
   "outputs": [],
   "source": [
    "train_X.dtypes"
   ]
  },
  {
   "cell_type": "code",
   "execution_count": null,
   "metadata": {},
   "outputs": [],
   "source": [
    "def evaluate_model(train_X, train_y, test_X, test_y, model):\n",
    "    ml_model = model\n",
    "    ml_model.fit(train_X, train_y)\n",
    "    \n",
    "    predictions = ml_model.predict(test_X)\n",
    "    acc = accuracy_score(test_y, predictions)\n",
    "    \n",
    "    print(f\"Our model achieved an accuracy of {acc}\")"
   ]
  },
  {
   "cell_type": "code",
   "execution_count": null,
   "metadata": {},
   "outputs": [],
   "source": [
    "from sklearn.linear_model import LogisticRegression\n",
    "from sklearn.metrics import accuracy_score"
   ]
  },
  {
   "cell_type": "code",
   "execution_count": null,
   "metadata": {},
   "outputs": [],
   "source": [
    "evaluate_model(train_X, train_y, test_X, test_y, LogisticRegression())"
   ]
  },
  {
   "cell_type": "code",
   "execution_count": null,
   "metadata": {},
   "outputs": [],
   "source": [
    "from sklearn.tree import DecisionTreeClassifier\n",
    "from sklearn.ensemble import RandomForestClassifier\n",
    "from sklearn.linear_model import SGDClassifier"
   ]
  },
  {
   "cell_type": "code",
   "execution_count": null,
   "metadata": {},
   "outputs": [],
   "source": [
    "evaluate_model(train_X, train_y, test_X, test_y, DecisionTreeClassifier())"
   ]
  },
  {
   "cell_type": "code",
   "execution_count": null,
   "metadata": {},
   "outputs": [],
   "source": [
    "evaluate_model(train_X, train_y, test_X, test_y, RandomForestClassifier(n_estimators=100))"
   ]
  },
  {
   "cell_type": "code",
   "execution_count": null,
   "metadata": {},
   "outputs": [],
   "source": [
    "evaluate_model(train_X, train_y, test_X, test_y, SGDClassifier())"
   ]
  },
  {
   "cell_type": "code",
   "execution_count": null,
   "metadata": {},
   "outputs": [],
   "source": [
    "from sklearn.feature_selection import RFECV\n",
    "from sklearn.model_selection import cross_validate"
   ]
  },
  {
   "cell_type": "code",
   "execution_count": null,
   "metadata": {},
   "outputs": [],
   "source": [
    "models = {\"Logistic Regression\": LogisticRegression(),\n",
    "          \"Decision Tree\": DecisionTreeClassifier(random_state=42),\n",
    "          \"Random Forest\": RandomForestClassifier(n_estimators=100, n_jobs=-1)}"
   ]
  },
  {
   "cell_type": "code",
   "execution_count": null,
   "metadata": {},
   "outputs": [],
   "source": [
    "def validate_model(model, X):\n",
    "    validation_results = cross_validate(model,\n",
    "                                        X,\n",
    "                                        train_y.values.ravel(),\n",
    "                                        cv=5,\n",
    "                                        scoring=\"balanced_accuracy\")\n",
    "    acc = validation_results[\"test_score\"].mean()\n",
    "    print(f\"Balanced Mean Accuracy Score: {acc}\")"
   ]
  },
  {
   "cell_type": "code",
   "execution_count": null,
   "metadata": {},
   "outputs": [],
   "source": [
    "def evaluate_models(models, X):\n",
    "    for key, value in models.items():\n",
    "        print(f\"Model: {key}\")\n",
    "        validate_model(value, X)\n",
    "        print(\"--------------\\n\")"
   ]
  },
  {
   "cell_type": "code",
   "execution_count": null,
   "metadata": {},
   "outputs": [],
   "source": [
    "evaluate_models(models, train_X)"
   ]
  },
  {
   "cell_type": "code",
   "execution_count": null,
   "metadata": {},
   "outputs": [],
   "source": [
    "selector_rf = RFECV(models[\"Random Forest\"],\n",
    "                    cv=5,\n",
    "                    scoring=\"balanced_accuracy\")"
   ]
  },
  {
   "cell_type": "code",
   "execution_count": null,
   "metadata": {},
   "outputs": [],
   "source": [
    "selector_rf.fit(train_X, train_y)"
   ]
  },
  {
   "cell_type": "code",
   "execution_count": null,
   "metadata": {},
   "outputs": [],
   "source": [
    "selector_rf.get_support()"
   ]
  },
  {
   "cell_type": "code",
   "execution_count": null,
   "metadata": {},
   "outputs": [],
   "source": [
    "train_X.columns"
   ]
  },
  {
   "cell_type": "code",
   "execution_count": null,
   "metadata": {},
   "outputs": [],
   "source": [
    "train_X2 = train_X[train_X.columns[selector_rf.get_support()]]"
   ]
  },
  {
   "cell_type": "code",
   "execution_count": null,
   "metadata": {},
   "outputs": [],
   "source": [
    "evaluate_models(models, train_X2)"
   ]
  },
  {
   "cell_type": "code",
   "execution_count": null,
   "metadata": {},
   "outputs": [],
   "source": [
    "models"
   ]
  },
  {
   "cell_type": "code",
   "execution_count": null,
   "metadata": {},
   "outputs": [],
   "source": [
    "models[\"Random Forest\"] = RandomForestClassifier(n_estimators=500, n_jobs=-1)"
   ]
  },
  {
   "cell_type": "code",
   "execution_count": null,
   "metadata": {},
   "outputs": [],
   "source": [
    "selector_rf2 = RFECV(models[\"Random Forest\"],\n",
    "                     cv=5,\n",
    "                     scoring=\"balanced_accuracy\")\n",
    "selector_rf.fit(train_X, train_y)\n",
    "train_X3 = train_X[train_X.columns[selector_rf.get_support()]]"
   ]
  },
  {
   "cell_type": "code",
   "execution_count": null,
   "metadata": {},
   "outputs": [],
   "source": [
    "evaluate_models(models, train_X3)"
   ]
  },
  {
   "cell_type": "code",
   "execution_count": null,
   "metadata": {},
   "outputs": [],
   "source": [
    "from sklearn.model_selection import GridSearchCV"
   ]
  },
  {
   "cell_type": "code",
   "execution_count": null,
   "metadata": {},
   "outputs": [],
   "source": [
    "param_grid_rf = {\"n_estimators\": [500, 1000],\n",
    "                 \"criterion\": [\"gini\", \"entropy\"],\n",
    "                 \"bootstrap\": [True, False],\n",
    "                 \"max_depth\": [3, 10, None],\n",
    "                 \"min_samples_leaf\": [10, 30, 50, None]}\n",
    "\n",
    "tune_rf = GridSearchCV(RandomForestClassifier(),\n",
    "                       param_grid=param_grid_rf,\n",
    "                       cv=3,\n",
    "                       scoring=\"balanced_accuracy\",\n",
    "                       n_jobs=-1)\n",
    "\n",
    "tune_rf.fit(train_X3, train_y)"
   ]
  },
  {
   "cell_type": "code",
   "execution_count": null,
   "metadata": {},
   "outputs": [],
   "source": [
    "tune_rf.best_params_"
   ]
  },
  {
   "cell_type": "code",
   "execution_count": null,
   "metadata": {},
   "outputs": [],
   "source": [
    "validate_model(RandomForestClassifier(**tune_rf.best_params_), train_X3)"
   ]
  },
  {
   "cell_type": "code",
   "execution_count": null,
   "metadata": {},
   "outputs": [],
   "source": [
    "\n",
    "train_X3 = train_X[train_X.columns[selector_rf.get_support()]]\n",
    "rf_model = RandomForestClassifier(**tune_rf.best_params_)\n",
    "rf_model.fit(train_X3, train_y)\n",
    "\n",
    "test_X3 = test_X[test_X.columns[selector_rf.get_support()]]\n",
    "rf_pred = rf_model.predict(test_X3)"
   ]
  },
  {
   "cell_type": "code",
   "execution_count": null,
   "metadata": {},
   "outputs": [],
   "source": [
    "evaluate_models(models, train_X3)"
   ]
  },
  {
   "cell_type": "code",
   "execution_count": null,
   "metadata": {},
   "outputs": [],
   "source": [
    "gameId             object\n",
    "gameDuration       object\n",
    "blueWins            int64\n",
    "First Blood         int64\n",
    "First Tower         int64\n",
    "First Dragon        int64\n",
    "Fighter_blue        int64\n",
    "Fighter_red         int64\n",
    "Tank_blue           int64\n",
    "Tank_red            int64\n",
    "Mage_blue           int64\n",
    "Mage_red            int64\n",
    "Assassin_blue       int64\n",
    "Assassin_red        int64\n",
    "Support_blue        int64\n",
    "Support_red         int64\n",
    "Marksman_blue       int64\n",
    "Marksman_red        int64\n",
    "gpm_blue          float64\n",
    "xp_pm_blue        float64\n",
    "cs_pm_blue        float64\n",
    "dmg_taken_blue    float64\n",
    "gpm_red           float64\n",
    "xp_pm_red         float64\n",
    "cs_pm_red         float64\n",
    "dmg_taken_red     float64\n",
    "dtype: object"
   ]
  },
  {
   "cell_type": "code",
   "execution_count": null,
   "metadata": {},
   "outputs": [],
   "source": [
    "num_cols = [\"Fighter_blue\", \"Fighter_red\", \"Tank_blue\",\"Tank_red\",\\\n",
    "            \"Mage_blue\",\"Mage_red\",\"Assassin_blue\",\"Assassin_red\",\\\n",
    "            \"Support_blue\",\"Support_red\", \"Marksman_blue\", \"Marksman_red\",\\\n",
    "            \"First Blood\", \"First Tower\"]"
   ]
  },
  {
   "cell_type": "code",
   "execution_count": null,
   "metadata": {},
   "outputs": [],
   "source": [
    "std = StandardScaler()\n",
    "scaled_fit = std.fit(working_df[num_cols])"
   ]
  },
  {
   "cell_type": "code",
   "execution_count": null,
   "metadata": {},
   "outputs": [],
   "source": [
    "scaled = pd.DataFrame(scaled_fit.transform(working_df[num_cols]), columns=num_cols)\n",
    "\n",
    "working_df = working_df.drop(columns=num_cols, axis=1)\n",
    "working_df = working_df.merge(scaled, left_index=True, right_index=True, how=\"inner\")"
   ]
  },
  {
   "cell_type": "code",
   "execution_count": null,
   "metadata": {},
   "outputs": [],
   "source": [
    "train_cols=working_df.columns.to_list()"
   ]
  },
  {
   "cell_type": "code",
   "execution_count": null,
   "metadata": {},
   "outputs": [],
   "source": [
    "working_df.dtypes"
   ]
  },
  {
   "cell_type": "code",
   "execution_count": null,
   "metadata": {},
   "outputs": [],
   "source": [
    "train_cols = num_cols.copy()"
   ]
  },
  {
   "cell_type": "code",
   "execution_count": null,
   "metadata": {},
   "outputs": [],
   "source": [
    "from sklearn.model_selection import train_test_split\n",
    "train, test = train_test_split(working_df, test_size=.2, random_state=3)\n",
    "\n",
    "train_X = train[train_cols].reset_index(drop=True)\n",
    "train_y = train[target_col].reset_index(drop=True)\n",
    "test_X = test[train_cols].reset_index(drop=True)\n",
    "test_y = test[target_col].reset_index(drop=True)"
   ]
  },
  {
   "cell_type": "code",
   "execution_count": null,
   "metadata": {},
   "outputs": [],
   "source": [
    "evaluate_model(train_X, train_y, test_X, test_y, LogisticRegression())"
   ]
  },
  {
   "cell_type": "code",
   "execution_count": null,
   "metadata": {
    "scrolled": true
   },
   "outputs": [],
   "source": [
    "evaluate_models(models, train_X)"
   ]
  },
  {
   "cell_type": "code",
   "execution_count": null,
   "metadata": {},
   "outputs": [],
   "source": []
  }
 ],
 "metadata": {
  "kernelspec": {
   "display_name": "Python 3",
   "language": "python",
   "name": "python3"
  },
  "language_info": {
   "codemirror_mode": {
    "name": "ipython",
    "version": 3
   },
   "file_extension": ".py",
   "mimetype": "text/x-python",
   "name": "python",
   "nbconvert_exporter": "python",
   "pygments_lexer": "ipython3",
   "version": "3.7.6"
  }
 },
 "nbformat": 4,
 "nbformat_minor": 4
}
