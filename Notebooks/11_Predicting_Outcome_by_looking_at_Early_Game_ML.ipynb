{
 "cells": [
  {
   "cell_type": "code",
   "execution_count": 1,
   "metadata": {},
   "outputs": [],
   "source": [
    "import numpy as np\n",
    "import pandas as pd\n",
    "import pickle\n",
    "import matplotlib.pyplot as plt\n",
    "import numpy as np\n",
    "import json\n",
    "import re \n",
    "import time\n",
    "from pandas.io.json import json_normalize"
   ]
  },
  {
   "cell_type": "markdown",
   "metadata": {},
   "source": [
    "# 1. Reading in the DataFrames:\n",
    "**challengergame** is the players information. \n",
    "\n",
    "**ingame** is the overall game informations."
   ]
  },
  {
   "cell_type": "code",
   "execution_count": 2,
   "metadata": {},
   "outputs": [],
   "source": [
    "challengergame_df = pd.read_csv('../Data/Match_Data/challenger_match.csv')\n",
    "challengergame_df2 = pd.read_csv('../Data/Match_Data/challenger_match_V2.csv')\n",
    "\n",
    "ingame_df = pd.read_pickle('../Data/Match_Data/match_data_version2.pickle')"
   ]
  },
  {
   "cell_type": "code",
   "execution_count": 3,
   "metadata": {},
   "outputs": [],
   "source": [
    "chall_game = pd.concat([challengergame_df,challengergame_df2],axis = 0)\n",
    "chall_game_unique = chall_game.drop_duplicates('gameId')\n",
    "ingame_df['gameId'] = ingame_df['gameId'].astype('int')"
   ]
  },
  {
   "cell_type": "markdown",
   "metadata": {},
   "source": [
    "# 2. Preparing DataFrames for processing:\n",
    "\n",
    "First we concatinate the game informations of challenger players. \n",
    "\n",
    "Then the Dataframe on the unique challenger games which have been played are merged on the gameId."
   ]
  },
  {
   "cell_type": "code",
   "execution_count": 4,
   "metadata": {},
   "outputs": [],
   "source": [
    "chall_match = pd.merge(ingame_df,chall_game_unique[['gameId','accountId']], on = 'gameId', how = 'left')\\\n",
    "                                    .drop(columns=['status.message','status.status_code'])\\\n",
    "                                    .dropna(axis=0)\\\n",
    "                                    .reset_index(drop=True)"
   ]
  },
  {
   "cell_type": "code",
   "execution_count": 5,
   "metadata": {
    "scrolled": true
   },
   "outputs": [],
   "source": [
    "match_df = chall_match[chall_match[\"queueId\"]==420].copy().reset_index(drop=True)"
   ]
  },
  {
   "cell_type": "code",
   "execution_count": 6,
   "metadata": {},
   "outputs": [],
   "source": [
    "champs = pd.read_csv(\"../Data/Champions_Items_Info/champions.csv\")"
   ]
  },
  {
   "cell_type": "markdown",
   "metadata": {},
   "source": [
    "# 3. Functions to properly process the DataFrames and put it into a ML-able DF:"
   ]
  },
  {
   "cell_type": "markdown",
   "metadata": {},
   "source": [
    "## 3.1 Function to shape the DF towards ML. Picking features and putting them into a new DF:"
   ]
  },
  {
   "cell_type": "code",
   "execution_count": 37,
   "metadata": {},
   "outputs": [],
   "source": [
    "def preparing_dataframe(df, lower:int, upper:int):\n",
    "    df_storage = pd.DataFrame()\n",
    "    for i in range(lower,upper):\n",
    "        \n",
    "        ''' Getting macro information on the game: \n",
    "            This is the ID of the game and the duration of the game.\n",
    "        '''\n",
    "        \n",
    "        gameId = df[\"gameId\"].iloc[i]\n",
    "        gameDuration = df[\"gameDuration\"].iloc[i]\n",
    "        \n",
    "        ''' \n",
    "        Now looking into the teams statistics, where we want to get information on \n",
    "        first blood, first tower, first dragon. If this is True for team \"Blue\", \n",
    "        the value will be set to 1, otherwise it will be set to 0\n",
    "        '''\n",
    "        \n",
    "        blueWins = np.where(df['teams'].iloc[i][0]['win']==\"Win\", 1, 0)\n",
    "        firstblood_blue = np.where(df['teams'].iloc[i][0]['firstBlood']==True,1,0)\n",
    "        firstTower_blue = np.where(df['teams'].iloc[i][0]['firstTower']==True,1,0)\n",
    "        firstDragon_blue = np.where(df['teams'].iloc[i][0]['firstDragon']==True,1,0)     \n",
    "        \n",
    "        '''\n",
    "        Now taking the number of objectives which have been taken by the team:\n",
    "        '''\n",
    "        \n",
    "        for j in range(len(df['teams'].iloc[i])):\n",
    "            if df[\"teams\"].iloc[i][j]['teamId']==100:\n",
    "                dragons_blue = df['teams'].iloc[i][j]['dragonKills']\n",
    "                barons_blue = df['teams'].iloc[i][j]['baronKills']\n",
    "                towers_blue = df['teams'].iloc[i][j]['towerKills']\n",
    "                inhibs_blue = df['teams'].iloc[i][j]['inhibitorKills']\n",
    "            else:\n",
    "                dragons_red = df['teams'].iloc[i][j]['dragonKills']\n",
    "                barons_red = df['teams'].iloc[i][j]['baronKills']\n",
    "                towers_red = df['teams'].iloc[i][j]['towerKills']\n",
    "                inhibs_red = df['teams'].iloc[i][j]['inhibitorKills']\n",
    "            \n",
    "        \n",
    "        '''\n",
    "        Now looking into the different participants\n",
    "        In there we want to get information on average gold/minute and exp/minute for the early game\n",
    "        '''\n",
    "        champion_list_blue = []\n",
    "        champion_list_red = []\n",
    "        \n",
    "        gold_per_minute_blue = 0\n",
    "        xp_per_minute_blue = 0\n",
    "        cs_per_minute_blue = 0\n",
    "        damage_taken_per_minute_blue = 0\n",
    "\n",
    "        gold_per_minute_red = 0\n",
    "        xp_per_minute_red = 0\n",
    "        cs_per_minute_red = 0\n",
    "        damage_taken_per_minute_red = 0\n",
    "        \n",
    "        \n",
    "        '''blue team : 100'''\n",
    "        wardplace_blue = 0\n",
    "        wardkill_blue = 0\n",
    "        champkill_blue = 0\n",
    "        champdeath_blue = 0\n",
    "        champassist_blue = 0\n",
    "        damage_blue = 0\n",
    "        gold_blue = 0\n",
    "        minion_blue = 0\n",
    "        level_blue = 0\n",
    "        jungleminion_blue = 0\n",
    "        killingspree_blue = 0\n",
    "        heal_blue = 0\n",
    "        objectdamage_blue = 0\n",
    "\n",
    "        '''red team : 200'''\n",
    "        wardplace_red = 0\n",
    "        wardkill_red = 0\n",
    "        champkill_red = 0\n",
    "        champdeath_red = 0\n",
    "        champassist_red = 0\n",
    "        damage_red = 0\n",
    "        gold_red = 0\n",
    "        minion_red = 0\n",
    "        level_red = 0\n",
    "        jungleminion_red = 0\n",
    "        killingspree_red = 0\n",
    "        heal_red = 0\n",
    "        objectdamage_red = 0\n",
    "        for j in range(len(chall_match['participants'].iloc[i])):\n",
    "\n",
    "            if chall_match['participants'].iloc[i][j]['teamId'] == 100:\n",
    "                try:\n",
    "                    wardplace0 = chall_match['participants'].iloc[i][j]['stats']['wardsPlaced']\n",
    "                except:\n",
    "                    wardplace0 = 0\n",
    "                try:\n",
    "                    wardkill0 = chall_match['participants'].iloc[i][j]['stats']['wardsKilled']\n",
    "                except:\n",
    "                    wardkill0 = 0\n",
    "                try:\n",
    "                    champkill0 = chall_match['participants'].iloc[i][j]['stats']['kills']\n",
    "                except:\n",
    "                    champkill0 = 0\n",
    "                try:\n",
    "                    champdeath0 = chall_match['participants'].iloc[i][j]['stats']['deaths']\n",
    "                except:\n",
    "                    champdeath0 = 0\n",
    "                try:\n",
    "                    champassist0 = chall_match['participants'].iloc[i][j]['stats']['assists']\n",
    "                except:\n",
    "                    champassist0 = 0\n",
    "                try:\n",
    "                    damage0 = chall_match['participants'].iloc[i][j]['stats']['totalDamageDealtToChampions']\n",
    "                except:\n",
    "                    damage0 = 0\n",
    "                try:\n",
    "                    gold0 = chall_match['participants'].iloc[i][j]['stats']['goldEarned']\n",
    "                except:\n",
    "                    gold0 = 0\n",
    "                try:\n",
    "                    minion0 = chall_match['participants'].iloc[i][j]['stats']['totalMinionsKilled']\n",
    "                except:\n",
    "                    minion0 = 0\n",
    "                try:\n",
    "                    level0 = chall_match['participants'].iloc[i][j]['stats']['champLevel']\n",
    "                except:\n",
    "                    level0 = 0\n",
    "                try:\n",
    "                    jungleminion0 = chall_match['participants'].iloc[i][j]['stats']['neutralMinionsKilled']\n",
    "                except:\n",
    "                    jungleminion0 = 0\n",
    "                try:\n",
    "                    killingspree0 = chall_match['participants'].iloc[i][j]['stats']['killingSprees']\n",
    "                except:\n",
    "                    killingspree0 = 0\n",
    "                try:\n",
    "                    heal0 = chall_match['participants'].iloc[i][j]['stats']['totalHeal']\n",
    "                except:\n",
    "                    heal0 = 0\n",
    "                try:\n",
    "                    objectdamage0 = chall_match['participants'].iloc[i][i]['stats']['damageDealtToObjectives']\n",
    "                except:\n",
    "                    objectdamage0 = 0\n",
    "\n",
    "                wardplace_blue += wardplace0\n",
    "                wardkill_blue += wardkill0\n",
    "                champkill_blue += champkill0\n",
    "                champdeath_blue += champdeath0\n",
    "                champassist_blue += champassist0\n",
    "                damage_blue += damage0\n",
    "                gold_blue += gold0\n",
    "                minion_blue += minion0\n",
    "                level_blue += level0\n",
    "                jungleminion_blue += jungleminion0\n",
    "                killingspree_blue += killingspree0\n",
    "                heal_blue += heal0\n",
    "                objectdamage_blue += objectdamage0\n",
    "            else:\n",
    "\n",
    "                try:\n",
    "                    wardplace0 = chall_match['participants'].iloc[i][j]['stats']['wardsPlaced']\n",
    "                except:\n",
    "                    wardplace0 = 0\n",
    "\n",
    "                try:\n",
    "                    wardkill0 = chall_match['participants'].iloc[i][j]['stats']['wardsKilled']\n",
    "                except:\n",
    "                    wardkill0 = 0\n",
    "                try:\n",
    "                    champkill0 = chall_match['participants'].iloc[i][j]['stats']['kills']\n",
    "                except:\n",
    "                    champkill0 = 0\n",
    "                try:\n",
    "                    champdeath0 = chall_match['participants'].iloc[i][j]['stats']['deaths']\n",
    "                except:\n",
    "                    champdeath0 = 0\n",
    "                try:\n",
    "                    champassist0 = chall_match['participants'].iloc[i][j]['stats']['assists']\n",
    "                except:\n",
    "                    champassist0 = 0\n",
    "                try:\n",
    "                    damage0 = chall_match['participants'].iloc[i][j]['stats']['totalDamageDealtToChampions']\n",
    "                except:\n",
    "                    damage0 = 0\n",
    "                try:\n",
    "                    gold0 = chall_match['participants'].iloc[i][j]['stats']['goldEarned']\n",
    "                except:\n",
    "                    gold0 = 0\n",
    "                try:\n",
    "                    minion0 = chall_match['participants'].iloc[i][j]['stats']['totalMinionsKilled']\n",
    "                except:\n",
    "                    minion0 = 0\n",
    "                try:\n",
    "                    level0 = chall_match['participants'].iloc[i][j]['stats']['champLevel']\n",
    "                except:\n",
    "                    level0 = 0\n",
    "                try:\n",
    "                    jungleminion0 = chall_match['participants'].iloc[i][j]['stats']['neutralMinionsKilled']\n",
    "                except:\n",
    "                    jungleminion0 = 0\n",
    "                try:\n",
    "                    killingspree0 = chall_match['participants'].iloc[i][j]['stats']['killingSprees']\n",
    "                except:\n",
    "                    killingspree0 = 0\n",
    "                try:\n",
    "                    heal0 = chall_match['participants'].iloc[i][j]['stats']['totalHeal']\n",
    "                except:\n",
    "                    heal0 = 0\n",
    "                try:\n",
    "                    objectdamage0 = chall_match['participants'].iloc[i][j]['stats']['damageDealtToObjectives']\n",
    "                except:\n",
    "                    objectdamage0 = 0\n",
    "\n",
    "\n",
    "                wardplace_red += wardplace0\n",
    "                wardkill_red += wardkill0\n",
    "                champkill_red += champkill0\n",
    "                champdeath_red += champdeath0\n",
    "                champassist_red += champassist0\n",
    "                damage_red += damage0\n",
    "                gold_red += gold0\n",
    "                minion_red += minion0\n",
    "                level_red += level0\n",
    "                jungleminion_red += jungleminion0\n",
    "                killingspree_red += killingspree0\n",
    "                heal_red += heal0\n",
    "                objectdamage_red += objectdamage0\n",
    "\n",
    "\n",
    "        \n",
    "        for j in range(len(df[\"participants\"].iloc[i])):\n",
    "            if df[\"participants\"].iloc[i][j][\"teamId\"]==100:\n",
    "                champion_list_blue.append(df[\"participants\"].iloc[i][j][\"championId\"])\n",
    "                try:\n",
    "                    gpm = df[\"participants\"].iloc[i][j][\"timeline\"][\"goldPerMinDeltas\"][\"0-10\"]\n",
    "                except:\n",
    "                    gpm = 0\n",
    "                try:\n",
    "                    xpm = df[\"participants\"].iloc[i][j][\"timeline\"][\"xpPerMinDeltas\"][\"0-10\"]\n",
    "                except:\n",
    "                    xpm = 0\n",
    "                try:\n",
    "                    cspm = df[\"participants\"].iloc[i][j][\"timeline\"][\"creepsPerMinDeltas\"][\"0-10\"]\n",
    "                except:\n",
    "                    cspm = 0\n",
    "                try:\n",
    "                    dtpm = df[\"participants\"].iloc[i][j][\"timeline\"][\"damageTakenPerMinDeltas\"][\"0-10\"]\n",
    "                except:\n",
    "                    dtpm = 0\n",
    "                    \n",
    "                gold_per_minute_blue += gpm\n",
    "                xp_per_minute_blue += xpm\n",
    "                cs_per_minute_blue += cspm\n",
    "                damage_taken_per_minute_blue += dtpm \n",
    "            else:\n",
    "                champion_list_red.append(df[\"participants\"].iloc[i][j][\"championId\"])\n",
    "                try:\n",
    "                    gpm = df[\"participants\"].iloc[i][j][\"timeline\"][\"goldPerMinDeltas\"][\"0-10\"]\n",
    "                except:\n",
    "                    gpm = 0\n",
    "                try:\n",
    "                    xpm = df[\"participants\"].iloc[i][j][\"timeline\"][\"xpPerMinDeltas\"][\"0-10\"]\n",
    "                except:\n",
    "                    xpm = 0\n",
    "                try:\n",
    "                    cspm = df[\"participants\"].iloc[i][j][\"timeline\"][\"creepsPerMinDeltas\"][\"0-10\"]\n",
    "                except:\n",
    "                    cspm = 0\n",
    "                try:\n",
    "                    dtpm = df[\"participants\"].iloc[i][j][\"timeline\"][\"damageTakenPerMinDeltas\"][\"0-10\"]\n",
    "                except:\n",
    "                    dtpm = 0\n",
    "                    \n",
    "                gold_per_minute_red += gpm\n",
    "                xp_per_minute_red += xpm\n",
    "                cs_per_minute_red += cspm\n",
    "                damage_taken_per_minute_red += dtpm \n",
    "        \n",
    "                \n",
    "        global_result = [int(gameId), int(gameDuration), int(blueWins), int(firstblood_blue),\\\n",
    "                        int(firstTower_blue), int(firstDragon_blue)]\n",
    "        \n",
    "        champion_list = [champion_list_blue, champion_list_red]\n",
    "        \n",
    "        blue_data = [gold_per_minute_blue, xp_per_minute_blue,\\\n",
    "                     int(cs_per_minute_blue), int(damage_taken_per_minute_blue),\\\n",
    "                     dragons_blue, int(barons_blue), int(towers_blue),\\\n",
    "                     int(inhibs_blue)]\n",
    "             \n",
    "        red_data = [int(gold_per_minute_red), int(xp_per_minute_red),\\\n",
    "                    int(cs_per_minute_red), int(damage_taken_per_minute_red),\\\n",
    "                    int(dragons_red), int(barons_red), int(towers_red),\\\n",
    "                    int(inhibs_red)]\n",
    "        \n",
    "        num_blue = [wardplace_blue, wardkill_blue, champkill_blue ,champdeath_blue,\\\n",
    "                     champassist_blue ,damage_blue ,gold_blue,minion_blue,level_blue,\\\n",
    "                     jungleminion_blue ,killingspree_blue ,heal_blue ,objectdamage_blue]\n",
    "        \n",
    "        num_red = [wardplace_red ,wardkill_red ,champkill_red ,champdeath_red,\\\n",
    "                   champassist_red ,damage_red,gold_red,\\\n",
    "                   minion_red ,level_red ,jungleminion_red,\\\n",
    "                   killingspree_red ,heal_red ,objectdamage_red]\n",
    "        \n",
    "        all_data = np.array([global_result+ champion_list+ blue_data+red_data+num_blue+num_red])\n",
    "        \n",
    "        columns_list = [\"gameId\", \"gameDuration\", \"blueWins\",\"First Blood\",\\\n",
    "                        \"First Tower\", \"First Dragon\",\"champion_list_blue\",\\\n",
    "                        \"champion_list_red\", \"gpm_blue\", \"xp_pm_blue\",\\\n",
    "                        \"cs_pm_blue\", \"dmg_taken_blue\",\"dragons_blue\", \"barons_blue\",\\\n",
    "                        \"towers_blue\", \"inhibs_blue\", \"gpm_red\",\"xp_pm_red\",\\\n",
    "                        \"cs_pm_red\", \"dmg_taken_red\", \"dragons_red\", \"barons_red\",\\\n",
    "                        \"towers_red\", \"inhibs_red\",\\\n",
    "                        \"wardplace_blue\", \"wardkill_blue\", \"champkill_blue\" ,\"champdeath_blue\",\\\n",
    "                        \"champassist_blue\" ,\"damage_blue\" ,\"gold_blue\",\"minion_blue\",\"level_blue\",\\\n",
    "                        \"jungleminion_blue\" ,\"killingspree_blue\" ,\"heal_blue\" ,\"objectdamage_blue\",\\\n",
    "                        \"wardplace_red\" ,\"wardkill_red\" ,\"champkill_red\" ,\"champdeath_red\",\\\n",
    "                        \"champassist_red\" ,\"damage_red\",\"gold_red\",\\\n",
    "                        \"minion_red\" ,\"level_red\" ,\"jungleminion_red\",\\\n",
    "                        \"killingspree_red\" ,\"heal_red\" ,\"objectdamage_red\"]\n",
    "        \n",
    "        row_df = pd.DataFrame(all_data, columns = columns_list)\n",
    "        \n",
    "        df_storage = df_storage.append(row_df)\n",
    "    return df_storage"
   ]
  },
  {
   "cell_type": "markdown",
   "metadata": {},
   "source": [
    "## 3.2 Processing the DF:\n",
    "As this takes a while and if you take too many weight with you, it will kill your computer (if you dont have the proper specs to work with large data).\n",
    "\n",
    "Therefore, the read in will be put into a function to take the DF and piece by piece put it in the prepared df."
   ]
  },
  {
   "cell_type": "code",
   "execution_count": 38,
   "metadata": {},
   "outputs": [],
   "source": [
    "prepared_df = pd.DataFrame()"
   ]
  },
  {
   "cell_type": "code",
   "execution_count": 39,
   "metadata": {},
   "outputs": [],
   "source": [
    "def processing_df(df, splitter=1):\n",
    "    '''\n",
    "    '''\n",
    "    prepared_df = pd.DataFrame()\n",
    "    stepsize = len(df)/splitter\n",
    "    for i in range(splitter):\n",
    "        lower = int(i*stepsize)\n",
    "        upper = int((i+1)*stepsize)\n",
    "        prepared_df = prepared_df.append(preparing_dataframe(df,lower,upper))\n",
    "        print(i)\n",
    "    return prepared_df"
   ]
  },
  {
   "cell_type": "code",
   "execution_count": 40,
   "metadata": {
    "scrolled": false
   },
   "outputs": [
    {
     "name": "stdout",
     "output_type": "stream",
     "text": [
      "0\n",
      "1\n",
      "2\n",
      "3\n",
      "4\n",
      "5\n",
      "6\n",
      "7\n",
      "8\n",
      "9\n",
      "10\n",
      "11\n",
      "12\n"
     ]
    }
   ],
   "source": [
    "processed_df = processing_df(match_df,splitter=13)"
   ]
  },
  {
   "cell_type": "code",
   "execution_count": 98,
   "metadata": {},
   "outputs": [
    {
     "data": {
      "text/html": [
       "<div>\n",
       "<style scoped>\n",
       "    .dataframe tbody tr th:only-of-type {\n",
       "        vertical-align: middle;\n",
       "    }\n",
       "\n",
       "    .dataframe tbody tr th {\n",
       "        vertical-align: top;\n",
       "    }\n",
       "\n",
       "    .dataframe thead th {\n",
       "        text-align: right;\n",
       "    }\n",
       "</style>\n",
       "<table border=\"1\" class=\"dataframe\">\n",
       "  <thead>\n",
       "    <tr style=\"text-align: right;\">\n",
       "      <th></th>\n",
       "      <th>gameId</th>\n",
       "      <th>gameDuration</th>\n",
       "      <th>blueWins</th>\n",
       "      <th>First Blood</th>\n",
       "      <th>First Tower</th>\n",
       "      <th>First Dragon</th>\n",
       "      <th>champion_list_blue</th>\n",
       "      <th>champion_list_red</th>\n",
       "      <th>gpm_blue</th>\n",
       "      <th>xp_pm_blue</th>\n",
       "      <th>...</th>\n",
       "      <th>damage_red</th>\n",
       "      <th>gold_red</th>\n",
       "      <th>minion_red</th>\n",
       "      <th>level_red</th>\n",
       "      <th>jungleminion_red</th>\n",
       "      <th>killingspree_red</th>\n",
       "      <th>heal_red</th>\n",
       "      <th>objectdamage_red</th>\n",
       "      <th>champion_names_blue</th>\n",
       "      <th>champion_names_red</th>\n",
       "    </tr>\n",
       "  </thead>\n",
       "  <tbody>\n",
       "    <tr>\n",
       "      <th>0</th>\n",
       "      <td>4247263043</td>\n",
       "      <td>1323</td>\n",
       "      <td>0</td>\n",
       "      <td>1</td>\n",
       "      <td>0</td>\n",
       "      <td>0</td>\n",
       "      <td>[7, 350, 266, 517, 110]</td>\n",
       "      <td>[235, 81, 127, 84, 421]</td>\n",
       "      <td>1237</td>\n",
       "      <td>1608.3</td>\n",
       "      <td>...</td>\n",
       "      <td>73016</td>\n",
       "      <td>49832</td>\n",
       "      <td>533</td>\n",
       "      <td>64</td>\n",
       "      <td>138</td>\n",
       "      <td>8</td>\n",
       "      <td>38711</td>\n",
       "      <td>60463</td>\n",
       "      <td>[LeBlanc, Yuumi, Aatrox, Sylas, Varus]</td>\n",
       "      <td>[Senna, Ezreal, Lissandra, Akali, Rek'Sai]</td>\n",
       "    </tr>\n",
       "    <tr>\n",
       "      <th>0</th>\n",
       "      <td>4247155821</td>\n",
       "      <td>1317</td>\n",
       "      <td>1</td>\n",
       "      <td>0</td>\n",
       "      <td>0</td>\n",
       "      <td>1</td>\n",
       "      <td>[236, 245, 350, 110, 57]</td>\n",
       "      <td>[235, 126, 517, 58, 15]</td>\n",
       "      <td>1199.7</td>\n",
       "      <td>1674.1</td>\n",
       "      <td>...</td>\n",
       "      <td>44218</td>\n",
       "      <td>37136</td>\n",
       "      <td>571</td>\n",
       "      <td>59</td>\n",
       "      <td>134</td>\n",
       "      <td>3</td>\n",
       "      <td>24829</td>\n",
       "      <td>14105</td>\n",
       "      <td>[Lucian, Ekko, Yuumi, Varus, Maokai]</td>\n",
       "      <td>[Senna, Jayce, Sylas, Renekton, Sivir]</td>\n",
       "    </tr>\n",
       "    <tr>\n",
       "      <th>0</th>\n",
       "      <td>4243963257</td>\n",
       "      <td>932</td>\n",
       "      <td>0</td>\n",
       "      <td>0</td>\n",
       "      <td>0</td>\n",
       "      <td>0</td>\n",
       "      <td>[235, 60, 223, 112, 58]</td>\n",
       "      <td>[12, 429, 7, 64, 82]</td>\n",
       "      <td>1311.7</td>\n",
       "      <td>1617.8</td>\n",
       "      <td>...</td>\n",
       "      <td>30797</td>\n",
       "      <td>35364</td>\n",
       "      <td>400</td>\n",
       "      <td>50</td>\n",
       "      <td>89</td>\n",
       "      <td>5</td>\n",
       "      <td>12589</td>\n",
       "      <td>45201</td>\n",
       "      <td>[Senna, Elise, Tahm Kench, Viktor, Renekton]</td>\n",
       "      <td>[Alistar, Kalista, LeBlanc, Lee Sin, Mordekaiser]</td>\n",
       "    </tr>\n",
       "    <tr>\n",
       "      <th>0</th>\n",
       "      <td>4241678498</td>\n",
       "      <td>2098</td>\n",
       "      <td>0</td>\n",
       "      <td>0</td>\n",
       "      <td>0</td>\n",
       "      <td>1</td>\n",
       "      <td>[111, 142, 236, 78, 98]</td>\n",
       "      <td>[875, 41, 21, 154, 157]</td>\n",
       "      <td>1318.4</td>\n",
       "      <td>1891.5</td>\n",
       "      <td>...</td>\n",
       "      <td>125866</td>\n",
       "      <td>70528</td>\n",
       "      <td>832</td>\n",
       "      <td>84</td>\n",
       "      <td>205</td>\n",
       "      <td>9</td>\n",
       "      <td>65312</td>\n",
       "      <td>88202</td>\n",
       "      <td>[Nautilus, Zoe, Lucian, Poppy, Shen]</td>\n",
       "      <td>[Sett, Gangplank, Miss Fortune, Zac, Yasuo]</td>\n",
       "    </tr>\n",
       "    <tr>\n",
       "      <th>0</th>\n",
       "      <td>4241538868</td>\n",
       "      <td>2344</td>\n",
       "      <td>1</td>\n",
       "      <td>1</td>\n",
       "      <td>1</td>\n",
       "      <td>1</td>\n",
       "      <td>[145, 875, 236, 34, 60]</td>\n",
       "      <td>[62, 2, 517, 142, 350]</td>\n",
       "      <td>1497.2</td>\n",
       "      <td>1863.2</td>\n",
       "      <td>...</td>\n",
       "      <td>131536</td>\n",
       "      <td>74596</td>\n",
       "      <td>794</td>\n",
       "      <td>85</td>\n",
       "      <td>227</td>\n",
       "      <td>7</td>\n",
       "      <td>86431</td>\n",
       "      <td>64141</td>\n",
       "      <td>[Kai'Sa, Sett, Lucian, Anivia, Elise]</td>\n",
       "      <td>[Wukong, Olaf, Sylas, Zoe, Yuumi]</td>\n",
       "    </tr>\n",
       "  </tbody>\n",
       "</table>\n",
       "<p>5 rows × 52 columns</p>\n",
       "</div>"
      ],
      "text/plain": [
       "       gameId gameDuration blueWins First Blood First Tower First Dragon  \\\n",
       "0  4247263043         1323        0           1           0            0   \n",
       "0  4247155821         1317        1           0           0            1   \n",
       "0  4243963257          932        0           0           0            0   \n",
       "0  4241678498         2098        0           0           0            1   \n",
       "0  4241538868         2344        1           1           1            1   \n",
       "\n",
       "         champion_list_blue        champion_list_red gpm_blue xp_pm_blue  ...  \\\n",
       "0   [7, 350, 266, 517, 110]  [235, 81, 127, 84, 421]     1237     1608.3  ...   \n",
       "0  [236, 245, 350, 110, 57]  [235, 126, 517, 58, 15]   1199.7     1674.1  ...   \n",
       "0   [235, 60, 223, 112, 58]     [12, 429, 7, 64, 82]   1311.7     1617.8  ...   \n",
       "0   [111, 142, 236, 78, 98]  [875, 41, 21, 154, 157]   1318.4     1891.5  ...   \n",
       "0   [145, 875, 236, 34, 60]   [62, 2, 517, 142, 350]   1497.2     1863.2  ...   \n",
       "\n",
       "  damage_red gold_red minion_red level_red jungleminion_red killingspree_red  \\\n",
       "0      73016    49832        533        64              138                8   \n",
       "0      44218    37136        571        59              134                3   \n",
       "0      30797    35364        400        50               89                5   \n",
       "0     125866    70528        832        84              205                9   \n",
       "0     131536    74596        794        85              227                7   \n",
       "\n",
       "  heal_red objectdamage_red                           champion_names_blue  \\\n",
       "0    38711            60463        [LeBlanc, Yuumi, Aatrox, Sylas, Varus]   \n",
       "0    24829            14105          [Lucian, Ekko, Yuumi, Varus, Maokai]   \n",
       "0    12589            45201  [Senna, Elise, Tahm Kench, Viktor, Renekton]   \n",
       "0    65312            88202          [Nautilus, Zoe, Lucian, Poppy, Shen]   \n",
       "0    86431            64141         [Kai'Sa, Sett, Lucian, Anivia, Elise]   \n",
       "\n",
       "                                  champion_names_red  \n",
       "0         [Senna, Ezreal, Lissandra, Akali, Rek'Sai]  \n",
       "0             [Senna, Jayce, Sylas, Renekton, Sivir]  \n",
       "0  [Alistar, Kalista, LeBlanc, Lee Sin, Mordekaiser]  \n",
       "0        [Sett, Gangplank, Miss Fortune, Zac, Yasuo]  \n",
       "0                  [Wukong, Olaf, Sylas, Zoe, Yuumi]  \n",
       "\n",
       "[5 rows x 52 columns]"
      ]
     },
     "execution_count": 98,
     "metadata": {},
     "output_type": "execute_result"
    }
   ],
   "source": [
    "processed_df.head()"
   ]
  },
  {
   "cell_type": "code",
   "execution_count": 99,
   "metadata": {},
   "outputs": [],
   "source": [
    "processed_df[\"champion_names_blue\"]=0"
   ]
  },
  {
   "cell_type": "code",
   "execution_count": 100,
   "metadata": {},
   "outputs": [],
   "source": [
    "processed_df[\"champion_names_red\"]=0"
   ]
  },
  {
   "cell_type": "code",
   "execution_count": 101,
   "metadata": {},
   "outputs": [
    {
     "name": "stderr",
     "output_type": "stream",
     "text": [
      "/Users/andreasglassl/opt/miniconda3/envs/backpack_banana/lib/python3.7/site-packages/pandas/core/indexing.py:671: SettingWithCopyWarning: \n",
      "A value is trying to be set on a copy of a slice from a DataFrame\n",
      "\n",
      "See the caveats in the documentation: https://pandas.pydata.org/pandas-docs/stable/user_guide/indexing.html#returning-a-view-versus-a-copy\n",
      "  self._setitem_with_indexer(indexer, value)\n"
     ]
    },
    {
     "name": "stdout",
     "output_type": "stream",
     "text": [
      "0\n",
      "2000\n",
      "4000\n",
      "6000\n",
      "8000\n",
      "10000\n",
      "12000\n",
      "14000\n",
      "16000\n",
      "18000\n",
      "20000\n",
      "22000\n"
     ]
    }
   ],
   "source": [
    "for i in range(len(processed_df)):\n",
    "    processed_df[\"champion_names_blue\"].iloc[i] = [champs[champs[\"key\"]==champion].iloc[0,1]\\\n",
    "                                                  for champion in processed_df[\"champion_list_blue\"].iloc[i]]\n",
    "    processed_df[\"champion_names_red\"].iloc[i] = [champs[champs[\"key\"]==champion].iloc[0,1]\\\n",
    "                                                  for champion in processed_df[\"champion_list_red\"].iloc[i]]\n",
    "    if i%2000==0:\n",
    "        print(i)"
   ]
  },
  {
   "cell_type": "code",
   "execution_count": 102,
   "metadata": {},
   "outputs": [
    {
     "data": {
      "text/html": [
       "<div>\n",
       "<style scoped>\n",
       "    .dataframe tbody tr th:only-of-type {\n",
       "        vertical-align: middle;\n",
       "    }\n",
       "\n",
       "    .dataframe tbody tr th {\n",
       "        vertical-align: top;\n",
       "    }\n",
       "\n",
       "    .dataframe thead th {\n",
       "        text-align: right;\n",
       "    }\n",
       "</style>\n",
       "<table border=\"1\" class=\"dataframe\">\n",
       "  <thead>\n",
       "    <tr style=\"text-align: right;\">\n",
       "      <th></th>\n",
       "      <th>gameId</th>\n",
       "      <th>gameDuration</th>\n",
       "      <th>blueWins</th>\n",
       "      <th>First Blood</th>\n",
       "      <th>First Tower</th>\n",
       "      <th>First Dragon</th>\n",
       "      <th>champion_list_blue</th>\n",
       "      <th>champion_list_red</th>\n",
       "      <th>gpm_blue</th>\n",
       "      <th>xp_pm_blue</th>\n",
       "      <th>...</th>\n",
       "      <th>damage_red</th>\n",
       "      <th>gold_red</th>\n",
       "      <th>minion_red</th>\n",
       "      <th>level_red</th>\n",
       "      <th>jungleminion_red</th>\n",
       "      <th>killingspree_red</th>\n",
       "      <th>heal_red</th>\n",
       "      <th>objectdamage_red</th>\n",
       "      <th>champion_names_blue</th>\n",
       "      <th>champion_names_red</th>\n",
       "    </tr>\n",
       "  </thead>\n",
       "  <tbody>\n",
       "    <tr>\n",
       "      <th>0</th>\n",
       "      <td>4247263043</td>\n",
       "      <td>1323</td>\n",
       "      <td>0</td>\n",
       "      <td>1</td>\n",
       "      <td>0</td>\n",
       "      <td>0</td>\n",
       "      <td>[7, 350, 266, 517, 110]</td>\n",
       "      <td>[235, 81, 127, 84, 421]</td>\n",
       "      <td>1237</td>\n",
       "      <td>1608.3</td>\n",
       "      <td>...</td>\n",
       "      <td>73016</td>\n",
       "      <td>49832</td>\n",
       "      <td>533</td>\n",
       "      <td>64</td>\n",
       "      <td>138</td>\n",
       "      <td>8</td>\n",
       "      <td>38711</td>\n",
       "      <td>60463</td>\n",
       "      <td>[LeBlanc, Yuumi, Aatrox, Sylas, Varus]</td>\n",
       "      <td>[Senna, Ezreal, Lissandra, Akali, Rek'Sai]</td>\n",
       "    </tr>\n",
       "    <tr>\n",
       "      <th>0</th>\n",
       "      <td>4247155821</td>\n",
       "      <td>1317</td>\n",
       "      <td>1</td>\n",
       "      <td>0</td>\n",
       "      <td>0</td>\n",
       "      <td>1</td>\n",
       "      <td>[236, 245, 350, 110, 57]</td>\n",
       "      <td>[235, 126, 517, 58, 15]</td>\n",
       "      <td>1199.7</td>\n",
       "      <td>1674.1</td>\n",
       "      <td>...</td>\n",
       "      <td>44218</td>\n",
       "      <td>37136</td>\n",
       "      <td>571</td>\n",
       "      <td>59</td>\n",
       "      <td>134</td>\n",
       "      <td>3</td>\n",
       "      <td>24829</td>\n",
       "      <td>14105</td>\n",
       "      <td>[Lucian, Ekko, Yuumi, Varus, Maokai]</td>\n",
       "      <td>[Senna, Jayce, Sylas, Renekton, Sivir]</td>\n",
       "    </tr>\n",
       "    <tr>\n",
       "      <th>0</th>\n",
       "      <td>4243963257</td>\n",
       "      <td>932</td>\n",
       "      <td>0</td>\n",
       "      <td>0</td>\n",
       "      <td>0</td>\n",
       "      <td>0</td>\n",
       "      <td>[235, 60, 223, 112, 58]</td>\n",
       "      <td>[12, 429, 7, 64, 82]</td>\n",
       "      <td>1311.7</td>\n",
       "      <td>1617.8</td>\n",
       "      <td>...</td>\n",
       "      <td>30797</td>\n",
       "      <td>35364</td>\n",
       "      <td>400</td>\n",
       "      <td>50</td>\n",
       "      <td>89</td>\n",
       "      <td>5</td>\n",
       "      <td>12589</td>\n",
       "      <td>45201</td>\n",
       "      <td>[Senna, Elise, Tahm Kench, Viktor, Renekton]</td>\n",
       "      <td>[Alistar, Kalista, LeBlanc, Lee Sin, Mordekaiser]</td>\n",
       "    </tr>\n",
       "    <tr>\n",
       "      <th>0</th>\n",
       "      <td>4241678498</td>\n",
       "      <td>2098</td>\n",
       "      <td>0</td>\n",
       "      <td>0</td>\n",
       "      <td>0</td>\n",
       "      <td>1</td>\n",
       "      <td>[111, 142, 236, 78, 98]</td>\n",
       "      <td>[875, 41, 21, 154, 157]</td>\n",
       "      <td>1318.4</td>\n",
       "      <td>1891.5</td>\n",
       "      <td>...</td>\n",
       "      <td>125866</td>\n",
       "      <td>70528</td>\n",
       "      <td>832</td>\n",
       "      <td>84</td>\n",
       "      <td>205</td>\n",
       "      <td>9</td>\n",
       "      <td>65312</td>\n",
       "      <td>88202</td>\n",
       "      <td>[Nautilus, Zoe, Lucian, Poppy, Shen]</td>\n",
       "      <td>[Sett, Gangplank, Miss Fortune, Zac, Yasuo]</td>\n",
       "    </tr>\n",
       "    <tr>\n",
       "      <th>0</th>\n",
       "      <td>4241538868</td>\n",
       "      <td>2344</td>\n",
       "      <td>1</td>\n",
       "      <td>1</td>\n",
       "      <td>1</td>\n",
       "      <td>1</td>\n",
       "      <td>[145, 875, 236, 34, 60]</td>\n",
       "      <td>[62, 2, 517, 142, 350]</td>\n",
       "      <td>1497.2</td>\n",
       "      <td>1863.2</td>\n",
       "      <td>...</td>\n",
       "      <td>131536</td>\n",
       "      <td>74596</td>\n",
       "      <td>794</td>\n",
       "      <td>85</td>\n",
       "      <td>227</td>\n",
       "      <td>7</td>\n",
       "      <td>86431</td>\n",
       "      <td>64141</td>\n",
       "      <td>[Kai'Sa, Sett, Lucian, Anivia, Elise]</td>\n",
       "      <td>[Wukong, Olaf, Sylas, Zoe, Yuumi]</td>\n",
       "    </tr>\n",
       "  </tbody>\n",
       "</table>\n",
       "<p>5 rows × 52 columns</p>\n",
       "</div>"
      ],
      "text/plain": [
       "       gameId gameDuration blueWins First Blood First Tower First Dragon  \\\n",
       "0  4247263043         1323        0           1           0            0   \n",
       "0  4247155821         1317        1           0           0            1   \n",
       "0  4243963257          932        0           0           0            0   \n",
       "0  4241678498         2098        0           0           0            1   \n",
       "0  4241538868         2344        1           1           1            1   \n",
       "\n",
       "         champion_list_blue        champion_list_red gpm_blue xp_pm_blue  ...  \\\n",
       "0   [7, 350, 266, 517, 110]  [235, 81, 127, 84, 421]     1237     1608.3  ...   \n",
       "0  [236, 245, 350, 110, 57]  [235, 126, 517, 58, 15]   1199.7     1674.1  ...   \n",
       "0   [235, 60, 223, 112, 58]     [12, 429, 7, 64, 82]   1311.7     1617.8  ...   \n",
       "0   [111, 142, 236, 78, 98]  [875, 41, 21, 154, 157]   1318.4     1891.5  ...   \n",
       "0   [145, 875, 236, 34, 60]   [62, 2, 517, 142, 350]   1497.2     1863.2  ...   \n",
       "\n",
       "  damage_red gold_red minion_red level_red jungleminion_red killingspree_red  \\\n",
       "0      73016    49832        533        64              138                8   \n",
       "0      44218    37136        571        59              134                3   \n",
       "0      30797    35364        400        50               89                5   \n",
       "0     125866    70528        832        84              205                9   \n",
       "0     131536    74596        794        85              227                7   \n",
       "\n",
       "  heal_red objectdamage_red                           champion_names_blue  \\\n",
       "0    38711            60463        [LeBlanc, Yuumi, Aatrox, Sylas, Varus]   \n",
       "0    24829            14105          [Lucian, Ekko, Yuumi, Varus, Maokai]   \n",
       "0    12589            45201  [Senna, Elise, Tahm Kench, Viktor, Renekton]   \n",
       "0    65312            88202          [Nautilus, Zoe, Lucian, Poppy, Shen]   \n",
       "0    86431            64141         [Kai'Sa, Sett, Lucian, Anivia, Elise]   \n",
       "\n",
       "                                  champion_names_red  \n",
       "0         [Senna, Ezreal, Lissandra, Akali, Rek'Sai]  \n",
       "0             [Senna, Jayce, Sylas, Renekton, Sivir]  \n",
       "0  [Alistar, Kalista, LeBlanc, Lee Sin, Mordekaiser]  \n",
       "0        [Sett, Gangplank, Miss Fortune, Zac, Yasuo]  \n",
       "0                  [Wukong, Olaf, Sylas, Zoe, Yuumi]  \n",
       "\n",
       "[5 rows x 52 columns]"
      ]
     },
     "execution_count": 102,
     "metadata": {},
     "output_type": "execute_result"
    }
   ],
   "source": [
    "processed_df.head()"
   ]
  },
  {
   "cell_type": "code",
   "execution_count": 103,
   "metadata": {},
   "outputs": [],
   "source": [
    "working_df = processed_df.copy()"
   ]
  },
  {
   "cell_type": "code",
   "execution_count": 104,
   "metadata": {},
   "outputs": [],
   "source": [
    "working_df[\"champion_types_blue\"]=0\n",
    "working_df[\"champion_types_red\"]=0"
   ]
  },
  {
   "cell_type": "code",
   "execution_count": 105,
   "metadata": {},
   "outputs": [
    {
     "name": "stderr",
     "output_type": "stream",
     "text": [
      "/Users/andreasglassl/opt/miniconda3/envs/backpack_banana/lib/python3.7/site-packages/pandas/core/indexing.py:671: SettingWithCopyWarning: \n",
      "A value is trying to be set on a copy of a slice from a DataFrame\n",
      "\n",
      "See the caveats in the documentation: https://pandas.pydata.org/pandas-docs/stable/user_guide/indexing.html#returning-a-view-versus-a-copy\n",
      "  self._setitem_with_indexer(indexer, value)\n"
     ]
    },
    {
     "name": "stdout",
     "output_type": "stream",
     "text": [
      "0\n",
      "2000\n",
      "4000\n",
      "6000\n",
      "8000\n",
      "10000\n",
      "12000\n",
      "14000\n",
      "16000\n",
      "18000\n",
      "20000\n",
      "22000\n"
     ]
    }
   ],
   "source": [
    "for i in range(len(working_df)):\n",
    "    working_df[\"champion_types_blue\"].iloc[i] = [eval(champs[champs[\"key\"]==champion].iloc[0,2])\\\n",
    "                                                for champion in working_df[\"champion_list_blue\"].iloc[i]]\n",
    "    working_df[\"champion_types_red\"].iloc[i] = [eval(champs[champs[\"key\"]==champion].iloc[0,2])\\\n",
    "                                                for champion in working_df[\"champion_list_red\"].iloc[i]]\n",
    "    if i%2000==0:\n",
    "        print(i)"
   ]
  },
  {
   "cell_type": "code",
   "execution_count": 106,
   "metadata": {},
   "outputs": [
    {
     "data": {
      "text/html": [
       "<div>\n",
       "<style scoped>\n",
       "    .dataframe tbody tr th:only-of-type {\n",
       "        vertical-align: middle;\n",
       "    }\n",
       "\n",
       "    .dataframe tbody tr th {\n",
       "        vertical-align: top;\n",
       "    }\n",
       "\n",
       "    .dataframe thead th {\n",
       "        text-align: right;\n",
       "    }\n",
       "</style>\n",
       "<table border=\"1\" class=\"dataframe\">\n",
       "  <thead>\n",
       "    <tr style=\"text-align: right;\">\n",
       "      <th></th>\n",
       "      <th>gameId</th>\n",
       "      <th>gameDuration</th>\n",
       "      <th>blueWins</th>\n",
       "      <th>First Blood</th>\n",
       "      <th>First Tower</th>\n",
       "      <th>First Dragon</th>\n",
       "      <th>champion_list_blue</th>\n",
       "      <th>champion_list_red</th>\n",
       "      <th>gpm_blue</th>\n",
       "      <th>xp_pm_blue</th>\n",
       "      <th>...</th>\n",
       "      <th>minion_red</th>\n",
       "      <th>level_red</th>\n",
       "      <th>jungleminion_red</th>\n",
       "      <th>killingspree_red</th>\n",
       "      <th>heal_red</th>\n",
       "      <th>objectdamage_red</th>\n",
       "      <th>champion_names_blue</th>\n",
       "      <th>champion_names_red</th>\n",
       "      <th>champion_types_blue</th>\n",
       "      <th>champion_types_red</th>\n",
       "    </tr>\n",
       "  </thead>\n",
       "  <tbody>\n",
       "    <tr>\n",
       "      <th>0</th>\n",
       "      <td>4247263043</td>\n",
       "      <td>1323</td>\n",
       "      <td>0</td>\n",
       "      <td>1</td>\n",
       "      <td>0</td>\n",
       "      <td>0</td>\n",
       "      <td>[7, 350, 266, 517, 110]</td>\n",
       "      <td>[235, 81, 127, 84, 421]</td>\n",
       "      <td>1237</td>\n",
       "      <td>1608.3</td>\n",
       "      <td>...</td>\n",
       "      <td>533</td>\n",
       "      <td>64</td>\n",
       "      <td>138</td>\n",
       "      <td>8</td>\n",
       "      <td>38711</td>\n",
       "      <td>60463</td>\n",
       "      <td>[LeBlanc, Yuumi, Aatrox, Sylas, Varus]</td>\n",
       "      <td>[Senna, Ezreal, Lissandra, Akali, Rek'Sai]</td>\n",
       "      <td>[[Assassin, Mage], [Support, Mage], [Fighter, ...</td>\n",
       "      <td>[[Marksman, Support], [Marksman, Mage], [Mage]...</td>\n",
       "    </tr>\n",
       "    <tr>\n",
       "      <th>0</th>\n",
       "      <td>4247155821</td>\n",
       "      <td>1317</td>\n",
       "      <td>1</td>\n",
       "      <td>0</td>\n",
       "      <td>0</td>\n",
       "      <td>1</td>\n",
       "      <td>[236, 245, 350, 110, 57]</td>\n",
       "      <td>[235, 126, 517, 58, 15]</td>\n",
       "      <td>1199.7</td>\n",
       "      <td>1674.1</td>\n",
       "      <td>...</td>\n",
       "      <td>571</td>\n",
       "      <td>59</td>\n",
       "      <td>134</td>\n",
       "      <td>3</td>\n",
       "      <td>24829</td>\n",
       "      <td>14105</td>\n",
       "      <td>[Lucian, Ekko, Yuumi, Varus, Maokai]</td>\n",
       "      <td>[Senna, Jayce, Sylas, Renekton, Sivir]</td>\n",
       "      <td>[[Marksman], [Assassin, Fighter], [Support, Ma...</td>\n",
       "      <td>[[Marksman, Support], [Fighter, Marksman], [Ma...</td>\n",
       "    </tr>\n",
       "    <tr>\n",
       "      <th>0</th>\n",
       "      <td>4243963257</td>\n",
       "      <td>932</td>\n",
       "      <td>0</td>\n",
       "      <td>0</td>\n",
       "      <td>0</td>\n",
       "      <td>0</td>\n",
       "      <td>[235, 60, 223, 112, 58]</td>\n",
       "      <td>[12, 429, 7, 64, 82]</td>\n",
       "      <td>1311.7</td>\n",
       "      <td>1617.8</td>\n",
       "      <td>...</td>\n",
       "      <td>400</td>\n",
       "      <td>50</td>\n",
       "      <td>89</td>\n",
       "      <td>5</td>\n",
       "      <td>12589</td>\n",
       "      <td>45201</td>\n",
       "      <td>[Senna, Elise, Tahm Kench, Viktor, Renekton]</td>\n",
       "      <td>[Alistar, Kalista, LeBlanc, Lee Sin, Mordekaiser]</td>\n",
       "      <td>[[Marksman, Support], [Mage, Fighter], [Suppor...</td>\n",
       "      <td>[[Tank, Support], [Marksman], [Assassin, Mage]...</td>\n",
       "    </tr>\n",
       "    <tr>\n",
       "      <th>0</th>\n",
       "      <td>4241678498</td>\n",
       "      <td>2098</td>\n",
       "      <td>0</td>\n",
       "      <td>0</td>\n",
       "      <td>0</td>\n",
       "      <td>1</td>\n",
       "      <td>[111, 142, 236, 78, 98]</td>\n",
       "      <td>[875, 41, 21, 154, 157]</td>\n",
       "      <td>1318.4</td>\n",
       "      <td>1891.5</td>\n",
       "      <td>...</td>\n",
       "      <td>832</td>\n",
       "      <td>84</td>\n",
       "      <td>205</td>\n",
       "      <td>9</td>\n",
       "      <td>65312</td>\n",
       "      <td>88202</td>\n",
       "      <td>[Nautilus, Zoe, Lucian, Poppy, Shen]</td>\n",
       "      <td>[Sett, Gangplank, Miss Fortune, Zac, Yasuo]</td>\n",
       "      <td>[[Tank, Fighter], [Mage, Support], [Marksman],...</td>\n",
       "      <td>[[Fighter, Tank], [Fighter], [Marksman], [Tank...</td>\n",
       "    </tr>\n",
       "    <tr>\n",
       "      <th>0</th>\n",
       "      <td>4241538868</td>\n",
       "      <td>2344</td>\n",
       "      <td>1</td>\n",
       "      <td>1</td>\n",
       "      <td>1</td>\n",
       "      <td>1</td>\n",
       "      <td>[145, 875, 236, 34, 60]</td>\n",
       "      <td>[62, 2, 517, 142, 350]</td>\n",
       "      <td>1497.2</td>\n",
       "      <td>1863.2</td>\n",
       "      <td>...</td>\n",
       "      <td>794</td>\n",
       "      <td>85</td>\n",
       "      <td>227</td>\n",
       "      <td>7</td>\n",
       "      <td>86431</td>\n",
       "      <td>64141</td>\n",
       "      <td>[Kai'Sa, Sett, Lucian, Anivia, Elise]</td>\n",
       "      <td>[Wukong, Olaf, Sylas, Zoe, Yuumi]</td>\n",
       "      <td>[[Marksman], [Fighter, Tank], [Marksman], [Mag...</td>\n",
       "      <td>[[Fighter, Tank], [Fighter, Tank], [Mage, Assa...</td>\n",
       "    </tr>\n",
       "  </tbody>\n",
       "</table>\n",
       "<p>5 rows × 54 columns</p>\n",
       "</div>"
      ],
      "text/plain": [
       "       gameId gameDuration blueWins First Blood First Tower First Dragon  \\\n",
       "0  4247263043         1323        0           1           0            0   \n",
       "0  4247155821         1317        1           0           0            1   \n",
       "0  4243963257          932        0           0           0            0   \n",
       "0  4241678498         2098        0           0           0            1   \n",
       "0  4241538868         2344        1           1           1            1   \n",
       "\n",
       "         champion_list_blue        champion_list_red gpm_blue xp_pm_blue  ...  \\\n",
       "0   [7, 350, 266, 517, 110]  [235, 81, 127, 84, 421]     1237     1608.3  ...   \n",
       "0  [236, 245, 350, 110, 57]  [235, 126, 517, 58, 15]   1199.7     1674.1  ...   \n",
       "0   [235, 60, 223, 112, 58]     [12, 429, 7, 64, 82]   1311.7     1617.8  ...   \n",
       "0   [111, 142, 236, 78, 98]  [875, 41, 21, 154, 157]   1318.4     1891.5  ...   \n",
       "0   [145, 875, 236, 34, 60]   [62, 2, 517, 142, 350]   1497.2     1863.2  ...   \n",
       "\n",
       "  minion_red level_red jungleminion_red killingspree_red heal_red  \\\n",
       "0        533        64              138                8    38711   \n",
       "0        571        59              134                3    24829   \n",
       "0        400        50               89                5    12589   \n",
       "0        832        84              205                9    65312   \n",
       "0        794        85              227                7    86431   \n",
       "\n",
       "  objectdamage_red                           champion_names_blue  \\\n",
       "0            60463        [LeBlanc, Yuumi, Aatrox, Sylas, Varus]   \n",
       "0            14105          [Lucian, Ekko, Yuumi, Varus, Maokai]   \n",
       "0            45201  [Senna, Elise, Tahm Kench, Viktor, Renekton]   \n",
       "0            88202          [Nautilus, Zoe, Lucian, Poppy, Shen]   \n",
       "0            64141         [Kai'Sa, Sett, Lucian, Anivia, Elise]   \n",
       "\n",
       "                                  champion_names_red  \\\n",
       "0         [Senna, Ezreal, Lissandra, Akali, Rek'Sai]   \n",
       "0             [Senna, Jayce, Sylas, Renekton, Sivir]   \n",
       "0  [Alistar, Kalista, LeBlanc, Lee Sin, Mordekaiser]   \n",
       "0        [Sett, Gangplank, Miss Fortune, Zac, Yasuo]   \n",
       "0                  [Wukong, Olaf, Sylas, Zoe, Yuumi]   \n",
       "\n",
       "                                 champion_types_blue  \\\n",
       "0  [[Assassin, Mage], [Support, Mage], [Fighter, ...   \n",
       "0  [[Marksman], [Assassin, Fighter], [Support, Ma...   \n",
       "0  [[Marksman, Support], [Mage, Fighter], [Suppor...   \n",
       "0  [[Tank, Fighter], [Mage, Support], [Marksman],...   \n",
       "0  [[Marksman], [Fighter, Tank], [Marksman], [Mag...   \n",
       "\n",
       "                                  champion_types_red  \n",
       "0  [[Marksman, Support], [Marksman, Mage], [Mage]...  \n",
       "0  [[Marksman, Support], [Fighter, Marksman], [Ma...  \n",
       "0  [[Tank, Support], [Marksman], [Assassin, Mage]...  \n",
       "0  [[Fighter, Tank], [Fighter], [Marksman], [Tank...  \n",
       "0  [[Fighter, Tank], [Fighter, Tank], [Mage, Assa...  \n",
       "\n",
       "[5 rows x 54 columns]"
      ]
     },
     "execution_count": 106,
     "metadata": {},
     "output_type": "execute_result"
    }
   ],
   "source": [
    "working_df.head()"
   ]
  },
  {
   "cell_type": "code",
   "execution_count": 107,
   "metadata": {},
   "outputs": [
    {
     "data": {
      "text/plain": [
       "(22711, 54)"
      ]
     },
     "execution_count": 107,
     "metadata": {},
     "output_type": "execute_result"
    }
   ],
   "source": [
    "working_df.shape"
   ]
  },
  {
   "cell_type": "code",
   "execution_count": 108,
   "metadata": {},
   "outputs": [],
   "source": [
    "champs_list = []\n",
    "for i in range(len(champs)):\n",
    "    [champs_list.append(tag) for tag in eval(champs[\"tags\"].loc[i]) if tag not in champs_list]"
   ]
  },
  {
   "cell_type": "code",
   "execution_count": 109,
   "metadata": {},
   "outputs": [
    {
     "data": {
      "text/plain": [
       "['Fighter', 'Tank', 'Mage', 'Assassin', 'Support', 'Marksman']"
      ]
     },
     "execution_count": 109,
     "metadata": {},
     "output_type": "execute_result"
    }
   ],
   "source": [
    "champs_list"
   ]
  },
  {
   "cell_type": "markdown",
   "metadata": {},
   "source": [
    "# Creating a Column to count each type of champion + the team "
   ]
  },
  {
   "cell_type": "code",
   "execution_count": 110,
   "metadata": {},
   "outputs": [],
   "source": [
    "for item in champs_list:\n",
    "    working_df[item+\"_blue\"]=0\n",
    "    working_df[item+\"_red\"]=0"
   ]
  },
  {
   "cell_type": "code",
   "execution_count": 111,
   "metadata": {},
   "outputs": [
    {
     "name": "stderr",
     "output_type": "stream",
     "text": [
      "/Users/andreasglassl/opt/miniconda3/envs/backpack_banana/lib/python3.7/site-packages/pandas/core/indexing.py:671: SettingWithCopyWarning: \n",
      "A value is trying to be set on a copy of a slice from a DataFrame\n",
      "\n",
      "See the caveats in the documentation: https://pandas.pydata.org/pandas-docs/stable/user_guide/indexing.html#returning-a-view-versus-a-copy\n",
      "  self._setitem_with_indexer(indexer, value)\n"
     ]
    }
   ],
   "source": [
    "for i in range(len(working_df)):\n",
    "    '''\n",
    "    First process the blue champion types:\n",
    "    '''\n",
    "    for j in range(len(working_df[\"champion_types_blue\"].iloc[i])):\n",
    "        if \"Fighter\" in working_df[\"champion_types_blue\"].iloc[i][j]:\n",
    "            working_df[\"Fighter_blue\"].iloc[i]+=1\n",
    "            \n",
    "        if \"Tank\" in working_df[\"champion_types_blue\"].iloc[i][j]:\n",
    "            working_df[\"Tank_blue\"].iloc[i]+=1\n",
    "            \n",
    "        if \"Mage\" in working_df[\"champion_types_blue\"].iloc[i][j]:\n",
    "            working_df[\"Mage_blue\"].iloc[i]+=1\n",
    "            \n",
    "        if \"Assasin\" in working_df[\"champion_types_blue\"].iloc[i][j]:\n",
    "            working_df[\"Assasin_blue\"].iloc[i]+=1\n",
    "            \n",
    "        if \"Support\" in working_df[\"champion_types_blue\"].iloc[i][j]:\n",
    "            working_df[\"Support_blue\"].iloc[i]+=1\n",
    "            \n",
    "        if \"Marksman\" in working_df[\"champion_types_blue\"].iloc[i][j]:\n",
    "            working_df[\"Marksman_blue\"].iloc[i]+=1\n",
    "            \n",
    "    '''\n",
    "    Then do the same with the red champions\n",
    "    '''\n",
    "    for j in range(len(working_df[\"champion_types_red\"].iloc[i])):\n",
    "        if \"Fighter\" in working_df[\"champion_types_red\"].iloc[i][j]:\n",
    "            working_df[\"Fighter_red\"].iloc[i]+=1\n",
    "            \n",
    "        if \"Tank\" in working_df[\"champion_types_red\"].iloc[i][j]:\n",
    "            working_df[\"Tank_red\"].iloc[i]+=1\n",
    "            \n",
    "        if \"Mage\" in working_df[\"champion_types_red\"].iloc[i][j]:\n",
    "            working_df[\"Mage_red\"].iloc[i]+=1\n",
    "            \n",
    "        if \"Assasin\" in working_df[\"champion_types_red\"].iloc[i][j]:\n",
    "            working_df[\"Assasin_red\"].iloc[i]+=1\n",
    "            \n",
    "        if \"Support\" in working_df[\"champion_types_red\"].iloc[i][j]:\n",
    "            working_df[\"Support_red\"].iloc[i]+=1\n",
    "            \n",
    "        if \"Marksman\" in working_df[\"champion_types_red\"].iloc[i][j]:\n",
    "            working_df[\"Marksman_red\"].iloc[i]+=1\n"
   ]
  },
  {
   "cell_type": "code",
   "execution_count": 88,
   "metadata": {},
   "outputs": [],
   "source": [
    "#working_df = working_df.drop(columns=[\"champion_list_blue\",\"champion_list_red\"])"
   ]
  },
  {
   "cell_type": "code",
   "execution_count": 112,
   "metadata": {},
   "outputs": [],
   "source": [
    "working_df=working_df.reset_index(drop=True)"
   ]
  },
  {
   "cell_type": "code",
   "execution_count": 113,
   "metadata": {},
   "outputs": [],
   "source": [
    "working_df[\"First Blood\"]=working_df[\"First Blood\"].astype(int)"
   ]
  },
  {
   "cell_type": "code",
   "execution_count": 114,
   "metadata": {},
   "outputs": [],
   "source": [
    "working_df[\"First Tower\"]=working_df[\"First Tower\"].astype(int)"
   ]
  },
  {
   "cell_type": "code",
   "execution_count": 115,
   "metadata": {},
   "outputs": [],
   "source": [
    "working_df[\"First Dragon\"]=working_df[\"First Dragon\"].astype(int)"
   ]
  },
  {
   "cell_type": "code",
   "execution_count": 116,
   "metadata": {},
   "outputs": [],
   "source": [
    "working_df[\"blueWins\"]=working_df[\"blueWins\"].astype(int)"
   ]
  },
  {
   "cell_type": "code",
   "execution_count": 117,
   "metadata": {
    "scrolled": true
   },
   "outputs": [
    {
     "data": {
      "text/plain": [
       "gameId           object\n",
       "gameDuration     object\n",
       "blueWins          int64\n",
       "First Blood       int64\n",
       "First Tower       int64\n",
       "                  ...  \n",
       "Assassin_red      int64\n",
       "Support_blue      int64\n",
       "Support_red       int64\n",
       "Marksman_blue     int64\n",
       "Marksman_red      int64\n",
       "Length: 66, dtype: object"
      ]
     },
     "execution_count": 117,
     "metadata": {},
     "output_type": "execute_result"
    }
   ],
   "source": [
    "working_df.dtypes"
   ]
  },
  {
   "cell_type": "code",
   "execution_count": 118,
   "metadata": {},
   "outputs": [],
   "source": [
    "working_df.to_csv(\"../Data/Match_Data/prepared_dataset.csv\", index=False)"
   ]
  },
  {
   "cell_type": "code",
   "execution_count": 96,
   "metadata": {},
   "outputs": [],
   "source": [
    "df = pd.read_csv(\"../Data/Match_Data/prepared_dataset.csv\")"
   ]
  },
  {
   "cell_type": "code",
   "execution_count": 97,
   "metadata": {},
   "outputs": [
    {
     "data": {
      "text/html": [
       "<div>\n",
       "<style scoped>\n",
       "    .dataframe tbody tr th:only-of-type {\n",
       "        vertical-align: middle;\n",
       "    }\n",
       "\n",
       "    .dataframe tbody tr th {\n",
       "        vertical-align: top;\n",
       "    }\n",
       "\n",
       "    .dataframe thead th {\n",
       "        text-align: right;\n",
       "    }\n",
       "</style>\n",
       "<table border=\"1\" class=\"dataframe\">\n",
       "  <thead>\n",
       "    <tr style=\"text-align: right;\">\n",
       "      <th></th>\n",
       "      <th>gameId</th>\n",
       "      <th>gameDuration</th>\n",
       "      <th>blueWins</th>\n",
       "      <th>First Blood</th>\n",
       "      <th>First Tower</th>\n",
       "      <th>First Dragon</th>\n",
       "      <th>champion_list_blue</th>\n",
       "      <th>champion_list_red</th>\n",
       "      <th>gpm_blue</th>\n",
       "      <th>xp_pm_blue</th>\n",
       "      <th>...</th>\n",
       "      <th>Tank_blue</th>\n",
       "      <th>Tank_red</th>\n",
       "      <th>Mage_blue</th>\n",
       "      <th>Mage_red</th>\n",
       "      <th>Assassin_blue</th>\n",
       "      <th>Assassin_red</th>\n",
       "      <th>Support_blue</th>\n",
       "      <th>Support_red</th>\n",
       "      <th>Marksman_blue</th>\n",
       "      <th>Marksman_red</th>\n",
       "    </tr>\n",
       "  </thead>\n",
       "  <tbody>\n",
       "    <tr>\n",
       "      <th>0</th>\n",
       "      <td>4247263043</td>\n",
       "      <td>1323</td>\n",
       "      <td>0</td>\n",
       "      <td>1</td>\n",
       "      <td>0</td>\n",
       "      <td>0</td>\n",
       "      <td>[7, 350, 266, 517, 110]</td>\n",
       "      <td>[235, 81, 127, 84, 421]</td>\n",
       "      <td>1237.0</td>\n",
       "      <td>1608.3</td>\n",
       "      <td>...</td>\n",
       "      <td>1</td>\n",
       "      <td>0</td>\n",
       "      <td>4</td>\n",
       "      <td>2</td>\n",
       "      <td>0</td>\n",
       "      <td>0</td>\n",
       "      <td>1</td>\n",
       "      <td>1</td>\n",
       "      <td>1</td>\n",
       "      <td>2</td>\n",
       "    </tr>\n",
       "    <tr>\n",
       "      <th>1</th>\n",
       "      <td>4247155821</td>\n",
       "      <td>1317</td>\n",
       "      <td>1</td>\n",
       "      <td>0</td>\n",
       "      <td>0</td>\n",
       "      <td>1</td>\n",
       "      <td>[236, 245, 350, 110, 57]</td>\n",
       "      <td>[235, 126, 517, 58, 15]</td>\n",
       "      <td>1199.7</td>\n",
       "      <td>1674.1</td>\n",
       "      <td>...</td>\n",
       "      <td>1</td>\n",
       "      <td>1</td>\n",
       "      <td>3</td>\n",
       "      <td>1</td>\n",
       "      <td>0</td>\n",
       "      <td>0</td>\n",
       "      <td>1</td>\n",
       "      <td>1</td>\n",
       "      <td>2</td>\n",
       "      <td>3</td>\n",
       "    </tr>\n",
       "    <tr>\n",
       "      <th>2</th>\n",
       "      <td>4243963257</td>\n",
       "      <td>932</td>\n",
       "      <td>0</td>\n",
       "      <td>0</td>\n",
       "      <td>0</td>\n",
       "      <td>0</td>\n",
       "      <td>[235, 60, 223, 112, 58]</td>\n",
       "      <td>[12, 429, 7, 64, 82]</td>\n",
       "      <td>1311.7</td>\n",
       "      <td>1617.8</td>\n",
       "      <td>...</td>\n",
       "      <td>2</td>\n",
       "      <td>1</td>\n",
       "      <td>2</td>\n",
       "      <td>1</td>\n",
       "      <td>0</td>\n",
       "      <td>0</td>\n",
       "      <td>2</td>\n",
       "      <td>1</td>\n",
       "      <td>1</td>\n",
       "      <td>1</td>\n",
       "    </tr>\n",
       "    <tr>\n",
       "      <th>3</th>\n",
       "      <td>4241678498</td>\n",
       "      <td>2098</td>\n",
       "      <td>0</td>\n",
       "      <td>0</td>\n",
       "      <td>0</td>\n",
       "      <td>1</td>\n",
       "      <td>[111, 142, 236, 78, 98]</td>\n",
       "      <td>[875, 41, 21, 154, 157]</td>\n",
       "      <td>1318.4</td>\n",
       "      <td>1891.5</td>\n",
       "      <td>...</td>\n",
       "      <td>3</td>\n",
       "      <td>2</td>\n",
       "      <td>1</td>\n",
       "      <td>0</td>\n",
       "      <td>0</td>\n",
       "      <td>0</td>\n",
       "      <td>1</td>\n",
       "      <td>0</td>\n",
       "      <td>1</td>\n",
       "      <td>1</td>\n",
       "    </tr>\n",
       "    <tr>\n",
       "      <th>4</th>\n",
       "      <td>4241538868</td>\n",
       "      <td>2344</td>\n",
       "      <td>1</td>\n",
       "      <td>1</td>\n",
       "      <td>1</td>\n",
       "      <td>1</td>\n",
       "      <td>[145, 875, 236, 34, 60]</td>\n",
       "      <td>[62, 2, 517, 142, 350]</td>\n",
       "      <td>1497.2</td>\n",
       "      <td>1863.2</td>\n",
       "      <td>...</td>\n",
       "      <td>1</td>\n",
       "      <td>2</td>\n",
       "      <td>2</td>\n",
       "      <td>3</td>\n",
       "      <td>0</td>\n",
       "      <td>0</td>\n",
       "      <td>1</td>\n",
       "      <td>2</td>\n",
       "      <td>2</td>\n",
       "      <td>0</td>\n",
       "    </tr>\n",
       "  </tbody>\n",
       "</table>\n",
       "<p>5 rows × 66 columns</p>\n",
       "</div>"
      ],
      "text/plain": [
       "       gameId  gameDuration  blueWins  First Blood  First Tower  First Dragon  \\\n",
       "0  4247263043          1323         0            1            0             0   \n",
       "1  4247155821          1317         1            0            0             1   \n",
       "2  4243963257           932         0            0            0             0   \n",
       "3  4241678498          2098         0            0            0             1   \n",
       "4  4241538868          2344         1            1            1             1   \n",
       "\n",
       "         champion_list_blue        champion_list_red  gpm_blue  xp_pm_blue  \\\n",
       "0   [7, 350, 266, 517, 110]  [235, 81, 127, 84, 421]    1237.0      1608.3   \n",
       "1  [236, 245, 350, 110, 57]  [235, 126, 517, 58, 15]    1199.7      1674.1   \n",
       "2   [235, 60, 223, 112, 58]     [12, 429, 7, 64, 82]    1311.7      1617.8   \n",
       "3   [111, 142, 236, 78, 98]  [875, 41, 21, 154, 157]    1318.4      1891.5   \n",
       "4   [145, 875, 236, 34, 60]   [62, 2, 517, 142, 350]    1497.2      1863.2   \n",
       "\n",
       "   ...  Tank_blue  Tank_red  Mage_blue  Mage_red  Assassin_blue  Assassin_red  \\\n",
       "0  ...          1         0          4         2              0             0   \n",
       "1  ...          1         1          3         1              0             0   \n",
       "2  ...          2         1          2         1              0             0   \n",
       "3  ...          3         2          1         0              0             0   \n",
       "4  ...          1         2          2         3              0             0   \n",
       "\n",
       "   Support_blue  Support_red  Marksman_blue  Marksman_red  \n",
       "0             1            1              1             2  \n",
       "1             1            1              2             3  \n",
       "2             2            1              1             1  \n",
       "3             1            0              1             1  \n",
       "4             1            2              2             0  \n",
       "\n",
       "[5 rows x 66 columns]"
      ]
     },
     "execution_count": 97,
     "metadata": {},
     "output_type": "execute_result"
    }
   ],
   "source": [
    "df.head()"
   ]
  },
  {
   "cell_type": "code",
   "execution_count": null,
   "metadata": {},
   "outputs": [],
   "source": [
    "num_cols = [\"gpm_blue\", \"xp_pm_blue\", \"cs_pm_blue\", \"dmg_taken_blue\",\\\n",
    "            \"gpm_red\", \"xp_pm_red\", \"cs_pm_red\", \"dmg_taken_red\"]"
   ]
  },
  {
   "cell_type": "code",
   "execution_count": null,
   "metadata": {},
   "outputs": [],
   "source": [
    "from sklearn.preprocessing import StandardScaler"
   ]
  },
  {
   "cell_type": "code",
   "execution_count": null,
   "metadata": {},
   "outputs": [],
   "source": [
    "std = StandardScaler()\n",
    "scaled_fit = std.fit(working_df[num_cols])"
   ]
  },
  {
   "cell_type": "code",
   "execution_count": null,
   "metadata": {},
   "outputs": [],
   "source": [
    "scaled = pd.DataFrame(scaled_fit.transform(working_df[num_cols]), columns=num_cols)\n",
    "\n",
    "working_df = working_df.drop(columns=num_cols, axis=1)\n",
    "working_df = working_df.merge(scaled, left_index=True, right_index=True, how=\"inner\")"
   ]
  },
  {
   "cell_type": "code",
   "execution_count": null,
   "metadata": {},
   "outputs": [],
   "source": [
    "train_cols=working_df.columns.to_list()"
   ]
  },
  {
   "cell_type": "code",
   "execution_count": null,
   "metadata": {},
   "outputs": [],
   "source": [
    "train_cols.remove(\"blueWins\")"
   ]
  },
  {
   "cell_type": "code",
   "execution_count": null,
   "metadata": {},
   "outputs": [],
   "source": [
    "train_cols.remove(\"gameDuration\")"
   ]
  },
  {
   "cell_type": "code",
   "execution_count": null,
   "metadata": {},
   "outputs": [],
   "source": [
    "\"blueWins\" in train_cols"
   ]
  },
  {
   "cell_type": "code",
   "execution_count": null,
   "metadata": {},
   "outputs": [],
   "source": [
    "target_col = \"blueWins\""
   ]
  },
  {
   "cell_type": "code",
   "execution_count": null,
   "metadata": {},
   "outputs": [],
   "source": [
    "train_cols.remove(\"gameId\")"
   ]
  },
  {
   "cell_type": "code",
   "execution_count": null,
   "metadata": {},
   "outputs": [],
   "source": [
    "from sklearn.model_selection import train_test_split\n",
    "train, test = train_test_split(working_df, test_size=.2, random_state=3)\n",
    "\n",
    "train_X = train[train_cols].reset_index(drop=True)\n",
    "train_y = train[target_col].reset_index(drop=True)\n",
    "test_X = test[train_cols].reset_index(drop=True)\n",
    "test_y = test[target_col].reset_index(drop=True)"
   ]
  },
  {
   "cell_type": "code",
   "execution_count": null,
   "metadata": {},
   "outputs": [],
   "source": [
    "train_X.dtypes"
   ]
  },
  {
   "cell_type": "code",
   "execution_count": null,
   "metadata": {},
   "outputs": [],
   "source": [
    "def evaluate_model(train_X, train_y, test_X, test_y, model):\n",
    "    ml_model = model\n",
    "    ml_model.fit(train_X, train_y)\n",
    "    \n",
    "    predictions = ml_model.predict(test_X)\n",
    "    acc = accuracy_score(test_y, predictions)\n",
    "    \n",
    "    print(f\"Our model achieved an accuracy of {acc}\")"
   ]
  },
  {
   "cell_type": "code",
   "execution_count": null,
   "metadata": {},
   "outputs": [],
   "source": [
    "from sklearn.linear_model import LogisticRegression\n",
    "from sklearn.metrics import accuracy_score"
   ]
  },
  {
   "cell_type": "code",
   "execution_count": null,
   "metadata": {},
   "outputs": [],
   "source": [
    "evaluate_model(train_X, train_y, test_X, test_y, LogisticRegression())"
   ]
  },
  {
   "cell_type": "code",
   "execution_count": null,
   "metadata": {},
   "outputs": [],
   "source": [
    "from sklearn.tree import DecisionTreeClassifier\n",
    "from sklearn.ensemble import RandomForestClassifier\n",
    "from sklearn.linear_model import SGDClassifier"
   ]
  },
  {
   "cell_type": "code",
   "execution_count": null,
   "metadata": {},
   "outputs": [],
   "source": [
    "evaluate_model(train_X, train_y, test_X, test_y, DecisionTreeClassifier())"
   ]
  },
  {
   "cell_type": "code",
   "execution_count": null,
   "metadata": {},
   "outputs": [],
   "source": [
    "evaluate_model(train_X, train_y, test_X, test_y, RandomForestClassifier(n_estimators=100))"
   ]
  },
  {
   "cell_type": "code",
   "execution_count": null,
   "metadata": {},
   "outputs": [],
   "source": [
    "evaluate_model(train_X, train_y, test_X, test_y, SGDClassifier())"
   ]
  },
  {
   "cell_type": "code",
   "execution_count": null,
   "metadata": {},
   "outputs": [],
   "source": [
    "from sklearn.feature_selection import RFECV\n",
    "from sklearn.model_selection import cross_validate"
   ]
  },
  {
   "cell_type": "code",
   "execution_count": null,
   "metadata": {},
   "outputs": [],
   "source": [
    "models = {\"Logistic Regression\": LogisticRegression(),\n",
    "          \"Decision Tree\": DecisionTreeClassifier(random_state=42),\n",
    "          \"Random Forest\": RandomForestClassifier(n_estimators=100, n_jobs=-1)}"
   ]
  },
  {
   "cell_type": "code",
   "execution_count": null,
   "metadata": {},
   "outputs": [],
   "source": [
    "def validate_model(model, X):\n",
    "    validation_results = cross_validate(model,\n",
    "                                        X,\n",
    "                                        train_y.values.ravel(),\n",
    "                                        cv=5,\n",
    "                                        scoring=\"balanced_accuracy\")\n",
    "    acc = validation_results[\"test_score\"].mean()\n",
    "    print(f\"Balanced Mean Accuracy Score: {acc}\")"
   ]
  },
  {
   "cell_type": "code",
   "execution_count": null,
   "metadata": {},
   "outputs": [],
   "source": [
    "def evaluate_models(models, X):\n",
    "    for key, value in models.items():\n",
    "        print(f\"Model: {key}\")\n",
    "        validate_model(value, X)\n",
    "        print(\"--------------\\n\")"
   ]
  },
  {
   "cell_type": "code",
   "execution_count": null,
   "metadata": {},
   "outputs": [],
   "source": [
    "evaluate_models(models, train_X)"
   ]
  },
  {
   "cell_type": "code",
   "execution_count": null,
   "metadata": {},
   "outputs": [],
   "source": [
    "selector_rf = RFECV(models[\"Random Forest\"],\n",
    "                    cv=5,\n",
    "                    scoring=\"balanced_accuracy\")"
   ]
  },
  {
   "cell_type": "code",
   "execution_count": null,
   "metadata": {},
   "outputs": [],
   "source": [
    "selector_rf.fit(train_X, train_y)"
   ]
  },
  {
   "cell_type": "code",
   "execution_count": null,
   "metadata": {},
   "outputs": [],
   "source": [
    "selector_rf.get_support()"
   ]
  },
  {
   "cell_type": "code",
   "execution_count": null,
   "metadata": {},
   "outputs": [],
   "source": [
    "train_X.columns"
   ]
  },
  {
   "cell_type": "code",
   "execution_count": null,
   "metadata": {},
   "outputs": [],
   "source": [
    "train_X2 = train_X[train_X.columns[selector_rf.get_support()]]"
   ]
  },
  {
   "cell_type": "code",
   "execution_count": null,
   "metadata": {},
   "outputs": [],
   "source": [
    "evaluate_models(models, train_X2)"
   ]
  },
  {
   "cell_type": "code",
   "execution_count": null,
   "metadata": {},
   "outputs": [],
   "source": [
    "models"
   ]
  },
  {
   "cell_type": "code",
   "execution_count": null,
   "metadata": {},
   "outputs": [],
   "source": [
    "models[\"Random Forest\"] = RandomForestClassifier(n_estimators=500, n_jobs=-1)"
   ]
  },
  {
   "cell_type": "code",
   "execution_count": null,
   "metadata": {},
   "outputs": [],
   "source": [
    "selector_rf2 = RFECV(models[\"Random Forest\"],\n",
    "                     cv=5,\n",
    "                     scoring=\"balanced_accuracy\")\n",
    "selector_rf.fit(train_X, train_y)\n",
    "train_X3 = train_X[train_X.columns[selector_rf.get_support()]]"
   ]
  },
  {
   "cell_type": "code",
   "execution_count": null,
   "metadata": {},
   "outputs": [],
   "source": [
    "evaluate_models(models, train_X3)"
   ]
  },
  {
   "cell_type": "code",
   "execution_count": null,
   "metadata": {},
   "outputs": [],
   "source": [
    "from sklearn.model_selection import GridSearchCV"
   ]
  },
  {
   "cell_type": "code",
   "execution_count": null,
   "metadata": {},
   "outputs": [],
   "source": [
    "param_grid_rf = {\"n_estimators\": [500, 1000],\n",
    "                 \"criterion\": [\"gini\", \"entropy\"],\n",
    "                 \"bootstrap\": [True, False],\n",
    "                 \"max_depth\": [3, 10, None],\n",
    "                 \"min_samples_leaf\": [10, 30, 50, None]}\n",
    "\n",
    "tune_rf = GridSearchCV(RandomForestClassifier(),\n",
    "                       param_grid=param_grid_rf,\n",
    "                       cv=3,\n",
    "                       scoring=\"balanced_accuracy\",\n",
    "                       n_jobs=-1)\n",
    "\n",
    "tune_rf.fit(train_X3, train_y)"
   ]
  },
  {
   "cell_type": "code",
   "execution_count": null,
   "metadata": {},
   "outputs": [],
   "source": [
    "tune_rf.best_params_"
   ]
  },
  {
   "cell_type": "code",
   "execution_count": null,
   "metadata": {},
   "outputs": [],
   "source": [
    "validate_model(RandomForestClassifier(**tune_rf.best_params_), train_X3)"
   ]
  },
  {
   "cell_type": "code",
   "execution_count": null,
   "metadata": {},
   "outputs": [],
   "source": [
    "\n",
    "train_X3 = train_X[train_X.columns[selector_rf.get_support()]]\n",
    "rf_model = RandomForestClassifier(**tune_rf.best_params_)\n",
    "rf_model.fit(train_X3, train_y)\n",
    "\n",
    "test_X3 = test_X[test_X.columns[selector_rf.get_support()]]\n",
    "rf_pred = rf_model.predict(test_X3)"
   ]
  },
  {
   "cell_type": "code",
   "execution_count": null,
   "metadata": {},
   "outputs": [],
   "source": [
    "evaluate_models(models, train_X3)"
   ]
  },
  {
   "cell_type": "code",
   "execution_count": null,
   "metadata": {},
   "outputs": [],
   "source": [
    "gameId             object\n",
    "gameDuration       object\n",
    "blueWins            int64\n",
    "First Blood         int64\n",
    "First Tower         int64\n",
    "First Dragon        int64\n",
    "Fighter_blue        int64\n",
    "Fighter_red         int64\n",
    "Tank_blue           int64\n",
    "Tank_red            int64\n",
    "Mage_blue           int64\n",
    "Mage_red            int64\n",
    "Assassin_blue       int64\n",
    "Assassin_red        int64\n",
    "Support_blue        int64\n",
    "Support_red         int64\n",
    "Marksman_blue       int64\n",
    "Marksman_red        int64\n",
    "gpm_blue          float64\n",
    "xp_pm_blue        float64\n",
    "cs_pm_blue        float64\n",
    "dmg_taken_blue    float64\n",
    "gpm_red           float64\n",
    "xp_pm_red         float64\n",
    "cs_pm_red         float64\n",
    "dmg_taken_red     float64\n",
    "dtype: object"
   ]
  },
  {
   "cell_type": "code",
   "execution_count": null,
   "metadata": {},
   "outputs": [],
   "source": [
    "num_cols = [\"Fighter_blue\", \"Fighter_red\", \"Tank_blue\",\"Tank_red\",\\\n",
    "            \"Mage_blue\",\"Mage_red\",\"Assassin_blue\",\"Assassin_red\",\\\n",
    "            \"Support_blue\",\"Support_red\", \"Marksman_blue\", \"Marksman_red\",\\\n",
    "            \"First Blood\", \"First Tower\"]"
   ]
  },
  {
   "cell_type": "code",
   "execution_count": null,
   "metadata": {},
   "outputs": [],
   "source": [
    "std = StandardScaler()\n",
    "scaled_fit = std.fit(working_df[num_cols])"
   ]
  },
  {
   "cell_type": "code",
   "execution_count": null,
   "metadata": {},
   "outputs": [],
   "source": [
    "scaled = pd.DataFrame(scaled_fit.transform(working_df[num_cols]), columns=num_cols)\n",
    "\n",
    "working_df = working_df.drop(columns=num_cols, axis=1)\n",
    "working_df = working_df.merge(scaled, left_index=True, right_index=True, how=\"inner\")"
   ]
  },
  {
   "cell_type": "code",
   "execution_count": null,
   "metadata": {},
   "outputs": [],
   "source": [
    "train_cols=working_df.columns.to_list()"
   ]
  },
  {
   "cell_type": "code",
   "execution_count": null,
   "metadata": {},
   "outputs": [],
   "source": [
    "working_df.dtypes"
   ]
  },
  {
   "cell_type": "code",
   "execution_count": null,
   "metadata": {},
   "outputs": [],
   "source": [
    "train_cols = num_cols.copy()"
   ]
  },
  {
   "cell_type": "code",
   "execution_count": null,
   "metadata": {},
   "outputs": [],
   "source": [
    "from sklearn.model_selection import train_test_split\n",
    "train, test = train_test_split(working_df, test_size=.2, random_state=3)\n",
    "\n",
    "train_X = train[train_cols].reset_index(drop=True)\n",
    "train_y = train[target_col].reset_index(drop=True)\n",
    "test_X = test[train_cols].reset_index(drop=True)\n",
    "test_y = test[target_col].reset_index(drop=True)"
   ]
  },
  {
   "cell_type": "code",
   "execution_count": null,
   "metadata": {},
   "outputs": [],
   "source": [
    "evaluate_model(train_X, train_y, test_X, test_y, LogisticRegression())"
   ]
  },
  {
   "cell_type": "code",
   "execution_count": null,
   "metadata": {
    "scrolled": true
   },
   "outputs": [],
   "source": [
    "evaluate_models(models, train_X)"
   ]
  },
  {
   "cell_type": "code",
   "execution_count": null,
   "metadata": {},
   "outputs": [],
   "source": []
  }
 ],
 "metadata": {
  "kernelspec": {
   "display_name": "Python 3",
   "language": "python",
   "name": "python3"
  },
  "language_info": {
   "codemirror_mode": {
    "name": "ipython",
    "version": 3
   },
   "file_extension": ".py",
   "mimetype": "text/x-python",
   "name": "python",
   "nbconvert_exporter": "python",
   "pygments_lexer": "ipython3",
   "version": "3.7.6"
  }
 },
 "nbformat": 4,
 "nbformat_minor": 4
}
