{
 "cells": [
  {
   "cell_type": "code",
   "execution_count": 1,
   "metadata": {},
   "outputs": [],
   "source": [
    "import numpy as np\n",
    "import pandas as pd\n",
    "import pickle\n",
    "import matplotlib.pyplot as plt\n",
    "import numpy as np\n",
    "import json\n",
    "import re \n",
    "import time\n",
    "from pandas.io.json import json_normalize"
   ]
  },
  {
   "cell_type": "markdown",
   "metadata": {},
   "source": [
    "# 1. Reading in the DataFrames:\n",
    "**challengergame** is the players information. \n",
    "\n",
    "**ingame** is the overall game informations."
   ]
  },
  {
   "cell_type": "code",
   "execution_count": 2,
   "metadata": {},
   "outputs": [],
   "source": [
    "challengergame_df = pd.read_csv('../Data/Match_Data/challenger_match.csv')\n",
    "challengergame_df2 = pd.read_csv('../Data/Match_Data/challenger_match_V2.csv')\n",
    "\n",
    "ingame_df = pd.read_pickle('../Data/Match_Data/match_data_version2.pickle')"
   ]
  },
  {
   "cell_type": "markdown",
   "metadata": {},
   "source": [
    "## 1.1 Preparing DataFrames for processing:\n",
    "\n",
    "First we concatinate the game informations of challenger players. \n",
    "\n",
    "Then the Dataframe on the unique challenger games which have been played are merged on the gameId."
   ]
  },
  {
   "cell_type": "code",
   "execution_count": 3,
   "metadata": {},
   "outputs": [],
   "source": [
    "chall_game = pd.concat([challengergame_df,challengergame_df2],axis = 0)"
   ]
  },
  {
   "cell_type": "code",
   "execution_count": 4,
   "metadata": {},
   "outputs": [],
   "source": [
    "chall_game_unique = chall_game.drop_duplicates('gameId')"
   ]
  },
  {
   "cell_type": "code",
   "execution_count": 15,
   "metadata": {
    "scrolled": false
   },
   "outputs": [
    {
     "data": {
      "text/plain": [
       "3853979646    1\n",
       "4140857124    1\n",
       "4204437113    1\n",
       "4105745861    1\n",
       "4196789879    1\n",
       "             ..\n",
       "4164836222    1\n",
       "4076303227    1\n",
       "4165696378    1\n",
       "3957248546    1\n",
       "4018953221    1\n",
       "Name: gameId, Length: 41046, dtype: int64"
      ]
     },
     "execution_count": 15,
     "metadata": {},
     "output_type": "execute_result"
    }
   ],
   "source": [
    "chall_game_unique[\"gameId\"].value_counts()"
   ]
  },
  {
   "cell_type": "code",
   "execution_count": 20,
   "metadata": {},
   "outputs": [
    {
     "data": {
      "text/plain": [
       "41046"
      ]
     },
     "execution_count": 20,
     "metadata": {},
     "output_type": "execute_result"
    }
   ],
   "source": [
    "len(chall_game_unique)"
   ]
  },
  {
   "cell_type": "code",
   "execution_count": null,
   "metadata": {},
   "outputs": [],
   "source": [
    "for i in range(len(dtfc)):\n",
    "    for j in range(1,len(modules)):\n",
    "        if (dtfc.iloc[i,0]<modules[j,0])&(dtfc.iloc[i,0]>modules[j-1,0]):\n",
    "            dtfc[\"modules_no\"].loc[i]=i+1"
   ]
  },
  {
   "cell_type": "code",
   "execution_count": null,
   "metadata": {},
   "outputs": [],
   "source": [
    "for i in range(len(modules)):\n",
    "    if i==0:\n",
    "        df[df[\"messzeitpunkt\"]<df2.iloc[i,0]]\n",
    "    else:\n",
    "        df[(df[\"messzeitpunkt\"]<df2.iloc[i,0])&df[df[\"messzeitpunkt\"]>df2.iloc[i-1,0]]]"
   ]
  },
  {
   "cell_type": "code",
   "execution_count": 25,
   "metadata": {},
   "outputs": [],
   "source": [
    "chall_match = pd.merge(ingame_df,chall_game_unique[['gameId','accountId']], on = 'gameId', how = 'left')\\\n",
    "                                    .drop(columns=['status.message','status.status_code'])\\\n",
    "                                    .dropna(axis=0)\n",
    "\n",
    "chall_match.index = range(len(chall_match))"
   ]
  },
  {
   "cell_type": "code",
   "execution_count": 24,
   "metadata": {
    "scrolled": false
   },
   "outputs": [
    {
     "data": {
      "text/plain": [
       "(145796, 13)"
      ]
     },
     "execution_count": 24,
     "metadata": {},
     "output_type": "execute_result"
    }
   ],
   "source": [
    "chall_match.shape"
   ]
  },
  {
   "cell_type": "code",
   "execution_count": 18,
   "metadata": {},
   "outputs": [],
   "source": [
    "def preparing_dataframe(lower, upper):\n",
    "    df_storage = pd.DataFrame()\n",
    "    for x in range(lower, upper):\n",
    "        if x % 100 == 0:\n",
    "            print(str(x) + ' ~ ' + str(x+100) + ' processing')\n",
    "        gameId = chall_match['gameId'].iloc[x]\n",
    "        gameDuration = chall_match['gameDuration'].iloc[x]\n",
    "\n",
    "        for k in range(len(chall_match['teams'].iloc[x])):\n",
    "\n",
    "            if chall_match['teams'].iloc[x][k]['teamId'] == 100:\n",
    "                win = chall_match['teams'].iloc[x][k]['win']\n",
    "                firstblood = chall_match['teams'].iloc[x][k]['firstBlood']\n",
    "                firstTower = chall_match['teams'].iloc[x][k]['firstTower']\n",
    "                firstBaron = chall_match['teams'].iloc[x][k]['firstBaron']\n",
    "                firstDragon = chall_match['teams'].iloc[x][k]['firstDragon']\n",
    "                firstinhibitor = chall_match['teams'].iloc[x][k]['firstInhibitor']\n",
    "\n",
    "                dragonkill = chall_match['teams'].iloc[x][k]['dragonKills']\n",
    "                baronkill = chall_match['teams'].iloc[x][k]['baronKills']\n",
    "                towerkill = chall_match['teams'].iloc[x][k]['towerKills']\n",
    "                inhibitorkill = chall_match['teams'].iloc[x][k]['inhibitorKills']\n",
    "            else:\n",
    "                win2 = chall_match['teams'].iloc[x][k]['win']\n",
    "                firstblood2 = chall_match['teams'].iloc[x][k]['firstBlood']\n",
    "                firstTower2 = chall_match['teams'].iloc[x][k]['firstTower']\n",
    "                firstBaron2 = chall_match['teams'].iloc[x][k]['firstBaron']\n",
    "                firstDragon2 = chall_match['teams'].iloc[x][k]['firstDragon']\n",
    "                firstinhibitor2 = chall_match['teams'].iloc[x][k]['firstInhibitor']\n",
    "\n",
    "                dragonkill2 = chall_match['teams'].iloc[x][k]['dragonKills']\n",
    "                baronkill2 = chall_match['teams'].iloc[x][k]['baronKills']\n",
    "                towerkill2 = chall_match['teams'].iloc[x][k]['towerKills']\n",
    "                inhibitorkill2 = chall_match['teams'].iloc[x][k]['inhibitorKills']\n",
    "\n",
    "        '''blue team : 100'''\n",
    "        wardplace = 0\n",
    "        wardkill = 0\n",
    "        champkill = 0\n",
    "        champdeath = 0\n",
    "        champassist = 0\n",
    "        damage = 0\n",
    "        gold = 0\n",
    "        minion = 0\n",
    "        level = 0\n",
    "        jungleminion = 0\n",
    "        killingspree = 0\n",
    "        heal = 0\n",
    "        objectdamage = 0\n",
    "\n",
    "        '''red team : 200'''\n",
    "        wardplace2 = 0\n",
    "        wardkill2 = 0\n",
    "        champkill2 = 0\n",
    "        champdeath2 = 0\n",
    "        champassist2 = 0\n",
    "        damage2 = 0\n",
    "        gold2 = 0\n",
    "        minion2 = 0\n",
    "        level2 = 0\n",
    "        jungleminion2 = 0\n",
    "        killingspree2 = 0\n",
    "        heal2 = 0\n",
    "        objectdamage2 = 0\n",
    "        for i in range(len(chall_match['participants'].iloc[x])):\n",
    "\n",
    "            if chall_match['participants'].iloc[x][i]['teamId'] == 100:\n",
    "                try:\n",
    "                    wardplace0 = chall_match['participants'].iloc[x][i]['stats']['wardsPlaced']\n",
    "                except:\n",
    "                    wardplace0 = 0\n",
    "\n",
    "                try:\n",
    "                    wardkill0 = chall_match['participants'].iloc[x][i]['stats']['wardsKilled']\n",
    "                except:\n",
    "                    wardkill0 = 0\n",
    "                try:\n",
    "                    champkill0 = chall_match['participants'].iloc[x][i]['stats']['kills']\n",
    "                except:\n",
    "                    champkill0 = 0\n",
    "                try:\n",
    "                    champdeath0 = chall_match['participants'].iloc[x][i]['stats']['deaths']\n",
    "                except:\n",
    "                    champdeath0 = 0\n",
    "                try:\n",
    "                    champassist0 = chall_match['participants'].iloc[x][i]['stats']['assists']\n",
    "                except:\n",
    "                    champassist0 = 0\n",
    "                try:\n",
    "                    damage0 = chall_match['participants'].iloc[x][i]['stats']['totalDamageDealtToChampions']\n",
    "                except:\n",
    "                    damage0 = 0\n",
    "                try:\n",
    "                    gold0 = chall_match['participants'].iloc[x][i]['stats']['goldEarned']\n",
    "                except:\n",
    "                    gold0 = 0\n",
    "                try:\n",
    "                    minion0 = chall_match['participants'].iloc[x][i]['stats']['totalMinionsKilled']\n",
    "                except:\n",
    "                    minion0 = 0\n",
    "                try:\n",
    "                    level0 = chall_match['participants'].iloc[x][i]['stats']['champLevel']\n",
    "                except:\n",
    "                    level0 = 0\n",
    "                try:\n",
    "                    jungleminion0 = chall_match['participants'].iloc[x][i]['stats']['neutralMinionsKilled']\n",
    "                except:\n",
    "                    jungleminion0 = 0\n",
    "                try:\n",
    "                    killingspree0 = chall_match['participants'].iloc[x][i]['stats']['killingSprees']\n",
    "                except:\n",
    "                    killingspree0 = 0\n",
    "                try:\n",
    "                    heal0 = chall_match['participants'].iloc[x][i]['stats']['totalHeal']\n",
    "                except:\n",
    "                    heal0 = 0\n",
    "                try:\n",
    "                    objectdamage0 = chall_match['participants'].iloc[x][i]['stats']['damageDealtToObjectives']\n",
    "                except:\n",
    "                    objectdamage0 = 0\n",
    "\n",
    "                wardplace += wardplace0\n",
    "                wardkill += wardkill0\n",
    "                champkill += champkill0\n",
    "                champdeath += champdeath0\n",
    "                champassist += champassist0\n",
    "                damage += damage0\n",
    "                gold += gold0\n",
    "                minion += minion0\n",
    "                level += level0\n",
    "                jungleminion += jungleminion0\n",
    "                killingspree += killingspree0\n",
    "                heal += heal0\n",
    "                objectdamage += objectdamage0\n",
    "            else:\n",
    "\n",
    "                try:\n",
    "                    wardplace0 = chall_match['participants'].iloc[x][i]['stats']['wardsPlaced']\n",
    "                except:\n",
    "                    wardplace0 = 0\n",
    "\n",
    "                try:\n",
    "                    wardkill0 = chall_match['participants'].iloc[x][i]['stats']['wardsKilled']\n",
    "                except:\n",
    "                    wardkill0 = 0\n",
    "                try:\n",
    "                    champkill0 = chall_match['participants'].iloc[x][i]['stats']['kills']\n",
    "                except:\n",
    "                    champkill0 = 0\n",
    "                try:\n",
    "                    champdeath0 = chall_match['participants'].iloc[x][i]['stats']['deaths']\n",
    "                except:\n",
    "                    champdeath0 = 0\n",
    "                try:\n",
    "                    champassist0 = chall_match['participants'].iloc[x][i]['stats']['assists']\n",
    "                except:\n",
    "                    champassist0 = 0\n",
    "                try:\n",
    "                    damage0 = chall_match['participants'].iloc[x][i]['stats']['totalDamageDealtToChampions']\n",
    "                except:\n",
    "                    damage0 = 0\n",
    "                try:\n",
    "                    gold0 = chall_match['participants'].iloc[x][i]['stats']['goldEarned']\n",
    "                except:\n",
    "                    gold0 = 0\n",
    "                try:\n",
    "                    minion0 = chall_match['participants'].iloc[x][i]['stats']['totalMinionsKilled']\n",
    "                except:\n",
    "                    minion0 = 0\n",
    "                try:\n",
    "                    level0 = chall_match['participants'].iloc[x][i]['stats']['champLevel']\n",
    "                except:\n",
    "                    level0 = 0\n",
    "                try:\n",
    "                    jungleminion0 = chall_match['participants'].iloc[x][i]['stats']['neutralMinionsKilled']\n",
    "                except:\n",
    "                    jungleminion0 = 0\n",
    "                try:\n",
    "                    killingspree0 = chall_match['participants'].iloc[x][i]['stats']['killingSprees']\n",
    "                except:\n",
    "                    killingspree0 = 0\n",
    "                try:\n",
    "                    heal0 = chall_match['participants'].iloc[x][i]['stats']['totalHeal']\n",
    "                except:\n",
    "                    heal0 = 0\n",
    "                try:\n",
    "                    objectdamage0 = chall_match['participants'].iloc[x][i]['stats']['damageDealtToObjectives']\n",
    "                except:\n",
    "                    objectdamage0 = 0\n",
    "\n",
    "\n",
    "                wardplace2 += wardplace0\n",
    "                wardkill2 += wardkill0\n",
    "                champkill2 += champkill0\n",
    "                champdeath2 += champdeath0\n",
    "                champassist2 += champassist0\n",
    "                damage2 += damage0\n",
    "                gold2 += gold0\n",
    "                minion2 += minion0\n",
    "                level2 += level0\n",
    "                jungleminion2 += jungleminion0\n",
    "                killingspree2 += killingspree0\n",
    "                heal2 += heal0\n",
    "                objectdamage2 += objectdamage0\n",
    "\n",
    "\n",
    "        total_result = [int(gameId),int(gameDuration)]\n",
    "\n",
    "        blue_object = [win,firstblood,firstTower,firstBaron,firstDragon,firstinhibitor,int(dragonkill)\\\n",
    "                      ,int(baronkill),int(towerkill),int(inhibitorkill)]\n",
    "\n",
    "        red_object = [win2,firstblood2,firstTower2,firstBaron2,firstDragon2,firstinhibitor2,int(dragonkill2)\\\n",
    "                      ,int(baronkill2),int(towerkill2),int(inhibitorkill2)]\n",
    "\n",
    "        blue_team_data = [int(wardplace),int(wardkill),int(champkill),int(champdeath),int(champassist),int(damage),int(gold),int(minion)\\\n",
    "                         ,int(level),float(level/5),int(jungleminion),int(killingspree),int(heal),int(objectdamage)]\n",
    "\n",
    "        red_team_data = [int(wardplace2),int(wardkill2),int(champkill2),int(champdeath2),int(champassist2),int(damage2),int(gold2),int(minion2)\\\n",
    "                         ,int(level2),float(level2/5),int(jungleminion2),int(killingspree2),int(heal2),int(objectdamage2)]\n",
    "\n",
    "\n",
    "        data_value = np.array([total_result + blue_object + blue_team_data + red_object + red_team_data])\n",
    "\n",
    "        challenger_game_info0 = pd.DataFrame(data_value,columns = columns_ls)\n",
    "        \n",
    "        df_storage = df_storage.append(challenger_game_info0)\n",
    "        \n",
    "        print(df_storage)\n",
    "        \n",
    "    return df_storage\n",
    "\n"
   ]
  },
  {
   "cell_type": "code",
   "execution_count": 19,
   "metadata": {},
   "outputs": [],
   "source": [
    "columns_ls = ['gameId','gameDuraton','blueWins','blueFirstBlood','blueFirstTower',\\\n",
    "             'blueFirstBaron','blueFirstDragon','blueFirstInhibitor','blueDragonKills',\\\n",
    "             'blueBaronKills','blueTowerKills','blueInhibitorKills','blueWardPlaced',\\\n",
    "             'blueWardkills','blueKills','blueDeath','blueAssist','blueChampionDamageDealt',\\\n",
    "             'blueTotalGold','blueTotalMinionKills','blueTotalLevel','blueAvgLevel',\\\n",
    "             'blueJungleMinionKills','blueKillingSpree','blueTotalHeal','blueObjectDamageDealt',\\\n",
    "             'redWins','redFirstBlood','redFirstTower',\\\n",
    "             'redFirstBaron','redFirstDragon','redFirstInhibitor','redDragonKills',\\\n",
    "             'redBaronKills','redTowerKills','redInhibitorKills','redWardPlaced',\\\n",
    "             'redWardkills','redKills','redDeath','redAssist','redChampionDamageDealt',\\\n",
    "             'redTotalGold','redTotalMinionKills','redTotalLevel','redAvgLevel',\\\n",
    "             'redJungleMinionKills','redKillingSpree','redTotalHeal','redObjectDamageDealt']"
   ]
  },
  {
   "cell_type": "code",
   "execution_count": null,
   "metadata": {},
   "outputs": [],
   "source": [
    "challenger_game_info = pd.DataFrame()"
   ]
  },
  {
   "cell_type": "code",
   "execution_count": 9,
   "metadata": {},
   "outputs": [
    {
     "name": "stdout",
     "output_type": "stream",
     "text": [
      "0 ~ 100 processing\n",
      "100 ~ 200 processing\n",
      "200 ~ 300 processing\n",
      "300 ~ 400 processing\n",
      "400 ~ 500 processing\n",
      "500 ~ 600 processing\n",
      "600 ~ 700 processing\n",
      "700 ~ 800 processing\n",
      "800 ~ 900 processing\n",
      "900 ~ 1000 processing\n",
      "1000 ~ 1100 processing\n",
      "1100 ~ 1200 processing\n",
      "1200 ~ 1300 processing\n",
      "1300 ~ 1400 processing\n",
      "1400 ~ 1500 processing\n",
      "1500 ~ 1600 processing\n",
      "1600 ~ 1700 processing\n",
      "1700 ~ 1800 processing\n",
      "1800 ~ 1900 processing\n",
      "1900 ~ 2000 processing\n",
      "2000 ~ 2100 processing\n",
      "2100 ~ 2200 processing\n",
      "2200 ~ 2300 processing\n",
      "2300 ~ 2400 processing\n",
      "2400 ~ 2500 processing\n",
      "2500 ~ 2600 processing\n",
      "2600 ~ 2700 processing\n",
      "2700 ~ 2800 processing\n",
      "2800 ~ 2900 processing\n",
      "2900 ~ 3000 processing\n",
      "3000 ~ 3100 processing\n",
      "3100 ~ 3200 processing\n",
      "3200 ~ 3300 processing\n",
      "3300 ~ 3400 processing\n",
      "3400 ~ 3500 processing\n",
      "3500 ~ 3600 processing\n",
      "3600 ~ 3700 processing\n",
      "3700 ~ 3800 processing\n",
      "3800 ~ 3900 processing\n",
      "3900 ~ 4000 processing\n",
      "4000 ~ 4100 processing\n",
      "4100 ~ 4200 processing\n",
      "4200 ~ 4300 processing\n",
      "4300 ~ 4400 processing\n",
      "4400 ~ 4500 processing\n",
      "4500 ~ 4600 processing\n",
      "4600 ~ 4700 processing\n",
      "4700 ~ 4800 processing\n",
      "4800 ~ 4900 processing\n",
      "4900 ~ 5000 processing\n",
      "5000 ~ 5100 processing\n",
      "5100 ~ 5200 processing\n",
      "5200 ~ 5300 processing\n",
      "5300 ~ 5400 processing\n",
      "5400 ~ 5500 processing\n",
      "5500 ~ 5600 processing\n",
      "5600 ~ 5700 processing\n",
      "5700 ~ 5800 processing\n",
      "5800 ~ 5900 processing\n",
      "5900 ~ 6000 processing\n",
      "6000 ~ 6100 processing\n",
      "6100 ~ 6200 processing\n",
      "6200 ~ 6300 processing\n",
      "6300 ~ 6400 processing\n",
      "6400 ~ 6500 processing\n",
      "6500 ~ 6600 processing\n",
      "6600 ~ 6700 processing\n",
      "6700 ~ 6800 processing\n",
      "6800 ~ 6900 processing\n",
      "6900 ~ 7000 processing\n",
      "7000 ~ 7100 processing\n",
      "7100 ~ 7200 processing\n",
      "7200 ~ 7300 processing\n",
      "7300 ~ 7400 processing\n",
      "7400 ~ 7500 processing\n",
      "7500 ~ 7600 processing\n",
      "7600 ~ 7700 processing\n",
      "7700 ~ 7800 processing\n",
      "7800 ~ 7900 processing\n",
      "7900 ~ 8000 processing\n",
      "8000 ~ 8100 processing\n",
      "8100 ~ 8200 processing\n",
      "8200 ~ 8300 processing\n",
      "8300 ~ 8400 processing\n",
      "8400 ~ 8500 processing\n",
      "8500 ~ 8600 processing\n",
      "8600 ~ 8700 processing\n",
      "8700 ~ 8800 processing\n",
      "8800 ~ 8900 processing\n",
      "8900 ~ 9000 processing\n",
      "9000 ~ 9100 processing\n",
      "9100 ~ 9200 processing\n",
      "9200 ~ 9300 processing\n",
      "9300 ~ 9400 processing\n",
      "9400 ~ 9500 processing\n",
      "9500 ~ 9600 processing\n",
      "9600 ~ 9700 processing\n",
      "9700 ~ 9800 processing\n",
      "9800 ~ 9900 processing\n",
      "9900 ~ 10000 processing\n",
      "10000 ~ 10100 processing\n",
      "10100 ~ 10200 processing\n",
      "10200 ~ 10300 processing\n",
      "10300 ~ 10400 processing\n",
      "10400 ~ 10500 processing\n",
      "10500 ~ 10600 processing\n",
      "10600 ~ 10700 processing\n",
      "10700 ~ 10800 processing\n",
      "10800 ~ 10900 processing\n",
      "10900 ~ 11000 processing\n",
      "11000 ~ 11100 processing\n",
      "11100 ~ 11200 processing\n",
      "11200 ~ 11300 processing\n",
      "11300 ~ 11400 processing\n",
      "11400 ~ 11500 processing\n",
      "11500 ~ 11600 processing\n",
      "11600 ~ 11700 processing\n",
      "11700 ~ 11800 processing\n",
      "11800 ~ 11900 processing\n",
      "11900 ~ 12000 processing\n",
      "12000 ~ 12100 processing\n",
      "12100 ~ 12200 processing\n",
      "12200 ~ 12300 processing\n",
      "12300 ~ 12400 processing\n",
      "12400 ~ 12500 processing\n",
      "12500 ~ 12600 processing\n",
      "12600 ~ 12700 processing\n",
      "12700 ~ 12800 processing\n",
      "12800 ~ 12900 processing\n",
      "12900 ~ 13000 processing\n",
      "13000 ~ 13100 processing\n",
      "13100 ~ 13200 processing\n",
      "13200 ~ 13300 processing\n",
      "13300 ~ 13400 processing\n",
      "13400 ~ 13500 processing\n",
      "13500 ~ 13600 processing\n",
      "13600 ~ 13700 processing\n",
      "13700 ~ 13800 processing\n",
      "13800 ~ 13900 processing\n",
      "13900 ~ 14000 processing\n",
      "14000 ~ 14100 processing\n",
      "14100 ~ 14200 processing\n",
      "14200 ~ 14300 processing\n",
      "14300 ~ 14400 processing\n",
      "14400 ~ 14500 processing\n",
      "14500 ~ 14600 processing\n",
      "14600 ~ 14700 processing\n",
      "14700 ~ 14800 processing\n",
      "14800 ~ 14900 processing\n",
      "14900 ~ 15000 processing\n",
      "15000 ~ 15100 processing\n",
      "15100 ~ 15200 processing\n",
      "15200 ~ 15300 processing\n",
      "15300 ~ 15400 processing\n",
      "15400 ~ 15500 processing\n",
      "15500 ~ 15600 processing\n",
      "15600 ~ 15700 processing\n",
      "15700 ~ 15800 processing\n",
      "15800 ~ 15900 processing\n",
      "15900 ~ 16000 processing\n",
      "16000 ~ 16100 processing\n",
      "16100 ~ 16200 processing\n",
      "16200 ~ 16300 processing\n",
      "16300 ~ 16400 processing\n",
      "16400 ~ 16500 processing\n",
      "16500 ~ 16600 processing\n",
      "16600 ~ 16700 processing\n",
      "16700 ~ 16800 processing\n",
      "16800 ~ 16900 processing\n",
      "16900 ~ 17000 processing\n",
      "17000 ~ 17100 processing\n",
      "17100 ~ 17200 processing\n",
      "17200 ~ 17300 processing\n",
      "17300 ~ 17400 processing\n",
      "17400 ~ 17500 processing\n",
      "17500 ~ 17600 processing\n",
      "17600 ~ 17700 processing\n",
      "17700 ~ 17800 processing\n",
      "17800 ~ 17900 processing\n",
      "17900 ~ 18000 processing\n",
      "18000 ~ 18100 processing\n",
      "18100 ~ 18200 processing\n",
      "18200 ~ 18300 processing\n",
      "18300 ~ 18400 processing\n",
      "18400 ~ 18500 processing\n",
      "18500 ~ 18600 processing\n",
      "18600 ~ 18700 processing\n",
      "18700 ~ 18800 processing\n",
      "18800 ~ 18900 processing\n",
      "18900 ~ 19000 processing\n",
      "19000 ~ 19100 processing\n",
      "19100 ~ 19200 processing\n",
      "19200 ~ 19300 processing\n",
      "19300 ~ 19400 processing\n",
      "19400 ~ 19500 processing\n",
      "19500 ~ 19600 processing\n",
      "19600 ~ 19700 processing\n",
      "19700 ~ 19800 processing\n",
      "19800 ~ 19900 processing\n",
      "19900 ~ 20000 processing\n",
      "20000 ~ 20100 processing\n",
      "20100 ~ 20200 processing\n",
      "20200 ~ 20300 processing\n",
      "20300 ~ 20400 processing\n",
      "20400 ~ 20500 processing\n",
      "20500 ~ 20600 processing\n",
      "20600 ~ 20700 processing\n",
      "20700 ~ 20800 processing\n",
      "20800 ~ 20900 processing\n",
      "20900 ~ 21000 processing\n",
      "21000 ~ 21100 processing\n",
      "21100 ~ 21200 processing\n",
      "21200 ~ 21300 processing\n",
      "21300 ~ 21400 processing\n",
      "21400 ~ 21500 processing\n",
      "21500 ~ 21600 processing\n",
      "21600 ~ 21700 processing\n",
      "21700 ~ 21800 processing\n",
      "21800 ~ 21900 processing\n",
      "21900 ~ 22000 processing\n",
      "22000 ~ 22100 processing\n",
      "22100 ~ 22200 processing\n",
      "22200 ~ 22300 processing\n",
      "22300 ~ 22400 processing\n",
      "22400 ~ 22500 processing\n",
      "22500 ~ 22600 processing\n",
      "22600 ~ 22700 processing\n",
      "22700 ~ 22800 processing\n",
      "22800 ~ 22900 processing\n",
      "22900 ~ 23000 processing\n",
      "23000 ~ 23100 processing\n",
      "23100 ~ 23200 processing\n",
      "23200 ~ 23300 processing\n",
      "23300 ~ 23400 processing\n",
      "23400 ~ 23500 processing\n",
      "23500 ~ 23600 processing\n",
      "23600 ~ 23700 processing\n",
      "23700 ~ 23800 processing\n",
      "23800 ~ 23900 processing\n",
      "23900 ~ 24000 processing\n",
      "24000 ~ 24100 processing\n",
      "24100 ~ 24200 processing\n",
      "24200 ~ 24300 processing\n",
      "24300 ~ 24400 processing\n",
      "24400 ~ 24500 processing\n",
      "24500 ~ 24600 processing\n",
      "24600 ~ 24700 processing\n",
      "24700 ~ 24800 processing\n",
      "24800 ~ 24900 processing\n",
      "24900 ~ 25000 processing\n",
      "25000 ~ 25100 processing\n",
      "25100 ~ 25200 processing\n",
      "25200 ~ 25300 processing\n",
      "25300 ~ 25400 processing\n",
      "25400 ~ 25500 processing\n",
      "25500 ~ 25600 processing\n",
      "25600 ~ 25700 processing\n",
      "25700 ~ 25800 processing\n",
      "25800 ~ 25900 processing\n",
      "25900 ~ 26000 processing\n",
      "26000 ~ 26100 processing\n",
      "26100 ~ 26200 processing\n",
      "26200 ~ 26300 processing\n",
      "26300 ~ 26400 processing\n",
      "26400 ~ 26500 processing\n",
      "26500 ~ 26600 processing\n",
      "26600 ~ 26700 processing\n",
      "26700 ~ 26800 processing\n",
      "26800 ~ 26900 processing\n",
      "26900 ~ 27000 processing\n"
     ]
    }
   ],
   "source": [
    "for i in range(6):\n",
    "    stepsize = 4484\n",
    "    lower = i*stepsize\n",
    "    upper = (i+1)*stepsize\n",
    "    storage_df = preparing_dataframe(lower,upper)\n",
    "    challenger_game_info = challenger_game_info.append(storage_df)"
   ]
  },
  {
   "cell_type": "code",
   "execution_count": 10,
   "metadata": {},
   "outputs": [],
   "source": [
    "numeric_col = ['gameId','gameDuraton','blueDragonKills',\\\n",
    "             'blueBaronKills','blueTowerKills','blueInhibitorKills','blueWardPlaced',\\\n",
    "             'blueWardkills','blueKills','blueDeath','blueAssist','blueChampionDamageDealt',\\\n",
    "             'blueTotalGold','blueTotalMinionKills','blueTotalLevel',\\\n",
    "             'blueJungleMinionKills','blueKillingSpree','blueTotalHeal','blueObjectDamageDealt',\\\n",
    "             'redDragonKills',\\\n",
    "             'redBaronKills','redTowerKills','redInhibitorKills','redWardPlaced',\\\n",
    "             'redWardkills','redKills','redDeath','redAssist','redChampionDamageDealt',\\\n",
    "             'redTotalGold','redTotalMinionKills','redTotalLevel',\\\n",
    "             'redJungleMinionKills','redKillingSpree','redTotalHeal','redObjectDamageDealt']\n",
    "\n",
    "object_col = ['blueWins','blueFirstBlood','blueFirstTower',\\\n",
    "             'blueFirstBaron','blueFirstDragon','blueFirstInhibitor',\\\n",
    "             'redWins','redFirstBlood','redFirstTower',\\\n",
    "             'redFirstBaron','redFirstDragon','redFirstInhibitor']"
   ]
  },
  {
   "cell_type": "code",
   "execution_count": 11,
   "metadata": {},
   "outputs": [],
   "source": [
    "for i in numeric_col:\n",
    "    challenger_game_info[i] = challenger_game_info[i].astype('int')\n",
    "\n",
    "for i in ['blueAvgLevel','redAvgLevel']:\n",
    "    challenger_game_info[i] = challenger_game_info[i].astype('float')\n",
    "\n",
    "mapping1 = {'Win':1,'Fail':0}\n",
    "mapping2 = {'True':1,'False':0}\n",
    "\n",
    "for i in object_col:\n",
    "    if i in ['blueWins','redWins']:\n",
    "        challenger_game_info[i] = challenger_game_info[i].map(mapping1).tolist()\n",
    "    else:\n",
    "        challenger_game_info[i] = challenger_game_info[i].map(mapping2).tolist()"
   ]
  },
  {
   "cell_type": "code",
   "execution_count": 12,
   "metadata": {},
   "outputs": [],
   "source": [
    "from sklearn.model_selection import train_test_split\n",
    "from sklearn.preprocessing import StandardScaler"
   ]
  },
  {
   "cell_type": "code",
   "execution_count": 13,
   "metadata": {},
   "outputs": [],
   "source": [
    "challenger_game_info=challenger_game_info.drop(columns=\"redWins\")"
   ]
  },
  {
   "cell_type": "code",
   "execution_count": 14,
   "metadata": {},
   "outputs": [],
   "source": [
    "train_cols = ['gameDuraton','blueDragonKills','blueWardPlaced',\\\n",
    "             'blueWardkills','blueKills','blueDeath','blueAssist',\\\n",
    "             'blueTotalGold','blueTotalMinionKills','blueTotalLevel',\\\n",
    "             'blueJungleMinionKills','blueKillingSpree',\\\n",
    "             'redDragonKills','redTowerKills','redWardPlaced',\\\n",
    "             'redWardkills','redKills','redDeath','redAssist',\\\n",
    "             'redTotalGold','redTotalMinionKills','redTotalLevel',\\\n",
    "             'redJungleMinionKills','redKillingSpree',\\\n",
    "             'blueFirstBlood','blueFirstTower','blueFirstDragon']\n",
    "\n",
    "target_col = ['blueWins']"
   ]
  },
  {
   "cell_type": "code",
   "execution_count": 15,
   "metadata": {},
   "outputs": [],
   "source": [
    "train, test = train_test_split(challenger_game_info, test_size=.9, random_state=42)\n",
    "\n",
    "train_X = train[train_cols].reset_index(drop=True)\n",
    "train_y = train[target_col].reset_index(drop=True)\n",
    "test_X = test[train_cols].reset_index(drop=True)\n",
    "test_y = test[target_col].reset_index(drop=True)"
   ]
  },
  {
   "cell_type": "code",
   "execution_count": 16,
   "metadata": {
    "scrolled": false
   },
   "outputs": [
    {
     "name": "stderr",
     "output_type": "stream",
     "text": [
      "/Users/andreasglassl/opt/miniconda3/envs/backpack_banana/lib/python3.7/site-packages/sklearn/utils/validation.py:760: DataConversionWarning: A column-vector y was passed when a 1d array was expected. Please change the shape of y to (n_samples, ), for example using ravel().\n",
      "  y = column_or_1d(y, warn=True)\n",
      "/Users/andreasglassl/opt/miniconda3/envs/backpack_banana/lib/python3.7/site-packages/sklearn/linear_model/_logistic.py:940: ConvergenceWarning: lbfgs failed to converge (status=1):\n",
      "STOP: TOTAL NO. of ITERATIONS REACHED LIMIT.\n",
      "\n",
      "Increase the number of iterations (max_iter) or scale the data as shown in:\n",
      "    https://scikit-learn.org/stable/modules/preprocessing.html\n",
      "Please also refer to the documentation for alternative solver options:\n",
      "    https://scikit-learn.org/stable/modules/linear_model.html#logistic-regression\n",
      "  extra_warning_msg=_LOGISTIC_SOLVER_CONVERGENCE_MSG)\n"
     ]
    },
    {
     "data": {
      "text/plain": [
       "LogisticRegression(C=1.0, class_weight=None, dual=False, fit_intercept=True,\n",
       "                   intercept_scaling=1, l1_ratio=None, max_iter=100,\n",
       "                   multi_class='auto', n_jobs=None, penalty='l2',\n",
       "                   random_state=None, solver='lbfgs', tol=0.0001, verbose=0,\n",
       "                   warm_start=False)"
      ]
     },
     "execution_count": 16,
     "metadata": {},
     "output_type": "execute_result"
    }
   ],
   "source": [
    "from sklearn.linear_model import LogisticRegression\n",
    "from sklearn.metrics import accuracy_score\n",
    "\n",
    "# train model\n",
    "lr = LogisticRegression()\n",
    "lr.fit(train_X, train_y)"
   ]
  },
  {
   "cell_type": "code",
   "execution_count": 17,
   "metadata": {},
   "outputs": [
    {
     "data": {
      "text/plain": [
       "0.9785661187742628"
      ]
     },
     "execution_count": 17,
     "metadata": {},
     "output_type": "execute_result"
    }
   ],
   "source": [
    "predictions = lr.predict(test_X)\n",
    "accuracy_score(test_y, predictions)"
   ]
  },
  {
   "cell_type": "code",
   "execution_count": 18,
   "metadata": {},
   "outputs": [],
   "source": [
    "def evaluate_model(train_X, train_y, test_X, test_y, model):\n",
    "    ml_model = model\n",
    "    ml_model.fit(train_X, train_y)\n",
    "    \n",
    "    predictions = ml_model.predict(test_X)\n",
    "    acc = accuracy_score(test_y, predictions)\n",
    "    \n",
    "    print(f\"Our model achieved an accuracy of {acc}\")"
   ]
  },
  {
   "cell_type": "code",
   "execution_count": 19,
   "metadata": {},
   "outputs": [],
   "source": [
    "from sklearn.tree import DecisionTreeClassifier\n",
    "from sklearn.ensemble import RandomForestClassifier\n",
    "from sklearn.linear_model import SGDClassifier"
   ]
  },
  {
   "cell_type": "code",
   "execution_count": 20,
   "metadata": {},
   "outputs": [
    {
     "name": "stdout",
     "output_type": "stream",
     "text": [
      "Our model achieved an accuracy of 0.9490790451804741\n"
     ]
    }
   ],
   "source": [
    "evaluate_model(train_X,train_y, test_X, test_y, DecisionTreeClassifier())"
   ]
  },
  {
   "cell_type": "code",
   "execution_count": 21,
   "metadata": {},
   "outputs": [
    {
     "name": "stderr",
     "output_type": "stream",
     "text": [
      "/Users/andreasglassl/opt/miniconda3/envs/backpack_banana/lib/python3.7/site-packages/ipykernel_launcher.py:3: DataConversionWarning: A column-vector y was passed when a 1d array was expected. Please change the shape of y to (n_samples,), for example using ravel().\n",
      "  This is separate from the ipykernel package so we can avoid doing imports until\n"
     ]
    },
    {
     "name": "stdout",
     "output_type": "stream",
     "text": [
      "Our model achieved an accuracy of 0.9755100355166433\n"
     ]
    }
   ],
   "source": [
    "evaluate_model(train_X,train_y, test_X, test_y, RandomForestClassifier(n_estimators=1000))"
   ]
  },
  {
   "cell_type": "code",
   "execution_count": 22,
   "metadata": {},
   "outputs": [
    {
     "name": "stdout",
     "output_type": "stream",
     "text": [
      "Our model achieved an accuracy of 0.9752622449822417\n"
     ]
    },
    {
     "name": "stderr",
     "output_type": "stream",
     "text": [
      "/Users/andreasglassl/opt/miniconda3/envs/backpack_banana/lib/python3.7/site-packages/sklearn/utils/validation.py:760: DataConversionWarning: A column-vector y was passed when a 1d array was expected. Please change the shape of y to (n_samples, ), for example using ravel().\n",
      "  y = column_or_1d(y, warn=True)\n"
     ]
    }
   ],
   "source": [
    "evaluate_model(train_X,train_y, test_X, test_y, SGDClassifier())"
   ]
  }
 ],
 "metadata": {
  "kernelspec": {
   "display_name": "Python 3",
   "language": "python",
   "name": "python3"
  },
  "language_info": {
   "codemirror_mode": {
    "name": "ipython",
    "version": 3
   },
   "file_extension": ".py",
   "mimetype": "text/x-python",
   "name": "python",
   "nbconvert_exporter": "python",
   "pygments_lexer": "ipython3",
   "version": "3.7.6"
  }
 },
 "nbformat": 4,
 "nbformat_minor": 4
}
