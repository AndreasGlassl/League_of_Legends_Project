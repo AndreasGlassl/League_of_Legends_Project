{
 "cells": [
  {
   "cell_type": "code",
   "execution_count": 121,
   "metadata": {},
   "outputs": [],
   "source": [
    "import pandas as pd\n",
    "import numpy as np\n",
    "import re"
   ]
  },
  {
   "cell_type": "markdown",
   "metadata": {},
   "source": [
    "# 1.Reading in the Data:"
   ]
  },
  {
   "cell_type": "code",
   "execution_count": 5,
   "metadata": {},
   "outputs": [],
   "source": [
    "df_win = pd.read_pickle(\"../Data/Match_Info/match_winner_data.pickle\")"
   ]
  },
  {
   "cell_type": "code",
   "execution_count": 6,
   "metadata": {},
   "outputs": [],
   "source": [
    "df_lose = pd.read_pickle(\"../Data/Match_Info/match_loser_data.pickle\")"
   ]
  },
  {
   "cell_type": "code",
   "execution_count": 19,
   "metadata": {},
   "outputs": [],
   "source": [
    "df_match = pd.read_pickle(\"../Data/Match_Info/match_data.pickle\")"
   ]
  },
  {
   "cell_type": "markdown",
   "metadata": {},
   "source": [
    "# 2. How to access the json dictionary lists:\n",
    "first check out how to get the summonerName, then figure out how to get the information on the participants.\n",
    "\n",
    "On the way start filtering only Solo-Q ranked games, which have the **queueId** 420 and the **gameMode** CLASSIC."
   ]
  },
  {
   "cell_type": "code",
   "execution_count": 39,
   "metadata": {},
   "outputs": [],
   "source": [
    "df_match=df_match[df_match[\"gameMode\"]==\"CLASSIC\"]"
   ]
  },
  {
   "cell_type": "code",
   "execution_count": 54,
   "metadata": {
    "scrolled": true
   },
   "outputs": [],
   "source": [
    "df_match = df_match[df_match[\"queueId\"]==420]"
   ]
  },
  {
   "cell_type": "code",
   "execution_count": 73,
   "metadata": {},
   "outputs": [],
   "source": [
    "df_match = df_match.reset_index(drop=True)"
   ]
  },
  {
   "cell_type": "markdown",
   "metadata": {},
   "source": [
    "### Looking into the participants:\n",
    "The participants is structured as follows:\n",
    "\n",
    "1. List of dictionaries\n",
    "2. Contains 10 players for each game\n",
    "3. each player gets some further information\n",
    "4. **stats** and **timeline** are nested dictionaries within the dictionary\n",
    "\n",
    "In order to find out, which of those to keep, lets take a deeper look into one of the participants and the information conntained:\n",
    "        "
   ]
  },
  {
   "cell_type": "code",
   "execution_count": 56,
   "metadata": {
    "collapsed": true
   },
   "outputs": [
    {
     "data": {
      "text/plain": [
       "['participantId',\n",
       " 'teamId',\n",
       " 'championId',\n",
       " 'spell1Id',\n",
       " 'spell2Id',\n",
       " 'stats',\n",
       " 'timeline']"
      ]
     },
     "execution_count": 56,
     "metadata": {},
     "output_type": "execute_result"
    }
   ],
   "source": [
    "list(df_match[\"participants\"][1][0])"
   ]
  },
  {
   "cell_type": "code",
   "execution_count": 57,
   "metadata": {
    "collapsed": true
   },
   "outputs": [
    {
     "data": {
      "text/plain": [
       "['participantId',\n",
       " 'win',\n",
       " 'item0',\n",
       " 'item1',\n",
       " 'item2',\n",
       " 'item3',\n",
       " 'item4',\n",
       " 'item5',\n",
       " 'item6',\n",
       " 'kills',\n",
       " 'deaths',\n",
       " 'assists',\n",
       " 'largestKillingSpree',\n",
       " 'largestMultiKill',\n",
       " 'killingSprees',\n",
       " 'longestTimeSpentLiving',\n",
       " 'doubleKills',\n",
       " 'tripleKills',\n",
       " 'quadraKills',\n",
       " 'pentaKills',\n",
       " 'unrealKills',\n",
       " 'totalDamageDealt',\n",
       " 'magicDamageDealt',\n",
       " 'physicalDamageDealt',\n",
       " 'trueDamageDealt',\n",
       " 'largestCriticalStrike',\n",
       " 'totalDamageDealtToChampions',\n",
       " 'magicDamageDealtToChampions',\n",
       " 'physicalDamageDealtToChampions',\n",
       " 'trueDamageDealtToChampions',\n",
       " 'totalHeal',\n",
       " 'totalUnitsHealed',\n",
       " 'damageSelfMitigated',\n",
       " 'damageDealtToObjectives',\n",
       " 'damageDealtToTurrets',\n",
       " 'visionScore',\n",
       " 'timeCCingOthers',\n",
       " 'totalDamageTaken',\n",
       " 'magicalDamageTaken',\n",
       " 'physicalDamageTaken',\n",
       " 'trueDamageTaken',\n",
       " 'goldEarned',\n",
       " 'goldSpent',\n",
       " 'turretKills',\n",
       " 'inhibitorKills',\n",
       " 'totalMinionsKilled',\n",
       " 'neutralMinionsKilled',\n",
       " 'neutralMinionsKilledTeamJungle',\n",
       " 'neutralMinionsKilledEnemyJungle',\n",
       " 'totalTimeCrowdControlDealt',\n",
       " 'champLevel',\n",
       " 'visionWardsBoughtInGame',\n",
       " 'sightWardsBoughtInGame',\n",
       " 'wardsPlaced',\n",
       " 'wardsKilled',\n",
       " 'firstBloodKill',\n",
       " 'firstBloodAssist',\n",
       " 'firstTowerKill',\n",
       " 'firstTowerAssist',\n",
       " 'combatPlayerScore',\n",
       " 'objectivePlayerScore',\n",
       " 'totalPlayerScore',\n",
       " 'totalScoreRank',\n",
       " 'playerScore0',\n",
       " 'playerScore1',\n",
       " 'playerScore2',\n",
       " 'playerScore3',\n",
       " 'playerScore4',\n",
       " 'playerScore5',\n",
       " 'playerScore6',\n",
       " 'playerScore7',\n",
       " 'playerScore8',\n",
       " 'playerScore9',\n",
       " 'perk0',\n",
       " 'perk0Var1',\n",
       " 'perk0Var2',\n",
       " 'perk0Var3',\n",
       " 'perk1',\n",
       " 'perk1Var1',\n",
       " 'perk1Var2',\n",
       " 'perk1Var3',\n",
       " 'perk2',\n",
       " 'perk2Var1',\n",
       " 'perk2Var2',\n",
       " 'perk2Var3',\n",
       " 'perk3',\n",
       " 'perk3Var1',\n",
       " 'perk3Var2',\n",
       " 'perk3Var3',\n",
       " 'perk4',\n",
       " 'perk4Var1',\n",
       " 'perk4Var2',\n",
       " 'perk4Var3',\n",
       " 'perk5',\n",
       " 'perk5Var1',\n",
       " 'perk5Var2',\n",
       " 'perk5Var3',\n",
       " 'perkPrimaryStyle',\n",
       " 'perkSubStyle',\n",
       " 'statPerk0',\n",
       " 'statPerk1',\n",
       " 'statPerk2']"
      ]
     },
     "execution_count": 57,
     "metadata": {},
     "output_type": "execute_result"
    }
   ],
   "source": [
    "list(df_match[\"participants\"][1][0][\"stats\"])"
   ]
  },
  {
   "cell_type": "code",
   "execution_count": 58,
   "metadata": {
    "collapsed": true
   },
   "outputs": [
    {
     "data": {
      "text/plain": [
       "['participantId',\n",
       " 'creepsPerMinDeltas',\n",
       " 'xpPerMinDeltas',\n",
       " 'goldPerMinDeltas',\n",
       " 'damageTakenPerMinDeltas',\n",
       " 'role',\n",
       " 'lane']"
      ]
     },
     "execution_count": 58,
     "metadata": {},
     "output_type": "execute_result"
    }
   ],
   "source": [
    "list(df_match[\"participants\"][1][0][\"timeline\"])"
   ]
  },
  {
   "cell_type": "markdown",
   "metadata": {},
   "source": [
    "Of those entries I am picking a few to keep and drop the rest."
   ]
  },
  {
   "cell_type": "code",
   "execution_count": 59,
   "metadata": {},
   "outputs": [],
   "source": [
    "def parse_participant(participant_dict):\n",
    "    keys_to_keep = [\"participantId\",'teamId','championId','spell1Id','spell2Id']\n",
    "    stats_keys = (['win',\"item0\", \"item1\",\"item2\",\"item3\",\"item4\",\"item5\",\"item6\", \"kills\", \"deaths\", \"assists\",\n",
    "                  \"doubleKills\", \"tripleKills\", \"quadraKills\", \"pentaKills\", \"goldEarned\",\"role\", \"lane\"])\n",
    "    e = {}\n",
    "    for key, value in participant_dict.items():\n",
    "        if key in keys_to_keep:\n",
    "            e[key] = value\n",
    "        elif type(value) == dict:\n",
    "            for key2, value2 in value.items():\n",
    "                if key2 in stats_keys:\n",
    "                    e[key2] = value2\n",
    "                    \n",
    "    return e"
   ]
  },
  {
   "cell_type": "code",
   "execution_count": 75,
   "metadata": {},
   "outputs": [],
   "source": [
    "parts = df_match[\"participants\"].copy()"
   ]
  },
  {
   "cell_type": "code",
   "execution_count": 76,
   "metadata": {},
   "outputs": [],
   "source": [
    "for i in range(len(parts)):\n",
    "    e = [parse_participant(part) for part in parts.loc[i]]\n",
    "    parts[i] = e"
   ]
  },
  {
   "cell_type": "code",
   "execution_count": 97,
   "metadata": {},
   "outputs": [],
   "source": [
    "df_match[\"participants\"]=parts"
   ]
  },
  {
   "cell_type": "markdown",
   "metadata": {},
   "source": [
    "The same is done for the **participantIdentities** column, although I just want to keep the summoner name, in case I want to look at certain summoners and their performance."
   ]
  },
  {
   "cell_type": "code",
   "execution_count": 60,
   "metadata": {},
   "outputs": [],
   "source": [
    "def parse_identity(identity):\n",
    "    e = {}\n",
    "    keeping_this = [\"summonerName\"]\n",
    "    for key,value in identity.items():\n",
    "        if type(value)==dict:\n",
    "            for key2,value2 in value.items():\n",
    "                if key2 in keeping_this:\n",
    "                    e[key2]=value2\n",
    "    return e"
   ]
  },
  {
   "cell_type": "code",
   "execution_count": 90,
   "metadata": {},
   "outputs": [],
   "source": [
    "ident = df_match[\"participantIdentities\"].copy()"
   ]
  },
  {
   "cell_type": "code",
   "execution_count": 91,
   "metadata": {},
   "outputs": [],
   "source": [
    "for i in range(len(df_match)):\n",
    "    ident[i] = [parse_identity(part) for part in ident.loc[i]]"
   ]
  },
  {
   "cell_type": "code",
   "execution_count": 98,
   "metadata": {},
   "outputs": [],
   "source": [
    "df_match[\"participantIdentities\"]=ident"
   ]
  },
  {
   "cell_type": "markdown",
   "metadata": {},
   "source": [
    "# 3. Dropping unnessesary columns:"
   ]
  },
  {
   "cell_type": "code",
   "execution_count": 109,
   "metadata": {},
   "outputs": [],
   "source": [
    "df_match = df_match.drop(columns=[\"status.status_code\",\"status.message\", \"seasonId\", \"gameType\", \"gameMode\", \"mapId\", \"platformId\"])"
   ]
  },
  {
   "cell_type": "code",
   "execution_count": 110,
   "metadata": {},
   "outputs": [
    {
     "data": {
      "text/html": [
       "<div>\n",
       "<style scoped>\n",
       "    .dataframe tbody tr th:only-of-type {\n",
       "        vertical-align: middle;\n",
       "    }\n",
       "\n",
       "    .dataframe tbody tr th {\n",
       "        vertical-align: top;\n",
       "    }\n",
       "\n",
       "    .dataframe thead th {\n",
       "        text-align: right;\n",
       "    }\n",
       "</style>\n",
       "<table border=\"1\" class=\"dataframe\">\n",
       "  <thead>\n",
       "    <tr style=\"text-align: right;\">\n",
       "      <th></th>\n",
       "      <th>gameCreation</th>\n",
       "      <th>gameDuration</th>\n",
       "      <th>gameId</th>\n",
       "      <th>gameVersion</th>\n",
       "      <th>participantIdentities</th>\n",
       "      <th>participants</th>\n",
       "      <th>queueId</th>\n",
       "    </tr>\n",
       "  </thead>\n",
       "  <tbody>\n",
       "    <tr>\n",
       "      <th>0</th>\n",
       "      <td>1.585155e+12</td>\n",
       "      <td>1323.0</td>\n",
       "      <td>4.247263e+09</td>\n",
       "      <td>10.6.314.4405</td>\n",
       "      <td>[{'summonerName': '쪼렙이다말로하자'}, {'summonerName'...</td>\n",
       "      <td>[{'participantId': 1, 'teamId': 100, 'champion...</td>\n",
       "      <td>420.0</td>\n",
       "    </tr>\n",
       "    <tr>\n",
       "      <th>1</th>\n",
       "      <td>1.585152e+12</td>\n",
       "      <td>1317.0</td>\n",
       "      <td>4.247156e+09</td>\n",
       "      <td>10.6.314.4405</td>\n",
       "      <td>[{'summonerName': 'LPL Player'}, {'summonerNam...</td>\n",
       "      <td>[{'participantId': 1, 'teamId': 100, 'champion...</td>\n",
       "      <td>420.0</td>\n",
       "    </tr>\n",
       "    <tr>\n",
       "      <th>2</th>\n",
       "      <td>1.585059e+12</td>\n",
       "      <td>932.0</td>\n",
       "      <td>4.243963e+09</td>\n",
       "      <td>10.6.313.8894</td>\n",
       "      <td>[{'summonerName': '호잇이'}, {'summonerName': 'Ge...</td>\n",
       "      <td>[{'participantId': 1, 'teamId': 100, 'champion...</td>\n",
       "      <td>420.0</td>\n",
       "    </tr>\n",
       "    <tr>\n",
       "      <th>3</th>\n",
       "      <td>1.584978e+12</td>\n",
       "      <td>2098.0</td>\n",
       "      <td>4.241678e+09</td>\n",
       "      <td>10.6.313.8894</td>\n",
       "      <td>[{'summonerName': '213321123'}, {'summonerName...</td>\n",
       "      <td>[{'participantId': 1, 'teamId': 100, 'champion...</td>\n",
       "      <td>420.0</td>\n",
       "    </tr>\n",
       "    <tr>\n",
       "      <th>4</th>\n",
       "      <td>1.584973e+12</td>\n",
       "      <td>2344.0</td>\n",
       "      <td>4.241539e+09</td>\n",
       "      <td>10.6.313.8894</td>\n",
       "      <td>[{'summonerName': 'ggffggg'}, {'summonerName':...</td>\n",
       "      <td>[{'participantId': 1, 'teamId': 100, 'champion...</td>\n",
       "      <td>420.0</td>\n",
       "    </tr>\n",
       "  </tbody>\n",
       "</table>\n",
       "</div>"
      ],
      "text/plain": [
       "   gameCreation  gameDuration        gameId    gameVersion  \\\n",
       "0  1.585155e+12        1323.0  4.247263e+09  10.6.314.4405   \n",
       "1  1.585152e+12        1317.0  4.247156e+09  10.6.314.4405   \n",
       "2  1.585059e+12         932.0  4.243963e+09  10.6.313.8894   \n",
       "3  1.584978e+12        2098.0  4.241678e+09  10.6.313.8894   \n",
       "4  1.584973e+12        2344.0  4.241539e+09  10.6.313.8894   \n",
       "\n",
       "                               participantIdentities  \\\n",
       "0  [{'summonerName': '쪼렙이다말로하자'}, {'summonerName'...   \n",
       "1  [{'summonerName': 'LPL Player'}, {'summonerNam...   \n",
       "2  [{'summonerName': '호잇이'}, {'summonerName': 'Ge...   \n",
       "3  [{'summonerName': '213321123'}, {'summonerName...   \n",
       "4  [{'summonerName': 'ggffggg'}, {'summonerName':...   \n",
       "\n",
       "                                        participants  queueId  \n",
       "0  [{'participantId': 1, 'teamId': 100, 'champion...    420.0  \n",
       "1  [{'participantId': 1, 'teamId': 100, 'champion...    420.0  \n",
       "2  [{'participantId': 1, 'teamId': 100, 'champion...    420.0  \n",
       "3  [{'participantId': 1, 'teamId': 100, 'champion...    420.0  \n",
       "4  [{'participantId': 1, 'teamId': 100, 'champion...    420.0  "
      ]
     },
     "execution_count": 110,
     "metadata": {},
     "output_type": "execute_result"
    }
   ],
   "source": [
    "df_match.head()"
   ]
  },
  {
   "cell_type": "markdown",
   "metadata": {},
   "source": [
    "# 4. Changing the version to just show the patch:\n",
    "Removing the tails of the patch numbers: 10.6.314.4405 --> 10.6"
   ]
  },
  {
   "cell_type": "code",
   "execution_count": 115,
   "metadata": {},
   "outputs": [
    {
     "name": "stderr",
     "output_type": "stream",
     "text": [
      "/Users/andreasglassl/opt/miniconda3/envs/backpack_banana/lib/python3.7/site-packages/ipykernel_launcher.py:2: SettingWithCopyWarning: \n",
      "A value is trying to be set on a copy of a slice from a DataFrame\n",
      "\n",
      "See the caveats in the documentation: https://pandas.pydata.org/pandas-docs/stable/user_guide/indexing.html#returning-a-view-versus-a-copy\n",
      "  \n"
     ]
    }
   ],
   "source": [
    "for i in range(len(df_match)):\n",
    "    df_match[\"gameVersion\"][i] = df_match[\"gameVersion\"][i][:4]"
   ]
  },
  {
   "cell_type": "code",
   "execution_count": 129,
   "metadata": {},
   "outputs": [
    {
     "name": "stderr",
     "output_type": "stream",
     "text": [
      "/Users/andreasglassl/opt/miniconda3/envs/backpack_banana/lib/python3.7/site-packages/ipykernel_launcher.py:2: SettingWithCopyWarning: \n",
      "A value is trying to be set on a copy of a slice from a DataFrame\n",
      "\n",
      "See the caveats in the documentation: https://pandas.pydata.org/pandas-docs/stable/user_guide/indexing.html#returning-a-view-versus-a-copy\n",
      "  \n"
     ]
    }
   ],
   "source": [
    "for i in range(len(df_match)):\n",
    "    df_match[\"gameVersion\"][i]= df_match[\"gameVersion\"][i].strip(\".\")"
   ]
  },
  {
   "cell_type": "code",
   "execution_count": 136,
   "metadata": {},
   "outputs": [],
   "source": [
    "df_match[\"gameVersion\"]=df_match[\"gameVersion\"].astype(float)"
   ]
  },
  {
   "cell_type": "code",
   "execution_count": 138,
   "metadata": {},
   "outputs": [],
   "source": [
    "df_match.to_pickle(\"../Data/Match_Info/match_data.pickle\")"
   ]
  },
  {
   "cell_type": "code",
   "execution_count": null,
   "metadata": {},
   "outputs": [],
   "source": []
  }
 ],
 "metadata": {
  "kernelspec": {
   "display_name": "Python 3",
   "language": "python",
   "name": "python3"
  },
  "language_info": {
   "codemirror_mode": {
    "name": "ipython",
    "version": 3
   },
   "file_extension": ".py",
   "mimetype": "text/x-python",
   "name": "python",
   "nbconvert_exporter": "python",
   "pygments_lexer": "ipython3",
   "version": "3.7.6"
  }
 },
 "nbformat": 4,
 "nbformat_minor": 4
}
