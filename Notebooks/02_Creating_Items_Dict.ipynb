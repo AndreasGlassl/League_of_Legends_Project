{
 "cells": [
  {
   "cell_type": "code",
   "execution_count": 1,
   "metadata": {},
   "outputs": [],
   "source": [
    "import pandas as pd\n",
    "import numpy as np\n",
    "import json as js"
   ]
  },
  {
   "cell_type": "markdown",
   "metadata": {},
   "source": [
    "# 1. Reading the item file:\n",
    "The relevant columns for describing the items are:\n",
    "        - item_id\n",
    "        - name\n",
    "        - upper_item\n",
    "        - tag\n",
    "\n",
    "The *item_id* and the *name* will be used later to match the information on the match data, while the upper item gives the possiblilty to check wether the item is completed or if it can still be upgraded into a more powerful item. The tag shows what kind of item it is, such as providing:\n",
    "        - health\n",
    "        - mana\n",
    "        - regeneration\n",
    "        - attack damage\n",
    "        - etc."
   ]
  },
  {
   "cell_type": "code",
   "execution_count": 2,
   "metadata": {},
   "outputs": [],
   "source": [
    "items = pd.read_csv(\"../Data/Champions_Items_Info/riot_item.csv\")"
   ]
  },
  {
   "cell_type": "code",
   "execution_count": 16,
   "metadata": {},
   "outputs": [],
   "source": [
    "items = items[[\"item_id\", \"name\", \"upper_item\", \"tag\"]]"
   ]
  },
  {
   "cell_type": "code",
   "execution_count": 23,
   "metadata": {},
   "outputs": [],
   "source": [
    "items = items.astype({\"item_id\":\"str\"})"
   ]
  },
  {
   "cell_type": "markdown",
   "metadata": {},
   "source": [
    "# 2. Creating a dicitionary:\n",
    "the **NaNs** need to be replaced, for **tag** and for **upper item**."
   ]
  },
  {
   "cell_type": "code",
   "execution_count": 39,
   "metadata": {},
   "outputs": [],
   "source": [
    "filling_values = {\"upper_item\":\"[]\", \"tag\":\"\"}"
   ]
  },
  {
   "cell_type": "code",
   "execution_count": 42,
   "metadata": {},
   "outputs": [],
   "source": [
    "items = items.fillna(filling_values)"
   ]
  },
  {
   "cell_type": "code",
   "execution_count": 44,
   "metadata": {},
   "outputs": [],
   "source": [
    "item_dict = {}"
   ]
  },
  {
   "cell_type": "code",
   "execution_count": 45,
   "metadata": {},
   "outputs": [],
   "source": [
    "for i in range(len(items)):\n",
    "    item_dict[items.iloc[i][0]]=[items.iloc[i][1],eval(items.iloc[i][2]),items.iloc[i][3]]"
   ]
  },
  {
   "cell_type": "code",
   "execution_count": 47,
   "metadata": {},
   "outputs": [],
   "source": [
    "with open('../Data/Champions_Items_Info/items.json', 'w') as f:\n",
    "    js.dump(item_dict, f)"
   ]
  },
  {
   "cell_type": "code",
   "execution_count": 49,
   "metadata": {},
   "outputs": [],
   "source": [
    "items.to_csv(\"../Data/Champions_Items_Info/items.csv\", index=False)"
   ]
  },
  {
   "cell_type": "code",
   "execution_count": null,
   "metadata": {},
   "outputs": [],
   "source": []
  }
 ],
 "metadata": {
  "kernelspec": {
   "display_name": "Python 3",
   "language": "python",
   "name": "python3"
  },
  "language_info": {
   "codemirror_mode": {
    "name": "ipython",
    "version": 3
   },
   "file_extension": ".py",
   "mimetype": "text/x-python",
   "name": "python",
   "nbconvert_exporter": "python",
   "pygments_lexer": "ipython3",
   "version": "3.7.6"
  }
 },
 "nbformat": 4,
 "nbformat_minor": 4
}
