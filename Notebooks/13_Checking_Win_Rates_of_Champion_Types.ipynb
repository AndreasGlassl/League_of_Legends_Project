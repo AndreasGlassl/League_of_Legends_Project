{
 "cells": [
  {
   "cell_type": "code",
   "execution_count": 1,
   "metadata": {},
   "outputs": [],
   "source": [
    "import pandas as pd\n",
    "import numpy as np"
   ]
  },
  {
   "cell_type": "code",
   "execution_count": 2,
   "metadata": {},
   "outputs": [],
   "source": [
    "df = pd.read_csv(\"../Data/Match_Data/prepared_dataset.csv\")"
   ]
  },
  {
   "cell_type": "code",
   "execution_count": 3,
   "metadata": {},
   "outputs": [],
   "source": [
    "champion_types = ['Fighter', 'Tank', 'Mage', 'Support', 'Marksman']"
   ]
  },
  {
   "cell_type": "code",
   "execution_count": 4,
   "metadata": {},
   "outputs": [],
   "source": [
    "win_rates = pd.DataFrame()"
   ]
  },
  {
   "cell_type": "code",
   "execution_count": 5,
   "metadata": {},
   "outputs": [],
   "source": [
    "champ_type = []\n",
    "games_played = []\n",
    "win_rate = []\n",
    "number = []\n",
    "for types in champion_types:\n",
    "    for i in range(6):\n",
    "        games_blue = len(df[df[types+\"_blue\"]==i])\n",
    "        if games_blue>0:\n",
    "            percent_blue = df[df[types+\"_blue\"]==i][\"blueWins\"].value_counts(1)[1]\n",
    "            champ_type.append(types)\n",
    "            games_played.append(games_blue)\n",
    "            win_rate.append(percent_blue)\n",
    "            number.append(i)\n",
    "        else:\n",
    "            champ_type.append(types)\n",
    "            games_played.append(0)\n",
    "            win_rate.append(0)\n",
    "            number.append(i)\n",
    "        "
   ]
  },
  {
   "cell_type": "code",
   "execution_count": 6,
   "metadata": {},
   "outputs": [],
   "source": [
    "rates = pd.DataFrame()"
   ]
  },
  {
   "cell_type": "code",
   "execution_count": 7,
   "metadata": {},
   "outputs": [],
   "source": [
    "rates[\"types\"]=champ_type"
   ]
  },
  {
   "cell_type": "code",
   "execution_count": 8,
   "metadata": {},
   "outputs": [],
   "source": [
    "rates[\"games_no\"]=games_played"
   ]
  },
  {
   "cell_type": "code",
   "execution_count": 9,
   "metadata": {},
   "outputs": [],
   "source": [
    "rates[\"win_rate\"]=win_rate"
   ]
  },
  {
   "cell_type": "code",
   "execution_count": 10,
   "metadata": {},
   "outputs": [],
   "source": [
    "rates[\"number\"]=number"
   ]
  },
  {
   "cell_type": "code",
   "execution_count": 11,
   "metadata": {},
   "outputs": [],
   "source": [
    "rates.pivot(index='types', columns='number', values='win_rate').T.to_csv(\"../Data/Match_Data/wr_types_blue.csv\")"
   ]
  },
  {
   "cell_type": "code",
   "execution_count": 12,
   "metadata": {},
   "outputs": [],
   "source": [
    "rates = pd.DataFrame()\n",
    "champ_type = []\n",
    "games_played = []\n",
    "win_rate = []\n",
    "number = []\n",
    "for types in champion_types:\n",
    "    for i in range(1,6):\n",
    "        games_red = len(df[df[types+\"_red\"]==i])\n",
    "        if games_red>5:\n",
    "            percent_red = df[df[types+\"_red\"]==i][\"blueWins\"].value_counts(1)[0]\n",
    "            champ_type.append(types)\n",
    "            games_played.append(games_red)\n",
    "            win_rate.append(percent_red)\n",
    "            number.append(i)\n",
    "        else:\n",
    "            champ_type.append(types)\n",
    "            games_played.append(0)\n",
    "            win_rate.append(0)\n",
    "            number.append(i)\n",
    "            \n",
    "rates[\"types\"]=champ_type\n",
    "rates[\"games_no\"]=games_played\n",
    "rates[\"win_rate\"]=win_rate\n",
    "rates[\"number\"]=number\n",
    "rates.pivot(index='types', columns='number', values='win_rate').T.to_csv(\"../Data/Match_Data/wr_types_red.csv\")"
   ]
  },
  {
   "cell_type": "code",
   "execution_count": 13,
   "metadata": {},
   "outputs": [
    {
     "data": {
      "text/plain": [
       "0.5002421733961516"
      ]
     },
     "execution_count": 13,
     "metadata": {},
     "output_type": "execute_result"
    }
   ],
   "source": [
    "df[\"blueWins\"].sum()/len(df)"
   ]
  },
  {
   "cell_type": "code",
   "execution_count": 14,
   "metadata": {},
   "outputs": [
    {
     "data": {
      "text/plain": [
       "0.4997578266038484"
      ]
     },
     "execution_count": 14,
     "metadata": {},
     "output_type": "execute_result"
    }
   ],
   "source": [
    "(len(df)-df[\"blueWins\"].sum())/len(df)"
   ]
  },
  {
   "cell_type": "code",
   "execution_count": 15,
   "metadata": {},
   "outputs": [
    {
     "data": {
      "text/plain": [
       "22711"
      ]
     },
     "execution_count": 15,
     "metadata": {},
     "output_type": "execute_result"
    }
   ],
   "source": [
    "len(df)"
   ]
  },
  {
   "cell_type": "code",
   "execution_count": 16,
   "metadata": {},
   "outputs": [
    {
     "data": {
      "text/plain": [
       "15789473.684210526"
      ]
     },
     "execution_count": 16,
     "metadata": {},
     "output_type": "execute_result"
    }
   ],
   "source": [
    "300/0.0019*100"
   ]
  },
  {
   "cell_type": "code",
   "execution_count": 18,
   "metadata": {},
   "outputs": [
    {
     "name": "stdout",
     "output_type": "stream",
     "text": [
      "0\n",
      "4910\n",
      "2422\n",
      "0.49327902240325866\n",
      "1\n",
      "10308\n",
      "5219\n",
      "0.5063057819169577\n",
      "2\n",
      "6147\n",
      "3057\n",
      "0.49731576378721326\n",
      "3\n",
      "1296\n",
      "626\n",
      "0.48302469135802467\n",
      "4\n",
      "49\n",
      "25\n",
      "0.5102040816326531\n"
     ]
    }
   ],
   "source": [
    "for i in range(5):\n",
    "    games_tot = len(df[df[\"Tank_red\"]==i])\n",
    "    if games_tot ==0:\n",
    "        games_tot=1\n",
    "    if len(df[df[\"Tank_red\"]==i][\"blueWins\"].value_counts())>1:\n",
    "        wins_blue = df[df[\"Tank_red\"]==i][\"blueWins\"].value_counts()[0]\n",
    "    win_rate = wins_blue/games_tot\n",
    "    print(i)\n",
    "    print(games_tot)\n",
    "    print(wins_blue)\n",
    "    print(win_rate)"
   ]
  },
  {
   "cell_type": "code",
   "execution_count": 19,
   "metadata": {},
   "outputs": [
    {
     "name": "stdout",
     "output_type": "stream",
     "text": [
      "0\n",
      "4860\n",
      "2437\n",
      "0.501440329218107\n",
      "1\n",
      "10409\n",
      "5185\n",
      "0.49812662119319817\n",
      "2\n",
      "6216\n",
      "3155\n",
      "0.5075611325611326\n",
      "3\n",
      "1176\n",
      "558\n",
      "0.4744897959183674\n",
      "4\n",
      "50\n",
      "26\n",
      "0.52\n"
     ]
    }
   ],
   "source": [
    "for i in range(5):\n",
    "    games_tot = len(df[df[\"Tank_blue\"]==i])\n",
    "    if games_tot ==0:\n",
    "        games_tot=1\n",
    "    if len(df[df[\"Tank_blue\"]==i][\"blueWins\"].value_counts())>1:\n",
    "        wins_blue = df[df[\"Tank_blue\"]==i][\"blueWins\"].value_counts()[1]\n",
    "    win_rate = wins_blue/games_tot\n",
    "    print(i)\n",
    "    print(games_tot)\n",
    "    print(wins_blue)\n",
    "    print(win_rate)"
   ]
  },
  {
   "cell_type": "code",
   "execution_count": null,
   "metadata": {},
   "outputs": [],
   "source": [
    "df.head()"
   ]
  },
  {
   "cell_type": "code",
   "execution_count": null,
   "metadata": {},
   "outputs": [],
   "source": [
    "print(\"Blue team:\\n\")\n",
    "print(\"Tank:\")\n",
    "print(df[df[\"blueWins\"]==1][\"Tank_blue\"].mean())\n",
    "print(\"Mage:\")\n",
    "print(df[df[\"blueWins\"]==1][\"Mage_blue\"].mean())\n",
    "print(\"Support:\")\n",
    "print(df[df[\"blueWins\"]==1][\"Support_blue\"].mean())\n",
    "print(\"Attack Damage:\")\n",
    "print(df[df[\"blueWins\"]==1][\"Marksman_blue\"].mean())\n",
    "print(\"Fighter:\")\n",
    "print(df[df[\"blueWins\"]==1][\"Fighter_blue\"].mean())"
   ]
  },
  {
   "cell_type": "code",
   "execution_count": null,
   "metadata": {},
   "outputs": [],
   "source": [
    "print(\"Red team:\\n\")\n",
    "print(\"Tank:\")\n",
    "print(df[df[\"blueWins\"]==1][\"Tank_blue\"].std())\n",
    "print(\"Mage:\")\n",
    "print(df[df[\"blueWins\"]==1][\"Mage_blue\"].std())\n",
    "print(\"Support:\")\n",
    "print(df[df[\"blueWins\"]==1][\"Support_blue\"].std())\n",
    "print(\"Attack Damage:\")\n",
    "print(df[df[\"blueWins\"]==1][\"Marksman_blue\"].std())\n",
    "print(\"Fighter:\")\n",
    "print(df[df[\"blueWins\"]==1][\"Fighter_blue\"].std())"
   ]
  },
  {
   "cell_type": "code",
   "execution_count": null,
   "metadata": {},
   "outputs": [],
   "source": [
    "df[df[\"blueWins\"]==0][[\"Tank_blue\", \"Mage_blue\", \"Support_blue\", \"Marksman_blue\"]].to_csv(\"../Data/Match_Data/for_box_plot.csv\")"
   ]
  },
  {
   "cell_type": "code",
   "execution_count": null,
   "metadata": {},
   "outputs": [],
   "source": []
  },
  {
   "cell_type": "code",
   "execution_count": null,
   "metadata": {},
   "outputs": [],
   "source": []
  },
  {
   "cell_type": "code",
   "execution_count": null,
   "metadata": {},
   "outputs": [],
   "source": []
  }
 ],
 "metadata": {
  "kernelspec": {
   "display_name": "Python 3",
   "language": "python",
   "name": "python3"
  },
  "language_info": {
   "codemirror_mode": {
    "name": "ipython",
    "version": 3
   },
   "file_extension": ".py",
   "mimetype": "text/x-python",
   "name": "python",
   "nbconvert_exporter": "python",
   "pygments_lexer": "ipython3",
   "version": "3.7.6"
  }
 },
 "nbformat": 4,
 "nbformat_minor": 4
}
